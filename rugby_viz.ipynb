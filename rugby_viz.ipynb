{
 "cells": [
  {
   "cell_type": "code",
   "execution_count": 25,
   "metadata": {
    "collapsed": false
   },
   "outputs": [
    {
     "data": {
      "text/html": [
       "<script>requirejs.config({paths: { 'plotly': ['https://cdn.plot.ly/plotly-latest.min']},});if(!window.Plotly) {{require(['plotly'],function(plotly) {window.Plotly=plotly;});}}</script>"
      ],
      "text/vnd.plotly.v1+html": [
       "<script>requirejs.config({paths: { 'plotly': ['https://cdn.plot.ly/plotly-latest.min']},});if(!window.Plotly) {{require(['plotly'],function(plotly) {window.Plotly=plotly;});}}</script>"
      ]
     },
     "metadata": {},
     "output_type": "display_data"
    }
   ],
   "source": [
    "import pandas as pd\n",
    "from plotly.offline import download_plotlyjs, init_notebook_mode, plot, iplot\n",
    "init_notebook_mode(connected=True)\n",
    "import plotly.graph_objs as go"
   ]
  },
  {
   "cell_type": "code",
   "execution_count": 26,
   "metadata": {
    "collapsed": false
   },
   "outputs": [],
   "source": [
    "#Currently importing csv manually - need to scrape website\n",
    "df = pd.read_csv('rugby.csv',names=['rank','change','team','points'])\n",
    "df.drop('change',axis=1,inplace=True)"
   ]
  },
  {
   "cell_type": "code",
   "execution_count": 33,
   "metadata": {
    "collapsed": true
   },
   "outputs": [],
   "source": [
    "scl = [[0.0,'rgb(242,240,247)'],[0.2,'rgb(218,218,235)'],[0.4,'rgb(188,189,220)'],\n",
    "       [0.6,'rgb(158,154,200)'],[0.8,'rgb(117,107,177)'],[1.0,'rgb(84,39,154)']]\n"
   ]
  },
  {
   "cell_type": "code",
   "execution_count": 34,
   "metadata": {
    "collapsed": false
   },
   "outputs": [
    {
     "data": {
      "application/vnd.plotly.v1+json": {
       "data": [
        {
         "autocolorscale": false,
         "colorscale": [
          [
           0,
           "rgb(242,240,247)"
          ],
          [
           0.2,
           "rgb(218,218,235)"
          ],
          [
           0.4,
           "rgb(188,189,220)"
          ],
          [
           0.6,
           "rgb(158,154,200)"
          ],
          [
           0.8,
           "rgb(117,107,177)"
          ],
          [
           1,
           "rgb(84,39,154)"
          ]
         ],
         "locationmode": "country names",
         "locations": [
          "New Zealand",
          "Ireland",
          "Wales",
          "Australia",
          "South Africa",
          "England",
          "Scotland",
          "France",
          "Fiji",
          "Argentina",
          "Japan",
          "Georgia",
          "Italy",
          "Tonga",
          "United States",
          "Romania",
          "Samoa",
          "Uruguay",
          "Russia",
          "Spain",
          "Hong Kong",
          "Canada",
          "Namibia",
          "Portugal",
          "Belgium",
          "Brazil",
          "Netherlands",
          "Kenya",
          "Germany",
          "Chile"
         ],
         "text": [
          "New Zealand",
          "Ireland",
          "Wales",
          "Australia",
          "South Africa",
          "England",
          "Scotland",
          "France",
          "Fiji",
          "Argentina",
          "Japan",
          "Georgia",
          "Italy",
          "Tonga",
          "United States",
          "Romania",
          "Samoa",
          "Uruguay",
          "Russia",
          "Spain",
          "Hong Kong",
          "Canada",
          "Namibia",
          "Portugal",
          "Belgium",
          "Brazil",
          "Netherlands",
          "Kenya",
          "Germany",
          "Chile"
         ],
         "type": "choropleth",
         "z": [
          93.99,
          89.2,
          85.94,
          85.41,
          84.65,
          84.35,
          81.83,
          79.1,
          78.51,
          76.73,
          74.2,
          74.18,
          72.56,
          71.88,
          71.39,
          68.25,
          68.24,
          65.37,
          64.89,
          63.09,
          60.46,
          60.2,
          58.93,
          58.3,
          58.09,
          56.81,
          56.52,
          55.66,
          55.63,
          54.36
         ]
        }
       ],
       "layout": {}
      },
      "text/html": [
       "<div id=\"52c97902-1b9e-4fde-a6cb-dbf8fa28342f\" style=\"height: 525px; width: 100%;\" class=\"plotly-graph-div\"></div><script type=\"text/javascript\">require([\"plotly\"], function(Plotly) { window.PLOTLYENV=window.PLOTLYENV || {};window.PLOTLYENV.BASE_URL=\"https://plot.ly\";Plotly.newPlot(\"52c97902-1b9e-4fde-a6cb-dbf8fa28342f\", [{\"autocolorscale\": false, \"z\": [93.99, 89.2, 85.94, 85.41, 84.65, 84.35, 81.83, 79.1, 78.51, 76.73, 74.2, 74.18, 72.56, 71.88, 71.39, 68.25, 68.24, 65.37, 64.89, 63.09, 60.46, 60.2, 58.93, 58.3, 58.09, 56.81, 56.52, 55.66, 55.63, 54.36], \"type\": \"choropleth\", \"locationmode\": \"country names\", \"colorscale\": [[0.0, \"rgb(242,240,247)\"], [0.2, \"rgb(218,218,235)\"], [0.4, \"rgb(188,189,220)\"], [0.6, \"rgb(158,154,200)\"], [0.8, \"rgb(117,107,177)\"], [1.0, \"rgb(84,39,154)\"]], \"text\": [\"New Zealand\", \"Ireland\", \"Wales\", \"Australia\", \"South Africa\", \"England\", \"Scotland\", \"France\", \"Fiji\", \"Argentina\", \"Japan\", \"Georgia\", \"Italy\", \"Tonga\", \"United States\", \"Romania\", \"Samoa\", \"Uruguay\", \"Russia\", \"Spain\", \"Hong Kong\", \"Canada\", \"Namibia\", \"Portugal\", \"Belgium\", \"Brazil\", \"Netherlands\", \"Kenya\", \"Germany\", \"Chile\"], \"locations\": [\"New Zealand\", \"Ireland\", \"Wales\", \"Australia\", \"South Africa\", \"England\", \"Scotland\", \"France\", \"Fiji\", \"Argentina\", \"Japan\", \"Georgia\", \"Italy\", \"Tonga\", \"United States\", \"Romania\", \"Samoa\", \"Uruguay\", \"Russia\", \"Spain\", \"Hong Kong\", \"Canada\", \"Namibia\", \"Portugal\", \"Belgium\", \"Brazil\", \"Netherlands\", \"Kenya\", \"Germany\", \"Chile\"]}], {}, {\"showLink\": true, \"linkText\": \"Export to plot.ly\"})});</script>"
      ],
      "text/vnd.plotly.v1+html": [
       "<div id=\"52c97902-1b9e-4fde-a6cb-dbf8fa28342f\" style=\"height: 525px; width: 100%;\" class=\"plotly-graph-div\"></div><script type=\"text/javascript\">require([\"plotly\"], function(Plotly) { window.PLOTLYENV=window.PLOTLYENV || {};window.PLOTLYENV.BASE_URL=\"https://plot.ly\";Plotly.newPlot(\"52c97902-1b9e-4fde-a6cb-dbf8fa28342f\", [{\"autocolorscale\": false, \"z\": [93.99, 89.2, 85.94, 85.41, 84.65, 84.35, 81.83, 79.1, 78.51, 76.73, 74.2, 74.18, 72.56, 71.88, 71.39, 68.25, 68.24, 65.37, 64.89, 63.09, 60.46, 60.2, 58.93, 58.3, 58.09, 56.81, 56.52, 55.66, 55.63, 54.36], \"type\": \"choropleth\", \"locationmode\": \"country names\", \"colorscale\": [[0.0, \"rgb(242,240,247)\"], [0.2, \"rgb(218,218,235)\"], [0.4, \"rgb(188,189,220)\"], [0.6, \"rgb(158,154,200)\"], [0.8, \"rgb(117,107,177)\"], [1.0, \"rgb(84,39,154)\"]], \"text\": [\"New Zealand\", \"Ireland\", \"Wales\", \"Australia\", \"South Africa\", \"England\", \"Scotland\", \"France\", \"Fiji\", \"Argentina\", \"Japan\", \"Georgia\", \"Italy\", \"Tonga\", \"United States\", \"Romania\", \"Samoa\", \"Uruguay\", \"Russia\", \"Spain\", \"Hong Kong\", \"Canada\", \"Namibia\", \"Portugal\", \"Belgium\", \"Brazil\", \"Netherlands\", \"Kenya\", \"Germany\", \"Chile\"], \"locations\": [\"New Zealand\", \"Ireland\", \"Wales\", \"Australia\", \"South Africa\", \"England\", \"Scotland\", \"France\", \"Fiji\", \"Argentina\", \"Japan\", \"Georgia\", \"Italy\", \"Tonga\", \"United States\", \"Romania\", \"Samoa\", \"Uruguay\", \"Russia\", \"Spain\", \"Hong Kong\", \"Canada\", \"Namibia\", \"Portugal\", \"Belgium\", \"Brazil\", \"Netherlands\", \"Kenya\", \"Germany\", \"Chile\"]}], {}, {\"showLink\": true, \"linkText\": \"Export to plot.ly\"})});</script>"
      ]
     },
     "metadata": {},
     "output_type": "display_data"
    }
   ],
   "source": [
    "data = [dict(\n",
    "    type='choropleth',\n",
    "    z=df['points'],\n",
    "    colorscale=scl,\n",
    "    autocolorscale=False,\n",
    "    text = df['team'],\n",
    "    locations=df['team'],\n",
    "    locationmode = 'country names')]\n",
    "\n",
    "fig = dict(data=data)\n",
    "iplot(fig)"
   ]
  },
  {
   "cell_type": "code",
   "execution_count": null,
   "metadata": {
    "collapsed": true
   },
   "outputs": [],
   "source": []
  }
 ],
 "metadata": {
  "kernelspec": {
   "display_name": "Python [conda env:Anaconda3]",
   "language": "python",
   "name": "conda-env-Anaconda3-py"
  },
  "language_info": {
   "codemirror_mode": {
    "name": "ipython",
    "version": 3
   },
   "file_extension": ".py",
   "mimetype": "text/x-python",
   "name": "python",
   "nbconvert_exporter": "python",
   "pygments_lexer": "ipython3",
   "version": "3.5.2"
  }
 },
 "nbformat": 4,
 "nbformat_minor": 2
}
