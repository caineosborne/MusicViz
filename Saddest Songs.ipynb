{
 "cells": [
  {
   "cell_type": "code",
   "execution_count": 1,
   "metadata": {
    "collapsed": false
   },
   "outputs": [
    {
     "name": "stderr",
     "output_type": "stream",
     "text": [
      "C:\\Users\\caine\\Anaconda3\\lib\\site-packages\\requests\\__init__.py:80: RequestsDependencyWarning: urllib3 (1.22) or chardet (2.3.0) doesn't match a supported version!\n",
      "  RequestsDependencyWarning)\n"
     ]
    },
    {
     "data": {
      "text/html": [
       "<script>requirejs.config({paths: { 'plotly': ['https://cdn.plot.ly/plotly-latest.min']},});if(!window.Plotly) {{require(['plotly'],function(plotly) {window.Plotly=plotly;});}}</script>"
      ],
      "text/vnd.plotly.v1+html": [
       "<script>requirejs.config({paths: { 'plotly': ['https://cdn.plot.ly/plotly-latest.min']},});if(!window.Plotly) {{require(['plotly'],function(plotly) {window.Plotly=plotly;});}}</script>"
      ]
     },
     "metadata": {},
     "output_type": "display_data"
    }
   ],
   "source": [
    "import spotipy \n",
    "import sys\n",
    "from spotipy.oauth2 import SpotifyClientCredentials\n",
    "import pandas as pd\n",
    "%matplotlib inline\n",
    "import plotly as plt\n",
    "import plotly.graph_objs as go\n",
    "from plotly.offline import download_plotlyjs, init_notebook_mode, plot, iplot\n",
    "init_notebook_mode(connected=True)"
   ]
  },
  {
   "cell_type": "code",
   "execution_count": 2,
   "metadata": {
    "collapsed": true
   },
   "outputs": [],
   "source": [
    "\n",
    "client_credentials_manager = SpotifyClientCredentials(client_id='48928fe2c90a4776b6ca5f5542feaace',\n",
    "                                                      client_secret='a17ff5d3a98443fd91100a2b4b2eb6da')\n",
    "\n",
    "\n",
    "sp = spotipy.Spotify(client_credentials_manager=client_credentials_manager)"
   ]
  },
  {
   "cell_type": "code",
   "execution_count": 3,
   "metadata": {
    "collapsed": true
   },
   "outputs": [],
   "source": [
    "def get_album_valence(album):\n",
    "    album_v = []\n",
    "    for i in sp.album_tracks(get_album(album)['id'])['items']:\n",
    "        track_v = []\n",
    "        track_v.append(i['name'])\n",
    "        track_v.append(get_valence_id(i['id']))\n",
    "        album_v.append(track_v)\n",
    "    return album_v\n",
    "\n"
   ]
  },
  {
   "cell_type": "code",
   "execution_count": 4,
   "metadata": {
    "collapsed": true
   },
   "outputs": [],
   "source": [
    "def get_album(album):\n",
    "    results = sp.search(q=album, type='album')\n",
    "    items = results['albums']['items']\n",
    "    return items[0]"
   ]
  },
  {
   "cell_type": "code",
   "execution_count": 5,
   "metadata": {
    "collapsed": true
   },
   "outputs": [],
   "source": [
    "def get_valence_id(id):\n",
    "    results = sp.audio_features(id)\n",
    "    return results[0]['valence']\n"
   ]
  },
  {
   "cell_type": "code",
   "execution_count": null,
   "metadata": {
    "collapsed": true
   },
   "outputs": [],
   "source": []
  },
  {
   "cell_type": "code",
   "execution_count": 15,
   "metadata": {
    "collapsed": true
   },
   "outputs": [],
   "source": [
    "def get_album_stats(album):\n",
    "    df = pd.DataFrame(get_album_valence(album),columns=['title','valence'])\n",
    "    data = [go.Bar(\n",
    "        x=df['title'],\n",
    "        y = df['valence'],\n",
    "        text = df['title'])]\n",
    "    iplot(data)\n",
    "    return df"
   ]
  },
  {
   "cell_type": "code",
   "execution_count": 17,
   "metadata": {
    "collapsed": false
   },
   "outputs": [
    {
     "data": {
      "application/vnd.plotly.v1+json": {
       "data": [
        {
         "text": [
          "Fight Fire With Fire (Remastered)",
          "Ride The Lightning (Remastered)",
          "For Whom The Bell Tolls (Remastered)",
          "Fade To Black (Remastered)",
          "Trapped Under Ice (Remastered)",
          "Escape (Remastered)",
          "Creeping Death (Remastered)",
          "The Call Of Ktulu (Remastered)",
          "The Ecstasy of Gold",
          "Fight Fire With Fire (Live at The Hollywood Palladium, Los Angeles, CA – March 10th, 1985)",
          "Ride The Lightning (Live at The Hollywood Palladium, Los Angeles, CA – March 10th, 1985)",
          "Phantom Lord (Live at The Hollywood Palladium, Los Angeles, CA – March 10th, 1985)",
          "(Anesthesia) – Pulling Teeth (Live at The Hollywood Palladium, Los Angeles, CA – March 10th, 1985)",
          "For Whom The Bell Tolls (Live at The Hollywood Palladium, Los Angeles, CA – March 10th, 1985)",
          "No Remorse (Live at The Hollywood Palladium, Los Angeles, CA – March 10th, 1985)",
          "Fade To Black (Live at The Hollywood Palladium, Los Angeles, CA – March 10th, 1985)",
          "Seek & Destroy (Live at The Hollywood Palladium, Los Angeles, CA – March 10th, 1985)",
          "Creeping Death (Live at The Hollywood Palladium, Los Angeles, CA – March 10th, 1985)",
          "Am I Evil? (Live at The Hollywood Palladium, Los Angeles, CA – March 10th, 1985)",
          "Motorbreath (Live at The Hollywood Palladium, Los Angeles, CA – March 10th, 1985)",
          "Am I Evil? (Remastered)",
          "Blitzkrieg (Remastered)",
          "Ride The Lightning (Studio Demo)",
          "When Hell Freezes Over (The Call of Ktulu) (Studio Demo)",
          "Creeping Death (Studio Demo)",
          "Fight Fire With Fire (Studio Demo)",
          "Ride The Lightning (Garage Demo)",
          "When Hell Freezes Over (The Call of Ktulu) (Garage Demo)",
          "Fight Fire With Fire (Garage Demo)",
          "Ride The Lightning (Boom Box Demo)",
          "Blitzkrieg (Rhythm Track Rough Mix)",
          "Am I Evil? (Rhythm Track Rough Mix)",
          "Fight Fire With Fire (Live at Kabuki Theatre, San Francisco, CA – March 15th, 1985)",
          "Ride The Lightning (Live at Kabuki Theatre, San Francisco, CA – March 15th, 1985)",
          "Phantom Lord (Live at Kabuki Theatre, San Francisco, CA – March 15th, 1985)",
          "The Four Horsemen (Live at Kabuki Theatre, San Francisco, CA – March 15th, 1985)",
          "(Anesthesia) – Pulling Teeth (Live at Kabuki Theatre, San Francisco, CA – March 15th, 1985)",
          "For Whom The Bell Tolls (Live at Kabuki Theatre, San Francisco, CA – March 15th, 1985)",
          "No Remorse (Live at Kabuki Theatre, San Francisco, CA – March 15th, 1985)",
          "Fade To Black (Live at Kabuki Theatre, San Francisco, CA – March 15th, 1985)",
          "Creeping Death (Live at Kabuki Theatre, San Francisco, CA – March 15th, 1985)",
          "Guitar Solo (Live at Kabuki Theatre, San Francisco, CA – March 15th, 1985)",
          "Am I Evil? (Live at Kabuki Theatre, San Francisco, CA – March 15th, 1985)",
          "Motorbreath (Live at Kabuki Theatre, San Francisco, CA – March 15th, 1985)",
          "Phantom Lord (Live at The Lyceum Theatre, London, UK – December 20th, 1984)",
          "The Four Horsemen (Live at The Lyceum Theatre, London, UK – December 20th, 1984)",
          "(Anesthesia) – Pulling Teeth (Live at The Lyceum Theatre, London, UK – December 20th, 1984)",
          "For Whom The Bell Tolls (Live at The Lyceum Theatre, London, UK – December 20th, 1984)",
          "No Remorse (Live at The Lyceum Theatre, London, UK – December 20th, 1984)",
          "The Call of Ktulu (Live at The Lyceum Theatre, London, UK – December 20th, 1984)"
         ],
         "type": "bar",
         "x": [
          "Fight Fire With Fire (Remastered)",
          "Ride The Lightning (Remastered)",
          "For Whom The Bell Tolls (Remastered)",
          "Fade To Black (Remastered)",
          "Trapped Under Ice (Remastered)",
          "Escape (Remastered)",
          "Creeping Death (Remastered)",
          "The Call Of Ktulu (Remastered)",
          "The Ecstasy of Gold",
          "Fight Fire With Fire (Live at The Hollywood Palladium, Los Angeles, CA – March 10th, 1985)",
          "Ride The Lightning (Live at The Hollywood Palladium, Los Angeles, CA – March 10th, 1985)",
          "Phantom Lord (Live at The Hollywood Palladium, Los Angeles, CA – March 10th, 1985)",
          "(Anesthesia) – Pulling Teeth (Live at The Hollywood Palladium, Los Angeles, CA – March 10th, 1985)",
          "For Whom The Bell Tolls (Live at The Hollywood Palladium, Los Angeles, CA – March 10th, 1985)",
          "No Remorse (Live at The Hollywood Palladium, Los Angeles, CA – March 10th, 1985)",
          "Fade To Black (Live at The Hollywood Palladium, Los Angeles, CA – March 10th, 1985)",
          "Seek & Destroy (Live at The Hollywood Palladium, Los Angeles, CA – March 10th, 1985)",
          "Creeping Death (Live at The Hollywood Palladium, Los Angeles, CA – March 10th, 1985)",
          "Am I Evil? (Live at The Hollywood Palladium, Los Angeles, CA – March 10th, 1985)",
          "Motorbreath (Live at The Hollywood Palladium, Los Angeles, CA – March 10th, 1985)",
          "Am I Evil? (Remastered)",
          "Blitzkrieg (Remastered)",
          "Ride The Lightning (Studio Demo)",
          "When Hell Freezes Over (The Call of Ktulu) (Studio Demo)",
          "Creeping Death (Studio Demo)",
          "Fight Fire With Fire (Studio Demo)",
          "Ride The Lightning (Garage Demo)",
          "When Hell Freezes Over (The Call of Ktulu) (Garage Demo)",
          "Fight Fire With Fire (Garage Demo)",
          "Ride The Lightning (Boom Box Demo)",
          "Blitzkrieg (Rhythm Track Rough Mix)",
          "Am I Evil? (Rhythm Track Rough Mix)",
          "Fight Fire With Fire (Live at Kabuki Theatre, San Francisco, CA – March 15th, 1985)",
          "Ride The Lightning (Live at Kabuki Theatre, San Francisco, CA – March 15th, 1985)",
          "Phantom Lord (Live at Kabuki Theatre, San Francisco, CA – March 15th, 1985)",
          "The Four Horsemen (Live at Kabuki Theatre, San Francisco, CA – March 15th, 1985)",
          "(Anesthesia) – Pulling Teeth (Live at Kabuki Theatre, San Francisco, CA – March 15th, 1985)",
          "For Whom The Bell Tolls (Live at Kabuki Theatre, San Francisco, CA – March 15th, 1985)",
          "No Remorse (Live at Kabuki Theatre, San Francisco, CA – March 15th, 1985)",
          "Fade To Black (Live at Kabuki Theatre, San Francisco, CA – March 15th, 1985)",
          "Creeping Death (Live at Kabuki Theatre, San Francisco, CA – March 15th, 1985)",
          "Guitar Solo (Live at Kabuki Theatre, San Francisco, CA – March 15th, 1985)",
          "Am I Evil? (Live at Kabuki Theatre, San Francisco, CA – March 15th, 1985)",
          "Motorbreath (Live at Kabuki Theatre, San Francisco, CA – March 15th, 1985)",
          "Phantom Lord (Live at The Lyceum Theatre, London, UK – December 20th, 1984)",
          "The Four Horsemen (Live at The Lyceum Theatre, London, UK – December 20th, 1984)",
          "(Anesthesia) – Pulling Teeth (Live at The Lyceum Theatre, London, UK – December 20th, 1984)",
          "For Whom The Bell Tolls (Live at The Lyceum Theatre, London, UK – December 20th, 1984)",
          "No Remorse (Live at The Lyceum Theatre, London, UK – December 20th, 1984)",
          "The Call of Ktulu (Live at The Lyceum Theatre, London, UK – December 20th, 1984)"
         ],
         "y": [
          0.161,
          0.284,
          0.261,
          0.288,
          0.057,
          0.526,
          0.178,
          0.14,
          0.121,
          0.171,
          0.0886,
          0.0543,
          0.16,
          0.172,
          0.0398,
          0.257,
          0.265,
          0.208,
          0.408,
          0.155,
          0.518,
          0.607,
          0.277,
          0.138,
          0.149,
          0.0548,
          0.171,
          0.168,
          0.131,
          0.31,
          0.551,
          0.522,
          0.255,
          0.345,
          0.2,
          0.367,
          0.0888,
          0.357,
          0.288,
          0.396,
          0.27,
          0.111,
          0.302,
          0.144,
          0.264,
          0.363,
          0.486,
          0.474,
          0.118,
          0.231
         ]
        }
       ],
       "layout": {}
      },
      "text/html": [
       "<div id=\"05f285c6-db56-4986-8c29-5429e5c882e3\" style=\"height: 525px; width: 100%;\" class=\"plotly-graph-div\"></div><script type=\"text/javascript\">require([\"plotly\"], function(Plotly) { window.PLOTLYENV=window.PLOTLYENV || {};window.PLOTLYENV.BASE_URL=\"https://plot.ly\";Plotly.newPlot(\"05f285c6-db56-4986-8c29-5429e5c882e3\", [{\"type\": \"bar\", \"text\": [\"Fight Fire With Fire (Remastered)\", \"Ride The Lightning (Remastered)\", \"For Whom The Bell Tolls (Remastered)\", \"Fade To Black (Remastered)\", \"Trapped Under Ice (Remastered)\", \"Escape (Remastered)\", \"Creeping Death (Remastered)\", \"The Call Of Ktulu (Remastered)\", \"The Ecstasy of Gold\", \"Fight Fire With Fire (Live at The Hollywood Palladium, Los Angeles, CA \\u2013 March 10th, 1985)\", \"Ride The Lightning (Live at The Hollywood Palladium, Los Angeles, CA \\u2013 March 10th, 1985)\", \"Phantom Lord (Live at The Hollywood Palladium, Los Angeles, CA \\u2013 March 10th, 1985)\", \"(Anesthesia) \\u2013 Pulling Teeth (Live at The Hollywood Palladium, Los Angeles, CA \\u2013 March 10th, 1985)\", \"For Whom The Bell Tolls (Live at The Hollywood Palladium, Los Angeles, CA \\u2013 March 10th, 1985)\", \"No Remorse (Live at The Hollywood Palladium, Los Angeles, CA \\u2013 March 10th, 1985)\", \"Fade To Black (Live at The Hollywood Palladium, Los Angeles, CA \\u2013 March 10th, 1985)\", \"Seek & Destroy (Live at The Hollywood Palladium, Los Angeles, CA \\u2013 March 10th, 1985)\", \"Creeping Death (Live at The Hollywood Palladium, Los Angeles, CA \\u2013 March 10th, 1985)\", \"Am I Evil? (Live at The Hollywood Palladium, Los Angeles, CA \\u2013 March 10th, 1985)\", \"Motorbreath (Live at The Hollywood Palladium, Los Angeles, CA \\u2013 March 10th, 1985)\", \"Am I Evil? (Remastered)\", \"Blitzkrieg (Remastered)\", \"Ride The Lightning (Studio Demo)\", \"When Hell Freezes Over (The Call of Ktulu) (Studio Demo)\", \"Creeping Death (Studio Demo)\", \"Fight Fire With Fire (Studio Demo)\", \"Ride The Lightning (Garage Demo)\", \"When Hell Freezes Over (The Call of Ktulu) (Garage Demo)\", \"Fight Fire With Fire (Garage Demo)\", \"Ride The Lightning (Boom Box Demo)\", \"Blitzkrieg (Rhythm Track Rough Mix)\", \"Am I Evil? (Rhythm Track Rough Mix)\", \"Fight Fire With Fire (Live at Kabuki Theatre, San Francisco, CA \\u2013 March 15th, 1985)\", \"Ride The Lightning (Live at Kabuki Theatre, San Francisco, CA \\u2013 March 15th, 1985)\", \"Phantom Lord (Live at Kabuki Theatre, San Francisco, CA \\u2013 March 15th, 1985)\", \"The Four Horsemen (Live at Kabuki Theatre, San Francisco, CA \\u2013 March 15th, 1985)\", \"(Anesthesia) \\u2013 Pulling Teeth (Live at Kabuki Theatre, San Francisco, CA \\u2013 March 15th, 1985)\", \"For Whom The Bell Tolls (Live at Kabuki Theatre, San Francisco, CA \\u2013 March 15th, 1985)\", \"No Remorse (Live at Kabuki Theatre, San Francisco, CA \\u2013 March 15th, 1985)\", \"Fade To Black (Live at Kabuki Theatre, San Francisco, CA \\u2013 March 15th, 1985)\", \"Creeping Death (Live at Kabuki Theatre, San Francisco, CA \\u2013 March 15th, 1985)\", \"Guitar Solo (Live at Kabuki Theatre, San Francisco, CA \\u2013 March 15th, 1985)\", \"Am I Evil? (Live at Kabuki Theatre, San Francisco, CA \\u2013 March 15th, 1985)\", \"Motorbreath (Live at Kabuki Theatre, San Francisco, CA \\u2013 March 15th, 1985)\", \"Phantom Lord (Live at The Lyceum Theatre, London, UK \\u2013 December 20th, 1984)\", \"The Four Horsemen (Live at The Lyceum Theatre, London, UK \\u2013 December 20th, 1984)\", \"(Anesthesia) \\u2013 Pulling Teeth (Live at The Lyceum Theatre, London, UK \\u2013 December 20th, 1984)\", \"For Whom The Bell Tolls (Live at The Lyceum Theatre, London, UK \\u2013 December 20th, 1984)\", \"No Remorse (Live at The Lyceum Theatre, London, UK \\u2013 December 20th, 1984)\", \"The Call of Ktulu (Live at The Lyceum Theatre, London, UK \\u2013 December 20th, 1984)\"], \"x\": [\"Fight Fire With Fire (Remastered)\", \"Ride The Lightning (Remastered)\", \"For Whom The Bell Tolls (Remastered)\", \"Fade To Black (Remastered)\", \"Trapped Under Ice (Remastered)\", \"Escape (Remastered)\", \"Creeping Death (Remastered)\", \"The Call Of Ktulu (Remastered)\", \"The Ecstasy of Gold\", \"Fight Fire With Fire (Live at The Hollywood Palladium, Los Angeles, CA \\u2013 March 10th, 1985)\", \"Ride The Lightning (Live at The Hollywood Palladium, Los Angeles, CA \\u2013 March 10th, 1985)\", \"Phantom Lord (Live at The Hollywood Palladium, Los Angeles, CA \\u2013 March 10th, 1985)\", \"(Anesthesia) \\u2013 Pulling Teeth (Live at The Hollywood Palladium, Los Angeles, CA \\u2013 March 10th, 1985)\", \"For Whom The Bell Tolls (Live at The Hollywood Palladium, Los Angeles, CA \\u2013 March 10th, 1985)\", \"No Remorse (Live at The Hollywood Palladium, Los Angeles, CA \\u2013 March 10th, 1985)\", \"Fade To Black (Live at The Hollywood Palladium, Los Angeles, CA \\u2013 March 10th, 1985)\", \"Seek & Destroy (Live at The Hollywood Palladium, Los Angeles, CA \\u2013 March 10th, 1985)\", \"Creeping Death (Live at The Hollywood Palladium, Los Angeles, CA \\u2013 March 10th, 1985)\", \"Am I Evil? (Live at The Hollywood Palladium, Los Angeles, CA \\u2013 March 10th, 1985)\", \"Motorbreath (Live at The Hollywood Palladium, Los Angeles, CA \\u2013 March 10th, 1985)\", \"Am I Evil? (Remastered)\", \"Blitzkrieg (Remastered)\", \"Ride The Lightning (Studio Demo)\", \"When Hell Freezes Over (The Call of Ktulu) (Studio Demo)\", \"Creeping Death (Studio Demo)\", \"Fight Fire With Fire (Studio Demo)\", \"Ride The Lightning (Garage Demo)\", \"When Hell Freezes Over (The Call of Ktulu) (Garage Demo)\", \"Fight Fire With Fire (Garage Demo)\", \"Ride The Lightning (Boom Box Demo)\", \"Blitzkrieg (Rhythm Track Rough Mix)\", \"Am I Evil? (Rhythm Track Rough Mix)\", \"Fight Fire With Fire (Live at Kabuki Theatre, San Francisco, CA \\u2013 March 15th, 1985)\", \"Ride The Lightning (Live at Kabuki Theatre, San Francisco, CA \\u2013 March 15th, 1985)\", \"Phantom Lord (Live at Kabuki Theatre, San Francisco, CA \\u2013 March 15th, 1985)\", \"The Four Horsemen (Live at Kabuki Theatre, San Francisco, CA \\u2013 March 15th, 1985)\", \"(Anesthesia) \\u2013 Pulling Teeth (Live at Kabuki Theatre, San Francisco, CA \\u2013 March 15th, 1985)\", \"For Whom The Bell Tolls (Live at Kabuki Theatre, San Francisco, CA \\u2013 March 15th, 1985)\", \"No Remorse (Live at Kabuki Theatre, San Francisco, CA \\u2013 March 15th, 1985)\", \"Fade To Black (Live at Kabuki Theatre, San Francisco, CA \\u2013 March 15th, 1985)\", \"Creeping Death (Live at Kabuki Theatre, San Francisco, CA \\u2013 March 15th, 1985)\", \"Guitar Solo (Live at Kabuki Theatre, San Francisco, CA \\u2013 March 15th, 1985)\", \"Am I Evil? (Live at Kabuki Theatre, San Francisco, CA \\u2013 March 15th, 1985)\", \"Motorbreath (Live at Kabuki Theatre, San Francisco, CA \\u2013 March 15th, 1985)\", \"Phantom Lord (Live at The Lyceum Theatre, London, UK \\u2013 December 20th, 1984)\", \"The Four Horsemen (Live at The Lyceum Theatre, London, UK \\u2013 December 20th, 1984)\", \"(Anesthesia) \\u2013 Pulling Teeth (Live at The Lyceum Theatre, London, UK \\u2013 December 20th, 1984)\", \"For Whom The Bell Tolls (Live at The Lyceum Theatre, London, UK \\u2013 December 20th, 1984)\", \"No Remorse (Live at The Lyceum Theatre, London, UK \\u2013 December 20th, 1984)\", \"The Call of Ktulu (Live at The Lyceum Theatre, London, UK \\u2013 December 20th, 1984)\"], \"y\": [0.161, 0.284, 0.261, 0.288, 0.057, 0.526, 0.178, 0.14, 0.121, 0.171, 0.0886, 0.0543, 0.16, 0.172, 0.0398, 0.257, 0.265, 0.208, 0.408, 0.155, 0.518, 0.607, 0.277, 0.138, 0.149, 0.0548, 0.171, 0.168, 0.131, 0.31, 0.551, 0.522, 0.255, 0.345, 0.2, 0.367, 0.0888, 0.357, 0.288, 0.396, 0.27, 0.111, 0.302, 0.144, 0.264, 0.363, 0.486, 0.474, 0.118, 0.231]}], {}, {\"linkText\": \"Export to plot.ly\", \"showLink\": true})});</script>"
      ],
      "text/vnd.plotly.v1+html": [
       "<div id=\"05f285c6-db56-4986-8c29-5429e5c882e3\" style=\"height: 525px; width: 100%;\" class=\"plotly-graph-div\"></div><script type=\"text/javascript\">require([\"plotly\"], function(Plotly) { window.PLOTLYENV=window.PLOTLYENV || {};window.PLOTLYENV.BASE_URL=\"https://plot.ly\";Plotly.newPlot(\"05f285c6-db56-4986-8c29-5429e5c882e3\", [{\"type\": \"bar\", \"text\": [\"Fight Fire With Fire (Remastered)\", \"Ride The Lightning (Remastered)\", \"For Whom The Bell Tolls (Remastered)\", \"Fade To Black (Remastered)\", \"Trapped Under Ice (Remastered)\", \"Escape (Remastered)\", \"Creeping Death (Remastered)\", \"The Call Of Ktulu (Remastered)\", \"The Ecstasy of Gold\", \"Fight Fire With Fire (Live at The Hollywood Palladium, Los Angeles, CA \\u2013 March 10th, 1985)\", \"Ride The Lightning (Live at The Hollywood Palladium, Los Angeles, CA \\u2013 March 10th, 1985)\", \"Phantom Lord (Live at The Hollywood Palladium, Los Angeles, CA \\u2013 March 10th, 1985)\", \"(Anesthesia) \\u2013 Pulling Teeth (Live at The Hollywood Palladium, Los Angeles, CA \\u2013 March 10th, 1985)\", \"For Whom The Bell Tolls (Live at The Hollywood Palladium, Los Angeles, CA \\u2013 March 10th, 1985)\", \"No Remorse (Live at The Hollywood Palladium, Los Angeles, CA \\u2013 March 10th, 1985)\", \"Fade To Black (Live at The Hollywood Palladium, Los Angeles, CA \\u2013 March 10th, 1985)\", \"Seek & Destroy (Live at The Hollywood Palladium, Los Angeles, CA \\u2013 March 10th, 1985)\", \"Creeping Death (Live at The Hollywood Palladium, Los Angeles, CA \\u2013 March 10th, 1985)\", \"Am I Evil? (Live at The Hollywood Palladium, Los Angeles, CA \\u2013 March 10th, 1985)\", \"Motorbreath (Live at The Hollywood Palladium, Los Angeles, CA \\u2013 March 10th, 1985)\", \"Am I Evil? (Remastered)\", \"Blitzkrieg (Remastered)\", \"Ride The Lightning (Studio Demo)\", \"When Hell Freezes Over (The Call of Ktulu) (Studio Demo)\", \"Creeping Death (Studio Demo)\", \"Fight Fire With Fire (Studio Demo)\", \"Ride The Lightning (Garage Demo)\", \"When Hell Freezes Over (The Call of Ktulu) (Garage Demo)\", \"Fight Fire With Fire (Garage Demo)\", \"Ride The Lightning (Boom Box Demo)\", \"Blitzkrieg (Rhythm Track Rough Mix)\", \"Am I Evil? (Rhythm Track Rough Mix)\", \"Fight Fire With Fire (Live at Kabuki Theatre, San Francisco, CA \\u2013 March 15th, 1985)\", \"Ride The Lightning (Live at Kabuki Theatre, San Francisco, CA \\u2013 March 15th, 1985)\", \"Phantom Lord (Live at Kabuki Theatre, San Francisco, CA \\u2013 March 15th, 1985)\", \"The Four Horsemen (Live at Kabuki Theatre, San Francisco, CA \\u2013 March 15th, 1985)\", \"(Anesthesia) \\u2013 Pulling Teeth (Live at Kabuki Theatre, San Francisco, CA \\u2013 March 15th, 1985)\", \"For Whom The Bell Tolls (Live at Kabuki Theatre, San Francisco, CA \\u2013 March 15th, 1985)\", \"No Remorse (Live at Kabuki Theatre, San Francisco, CA \\u2013 March 15th, 1985)\", \"Fade To Black (Live at Kabuki Theatre, San Francisco, CA \\u2013 March 15th, 1985)\", \"Creeping Death (Live at Kabuki Theatre, San Francisco, CA \\u2013 March 15th, 1985)\", \"Guitar Solo (Live at Kabuki Theatre, San Francisco, CA \\u2013 March 15th, 1985)\", \"Am I Evil? (Live at Kabuki Theatre, San Francisco, CA \\u2013 March 15th, 1985)\", \"Motorbreath (Live at Kabuki Theatre, San Francisco, CA \\u2013 March 15th, 1985)\", \"Phantom Lord (Live at The Lyceum Theatre, London, UK \\u2013 December 20th, 1984)\", \"The Four Horsemen (Live at The Lyceum Theatre, London, UK \\u2013 December 20th, 1984)\", \"(Anesthesia) \\u2013 Pulling Teeth (Live at The Lyceum Theatre, London, UK \\u2013 December 20th, 1984)\", \"For Whom The Bell Tolls (Live at The Lyceum Theatre, London, UK \\u2013 December 20th, 1984)\", \"No Remorse (Live at The Lyceum Theatre, London, UK \\u2013 December 20th, 1984)\", \"The Call of Ktulu (Live at The Lyceum Theatre, London, UK \\u2013 December 20th, 1984)\"], \"x\": [\"Fight Fire With Fire (Remastered)\", \"Ride The Lightning (Remastered)\", \"For Whom The Bell Tolls (Remastered)\", \"Fade To Black (Remastered)\", \"Trapped Under Ice (Remastered)\", \"Escape (Remastered)\", \"Creeping Death (Remastered)\", \"The Call Of Ktulu (Remastered)\", \"The Ecstasy of Gold\", \"Fight Fire With Fire (Live at The Hollywood Palladium, Los Angeles, CA \\u2013 March 10th, 1985)\", \"Ride The Lightning (Live at The Hollywood Palladium, Los Angeles, CA \\u2013 March 10th, 1985)\", \"Phantom Lord (Live at The Hollywood Palladium, Los Angeles, CA \\u2013 March 10th, 1985)\", \"(Anesthesia) \\u2013 Pulling Teeth (Live at The Hollywood Palladium, Los Angeles, CA \\u2013 March 10th, 1985)\", \"For Whom The Bell Tolls (Live at The Hollywood Palladium, Los Angeles, CA \\u2013 March 10th, 1985)\", \"No Remorse (Live at The Hollywood Palladium, Los Angeles, CA \\u2013 March 10th, 1985)\", \"Fade To Black (Live at The Hollywood Palladium, Los Angeles, CA \\u2013 March 10th, 1985)\", \"Seek & Destroy (Live at The Hollywood Palladium, Los Angeles, CA \\u2013 March 10th, 1985)\", \"Creeping Death (Live at The Hollywood Palladium, Los Angeles, CA \\u2013 March 10th, 1985)\", \"Am I Evil? (Live at The Hollywood Palladium, Los Angeles, CA \\u2013 March 10th, 1985)\", \"Motorbreath (Live at The Hollywood Palladium, Los Angeles, CA \\u2013 March 10th, 1985)\", \"Am I Evil? (Remastered)\", \"Blitzkrieg (Remastered)\", \"Ride The Lightning (Studio Demo)\", \"When Hell Freezes Over (The Call of Ktulu) (Studio Demo)\", \"Creeping Death (Studio Demo)\", \"Fight Fire With Fire (Studio Demo)\", \"Ride The Lightning (Garage Demo)\", \"When Hell Freezes Over (The Call of Ktulu) (Garage Demo)\", \"Fight Fire With Fire (Garage Demo)\", \"Ride The Lightning (Boom Box Demo)\", \"Blitzkrieg (Rhythm Track Rough Mix)\", \"Am I Evil? (Rhythm Track Rough Mix)\", \"Fight Fire With Fire (Live at Kabuki Theatre, San Francisco, CA \\u2013 March 15th, 1985)\", \"Ride The Lightning (Live at Kabuki Theatre, San Francisco, CA \\u2013 March 15th, 1985)\", \"Phantom Lord (Live at Kabuki Theatre, San Francisco, CA \\u2013 March 15th, 1985)\", \"The Four Horsemen (Live at Kabuki Theatre, San Francisco, CA \\u2013 March 15th, 1985)\", \"(Anesthesia) \\u2013 Pulling Teeth (Live at Kabuki Theatre, San Francisco, CA \\u2013 March 15th, 1985)\", \"For Whom The Bell Tolls (Live at Kabuki Theatre, San Francisco, CA \\u2013 March 15th, 1985)\", \"No Remorse (Live at Kabuki Theatre, San Francisco, CA \\u2013 March 15th, 1985)\", \"Fade To Black (Live at Kabuki Theatre, San Francisco, CA \\u2013 March 15th, 1985)\", \"Creeping Death (Live at Kabuki Theatre, San Francisco, CA \\u2013 March 15th, 1985)\", \"Guitar Solo (Live at Kabuki Theatre, San Francisco, CA \\u2013 March 15th, 1985)\", \"Am I Evil? (Live at Kabuki Theatre, San Francisco, CA \\u2013 March 15th, 1985)\", \"Motorbreath (Live at Kabuki Theatre, San Francisco, CA \\u2013 March 15th, 1985)\", \"Phantom Lord (Live at The Lyceum Theatre, London, UK \\u2013 December 20th, 1984)\", \"The Four Horsemen (Live at The Lyceum Theatre, London, UK \\u2013 December 20th, 1984)\", \"(Anesthesia) \\u2013 Pulling Teeth (Live at The Lyceum Theatre, London, UK \\u2013 December 20th, 1984)\", \"For Whom The Bell Tolls (Live at The Lyceum Theatre, London, UK \\u2013 December 20th, 1984)\", \"No Remorse (Live at The Lyceum Theatre, London, UK \\u2013 December 20th, 1984)\", \"The Call of Ktulu (Live at The Lyceum Theatre, London, UK \\u2013 December 20th, 1984)\"], \"y\": [0.161, 0.284, 0.261, 0.288, 0.057, 0.526, 0.178, 0.14, 0.121, 0.171, 0.0886, 0.0543, 0.16, 0.172, 0.0398, 0.257, 0.265, 0.208, 0.408, 0.155, 0.518, 0.607, 0.277, 0.138, 0.149, 0.0548, 0.171, 0.168, 0.131, 0.31, 0.551, 0.522, 0.255, 0.345, 0.2, 0.367, 0.0888, 0.357, 0.288, 0.396, 0.27, 0.111, 0.302, 0.144, 0.264, 0.363, 0.486, 0.474, 0.118, 0.231]}], {}, {\"linkText\": \"Export to plot.ly\", \"showLink\": true})});</script>"
      ]
     },
     "metadata": {},
     "output_type": "display_data"
    }
   ],
   "source": [
    "weezer = get_album_stats('ride the lightning')"
   ]
  },
  {
   "cell_type": "code",
   "execution_count": 14,
   "metadata": {
    "collapsed": false
   },
   "outputs": [
    {
     "data": {
      "text/html": [
       "<div>\n",
       "<style scoped>\n",
       "    .dataframe tbody tr th:only-of-type {\n",
       "        vertical-align: middle;\n",
       "    }\n",
       "\n",
       "    .dataframe tbody tr th {\n",
       "        vertical-align: top;\n",
       "    }\n",
       "\n",
       "    .dataframe thead th {\n",
       "        text-align: right;\n",
       "    }\n",
       "</style>\n",
       "<table border=\"1\" class=\"dataframe\">\n",
       "  <thead>\n",
       "    <tr style=\"text-align: right;\">\n",
       "      <th></th>\n",
       "      <th>title</th>\n",
       "      <th>valence</th>\n",
       "    </tr>\n",
       "  </thead>\n",
       "  <tbody>\n",
       "    <tr>\n",
       "      <th>0</th>\n",
       "      <td>My Name Is Jonas</td>\n",
       "      <td>0.634</td>\n",
       "    </tr>\n",
       "    <tr>\n",
       "      <th>1</th>\n",
       "      <td>No One Else</td>\n",
       "      <td>0.738</td>\n",
       "    </tr>\n",
       "    <tr>\n",
       "      <th>2</th>\n",
       "      <td>The World Has Turned And Left Me Here</td>\n",
       "      <td>0.653</td>\n",
       "    </tr>\n",
       "    <tr>\n",
       "      <th>3</th>\n",
       "      <td>Buddy Holly</td>\n",
       "      <td>0.825</td>\n",
       "    </tr>\n",
       "    <tr>\n",
       "      <th>4</th>\n",
       "      <td>Undone - The Sweater Song</td>\n",
       "      <td>0.514</td>\n",
       "    </tr>\n",
       "    <tr>\n",
       "      <th>5</th>\n",
       "      <td>Surf Wax America</td>\n",
       "      <td>0.304</td>\n",
       "    </tr>\n",
       "    <tr>\n",
       "      <th>6</th>\n",
       "      <td>Say It Ain't So - Remix</td>\n",
       "      <td>0.400</td>\n",
       "    </tr>\n",
       "    <tr>\n",
       "      <th>7</th>\n",
       "      <td>In The Garage</td>\n",
       "      <td>0.368</td>\n",
       "    </tr>\n",
       "    <tr>\n",
       "      <th>8</th>\n",
       "      <td>Holiday</td>\n",
       "      <td>0.394</td>\n",
       "    </tr>\n",
       "    <tr>\n",
       "      <th>9</th>\n",
       "      <td>Only In Dreams</td>\n",
       "      <td>0.416</td>\n",
       "    </tr>\n",
       "    <tr>\n",
       "      <th>10</th>\n",
       "      <td>Mykel And Carli - Single Version</td>\n",
       "      <td>0.390</td>\n",
       "    </tr>\n",
       "    <tr>\n",
       "      <th>11</th>\n",
       "      <td>Susanne - Single Version</td>\n",
       "      <td>0.469</td>\n",
       "    </tr>\n",
       "    <tr>\n",
       "      <th>12</th>\n",
       "      <td>My Evaline - Single Version</td>\n",
       "      <td>0.335</td>\n",
       "    </tr>\n",
       "    <tr>\n",
       "      <th>13</th>\n",
       "      <td>Jamie - DGC Rarities Version</td>\n",
       "      <td>0.375</td>\n",
       "    </tr>\n",
       "    <tr>\n",
       "      <th>14</th>\n",
       "      <td>My Name Is Jonas - Live In Rochester, NY/1994</td>\n",
       "      <td>0.237</td>\n",
       "    </tr>\n",
       "    <tr>\n",
       "      <th>15</th>\n",
       "      <td>Surf Wax America - Live In Rochester, NY/1994</td>\n",
       "      <td>0.351</td>\n",
       "    </tr>\n",
       "    <tr>\n",
       "      <th>16</th>\n",
       "      <td>Jamie - Live/Acoustic From Cat's Paw Studios/1995</td>\n",
       "      <td>0.530</td>\n",
       "    </tr>\n",
       "    <tr>\n",
       "      <th>17</th>\n",
       "      <td>No One Else - Live/Acoustic From Cat's Paw Stu...</td>\n",
       "      <td>0.495</td>\n",
       "    </tr>\n",
       "    <tr>\n",
       "      <th>18</th>\n",
       "      <td>Undone -- The Sweater Song - Kitchen Tape Demo</td>\n",
       "      <td>0.432</td>\n",
       "    </tr>\n",
       "    <tr>\n",
       "      <th>19</th>\n",
       "      <td>Paperface - Kitchen Tape Demo</td>\n",
       "      <td>0.425</td>\n",
       "    </tr>\n",
       "    <tr>\n",
       "      <th>20</th>\n",
       "      <td>Only In Dreams - Kitchen Tape Demo</td>\n",
       "      <td>0.400</td>\n",
       "    </tr>\n",
       "    <tr>\n",
       "      <th>21</th>\n",
       "      <td>Lullabye For Wayne - Pre-Production Recording</td>\n",
       "      <td>0.467</td>\n",
       "    </tr>\n",
       "    <tr>\n",
       "      <th>22</th>\n",
       "      <td>I Swear It's True - Pre-Production Recording</td>\n",
       "      <td>0.493</td>\n",
       "    </tr>\n",
       "    <tr>\n",
       "      <th>23</th>\n",
       "      <td>Say It Ain't So</td>\n",
       "      <td>0.459</td>\n",
       "    </tr>\n",
       "  </tbody>\n",
       "</table>\n",
       "</div>"
      ],
      "text/plain": [
       "                                                title  valence\n",
       "0                                    My Name Is Jonas    0.634\n",
       "1                                         No One Else    0.738\n",
       "2               The World Has Turned And Left Me Here    0.653\n",
       "3                                         Buddy Holly    0.825\n",
       "4                           Undone - The Sweater Song    0.514\n",
       "5                                    Surf Wax America    0.304\n",
       "6                             Say It Ain't So - Remix    0.400\n",
       "7                                       In The Garage    0.368\n",
       "8                                             Holiday    0.394\n",
       "9                                      Only In Dreams    0.416\n",
       "10                   Mykel And Carli - Single Version    0.390\n",
       "11                           Susanne - Single Version    0.469\n",
       "12                        My Evaline - Single Version    0.335\n",
       "13                       Jamie - DGC Rarities Version    0.375\n",
       "14      My Name Is Jonas - Live In Rochester, NY/1994    0.237\n",
       "15      Surf Wax America - Live In Rochester, NY/1994    0.351\n",
       "16  Jamie - Live/Acoustic From Cat's Paw Studios/1995    0.530\n",
       "17  No One Else - Live/Acoustic From Cat's Paw Stu...    0.495\n",
       "18     Undone -- The Sweater Song - Kitchen Tape Demo    0.432\n",
       "19                      Paperface - Kitchen Tape Demo    0.425\n",
       "20                 Only In Dreams - Kitchen Tape Demo    0.400\n",
       "21      Lullabye For Wayne - Pre-Production Recording    0.467\n",
       "22       I Swear It's True - Pre-Production Recording    0.493\n",
       "23                                    Say It Ain't So    0.459"
      ]
     },
     "execution_count": 14,
     "metadata": {},
     "output_type": "execute_result"
    }
   ],
   "source": []
  },
  {
   "cell_type": "code",
   "execution_count": null,
   "metadata": {
    "collapsed": true
   },
   "outputs": [],
   "source": []
  }
 ],
 "metadata": {
  "kernelspec": {
   "display_name": "Python [conda env:Anaconda3]",
   "language": "python",
   "name": "conda-env-Anaconda3-py"
  },
  "language_info": {
   "codemirror_mode": {
    "name": "ipython",
    "version": 3
   },
   "file_extension": ".py",
   "mimetype": "text/x-python",
   "name": "python",
   "nbconvert_exporter": "python",
   "pygments_lexer": "ipython3",
   "version": "3.5.2"
  }
 },
 "nbformat": 4,
 "nbformat_minor": 2
}
