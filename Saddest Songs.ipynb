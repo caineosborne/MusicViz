{
 "cells": [
  {
   "cell_type": "code",
   "execution_count": 37,
   "metadata": {
    "collapsed": false
   },
   "outputs": [
    {
     "data": {
      "text/html": [
       "<script>requirejs.config({paths: { 'plotly': ['https://cdn.plot.ly/plotly-latest.min']},});if(!window.Plotly) {{require(['plotly'],function(plotly) {window.Plotly=plotly;});}}</script>"
      ],
      "text/vnd.plotly.v1+html": [
       "<script>requirejs.config({paths: { 'plotly': ['https://cdn.plot.ly/plotly-latest.min']},});if(!window.Plotly) {{require(['plotly'],function(plotly) {window.Plotly=plotly;});}}</script>"
      ]
     },
     "metadata": {},
     "output_type": "display_data"
    }
   ],
   "source": [
    "import spotipy \n",
    "import sys\n",
    "from spotipy.oauth2 import SpotifyClientCredentials\n",
    "import pandas as pd\n",
    "%matplotlib inline\n",
    "import plotly as plt\n",
    "import plotly.graph_objs as go\n",
    "from plotly.offline import download_plotlyjs, init_notebook_mode, plot, iplot\n",
    "init_notebook_mode(connected=True)"
   ]
  },
  {
   "cell_type": "code",
   "execution_count": 23,
   "metadata": {
    "collapsed": true
   },
   "outputs": [],
   "source": [
    "\n",
    "client_credentials_manager = SpotifyClientCredentials(client_id='48928fe2c90a4776b6ca5f5542feaace',\n",
    "                                                      client_secret='a17ff5d3a98443fd91100a2b4b2eb6da')\n",
    "\n",
    "\n",
    "sp = spotipy.Spotify(client_credentials_manager=client_credentials_manager)"
   ]
  },
  {
   "cell_type": "code",
   "execution_count": 24,
   "metadata": {
    "collapsed": true
   },
   "outputs": [],
   "source": [
    "def get_album_valence(album):\n",
    "    album_v = []\n",
    "    for i in sp.album_tracks(get_album(album)['id'])['items']:\n",
    "        track_v = []\n",
    "        track_v.append(i['name'])\n",
    "        track_v.append(get_valence_id(i['id']))\n",
    "        album_v.append(track_v)\n",
    "    return album_v\n",
    "\n"
   ]
  },
  {
   "cell_type": "code",
   "execution_count": 25,
   "metadata": {
    "collapsed": true
   },
   "outputs": [],
   "source": [
    "def get_album(album):\n",
    "    results = sp.search(q=album, type='album')\n",
    "    items = results['albums']['items']\n",
    "    return items[0]"
   ]
  },
  {
   "cell_type": "code",
   "execution_count": 26,
   "metadata": {
    "collapsed": true
   },
   "outputs": [],
   "source": [
    "\n",
    "def get_valence_id(id):\n",
    "    results = sp.audio_features(id)\n",
    "    return results[0]['valence']\n"
   ]
  },
  {
   "cell_type": "code",
   "execution_count": 43,
   "metadata": {
    "collapsed": false
   },
   "outputs": [],
   "source": [
    "fm = pd.DataFrame(get_album_valence('fevers and mirrors'),columns=['title','valence'])"
   ]
  },
  {
   "cell_type": "code",
   "execution_count": 47,
   "metadata": {
    "collapsed": false
   },
   "outputs": [],
   "source": [
    "def graph(df):\n",
    "    data = [\n",
    "    go.Bar(\n",
    "        x=df['title'], # assign x as the dataframe column 'x'\n",
    "        y=df['valence']\n",
    "    )\n",
    "    ]\n",
    "\n",
    "    iplot(data)\n",
    "    "
   ]
  },
  {
   "cell_type": "code",
   "execution_count": 48,
   "metadata": {
    "collapsed": false
   },
   "outputs": [
    {
     "data": {
      "application/vnd.plotly.v1+json": {
       "data": [
        {
         "type": "bar",
         "x": [
          "A Spindle, A Darkness, A Fever, And A Necklace",
          "A Scale, A Mirror And Those Indifferent Clocks",
          "The Calendar Hung Itself…",
          "Something Vague",
          "The Movement Of A Hand",
          "Arienette",
          "When The Curious Girl Realizes She Is Under Glass",
          "Haligh, Haligh, A Lie, Haligh",
          "The Center Of The World",
          "Sunrise, Sunset",
          "An Attempt To Tip The Scales",
          "A Song To Pass The Time"
         ],
         "y": [
          0.2,
          0.171,
          0.568,
          0.174,
          0.133,
          0.209,
          0.447,
          0.5,
          0.149,
          0.237,
          0.267,
          0.303
         ]
        }
       ],
       "layout": {}
      },
      "text/html": [
       "<div id=\"1af6b4bd-2980-45d9-a486-e887fd5269c6\" style=\"height: 525px; width: 100%;\" class=\"plotly-graph-div\"></div><script type=\"text/javascript\">require([\"plotly\"], function(Plotly) { window.PLOTLYENV=window.PLOTLYENV || {};window.PLOTLYENV.BASE_URL=\"https://plot.ly\";Plotly.newPlot(\"1af6b4bd-2980-45d9-a486-e887fd5269c6\", [{\"type\": \"bar\", \"x\": [\"A Spindle, A Darkness, A Fever, And A Necklace\", \"A Scale, A Mirror And Those Indifferent Clocks\", \"The Calendar Hung Itself\\u2026\", \"Something Vague\", \"The Movement Of A Hand\", \"Arienette\", \"When The Curious Girl Realizes She Is Under Glass\", \"Haligh, Haligh, A Lie, Haligh\", \"The Center Of The World\", \"Sunrise, Sunset\", \"An Attempt To Tip The Scales\", \"A Song To Pass The Time\"], \"y\": [0.2, 0.171, 0.568, 0.174, 0.133, 0.209, 0.447, 0.5, 0.149, 0.237, 0.267, 0.303]}], {}, {\"linkText\": \"Export to plot.ly\", \"showLink\": true})});</script>"
      ],
      "text/vnd.plotly.v1+html": [
       "<div id=\"1af6b4bd-2980-45d9-a486-e887fd5269c6\" style=\"height: 525px; width: 100%;\" class=\"plotly-graph-div\"></div><script type=\"text/javascript\">require([\"plotly\"], function(Plotly) { window.PLOTLYENV=window.PLOTLYENV || {};window.PLOTLYENV.BASE_URL=\"https://plot.ly\";Plotly.newPlot(\"1af6b4bd-2980-45d9-a486-e887fd5269c6\", [{\"type\": \"bar\", \"x\": [\"A Spindle, A Darkness, A Fever, And A Necklace\", \"A Scale, A Mirror And Those Indifferent Clocks\", \"The Calendar Hung Itself\\u2026\", \"Something Vague\", \"The Movement Of A Hand\", \"Arienette\", \"When The Curious Girl Realizes She Is Under Glass\", \"Haligh, Haligh, A Lie, Haligh\", \"The Center Of The World\", \"Sunrise, Sunset\", \"An Attempt To Tip The Scales\", \"A Song To Pass The Time\"], \"y\": [0.2, 0.171, 0.568, 0.174, 0.133, 0.209, 0.447, 0.5, 0.149, 0.237, 0.267, 0.303]}], {}, {\"linkText\": \"Export to plot.ly\", \"showLink\": true})});</script>"
      ]
     },
     "metadata": {},
     "output_type": "display_data"
    }
   ],
   "source": [
    "graph(fm)"
   ]
  },
  {
   "cell_type": "code",
   "execution_count": 49,
   "metadata": {
    "collapsed": true
   },
   "outputs": [],
   "source": [
    "tw = pd.DataFrame(get_album_valence('closing time'),columns=['title','valence'])"
   ]
  },
  {
   "cell_type": "code",
   "execution_count": 50,
   "metadata": {
    "collapsed": false
   },
   "outputs": [
    {
     "data": {
      "text/html": [
       "<div>\n",
       "<style scoped>\n",
       "    .dataframe tbody tr th:only-of-type {\n",
       "        vertical-align: middle;\n",
       "    }\n",
       "\n",
       "    .dataframe tbody tr th {\n",
       "        vertical-align: top;\n",
       "    }\n",
       "\n",
       "    .dataframe thead th {\n",
       "        text-align: right;\n",
       "    }\n",
       "</style>\n",
       "<table border=\"1\" class=\"dataframe\">\n",
       "  <thead>\n",
       "    <tr style=\"text-align: right;\">\n",
       "      <th></th>\n",
       "      <th>title</th>\n",
       "      <th>valence</th>\n",
       "    </tr>\n",
       "  </thead>\n",
       "  <tbody>\n",
       "    <tr>\n",
       "      <th>0</th>\n",
       "      <td>Ol' 55</td>\n",
       "      <td>0.336</td>\n",
       "    </tr>\n",
       "    <tr>\n",
       "      <th>1</th>\n",
       "      <td>I Hope That I Don't Fall In Love With You</td>\n",
       "      <td>0.545</td>\n",
       "    </tr>\n",
       "    <tr>\n",
       "      <th>2</th>\n",
       "      <td>Virginia Avenue</td>\n",
       "      <td>0.234</td>\n",
       "    </tr>\n",
       "    <tr>\n",
       "      <th>3</th>\n",
       "      <td>Old Shoes (&amp; Picture Postcards)</td>\n",
       "      <td>0.489</td>\n",
       "    </tr>\n",
       "    <tr>\n",
       "      <th>4</th>\n",
       "      <td>Midnight Lullaby</td>\n",
       "      <td>0.235</td>\n",
       "    </tr>\n",
       "    <tr>\n",
       "      <th>5</th>\n",
       "      <td>Martha</td>\n",
       "      <td>0.258</td>\n",
       "    </tr>\n",
       "    <tr>\n",
       "      <th>6</th>\n",
       "      <td>Rosie</td>\n",
       "      <td>0.342</td>\n",
       "    </tr>\n",
       "    <tr>\n",
       "      <th>7</th>\n",
       "      <td>Lonely</td>\n",
       "      <td>0.297</td>\n",
       "    </tr>\n",
       "    <tr>\n",
       "      <th>8</th>\n",
       "      <td>Ice Cream Man</td>\n",
       "      <td>0.411</td>\n",
       "    </tr>\n",
       "    <tr>\n",
       "      <th>9</th>\n",
       "      <td>Little Trip To Heaven (On The Wings Of Your Love)</td>\n",
       "      <td>0.231</td>\n",
       "    </tr>\n",
       "    <tr>\n",
       "      <th>10</th>\n",
       "      <td>Grapefruit Moon</td>\n",
       "      <td>0.215</td>\n",
       "    </tr>\n",
       "    <tr>\n",
       "      <th>11</th>\n",
       "      <td>Closing Time</td>\n",
       "      <td>0.167</td>\n",
       "    </tr>\n",
       "  </tbody>\n",
       "</table>\n",
       "</div>"
      ],
      "text/plain": [
       "                                                title  valence\n",
       "0                                              Ol' 55    0.336\n",
       "1           I Hope That I Don't Fall In Love With You    0.545\n",
       "2                                     Virginia Avenue    0.234\n",
       "3                     Old Shoes (& Picture Postcards)    0.489\n",
       "4                                    Midnight Lullaby    0.235\n",
       "5                                              Martha    0.258\n",
       "6                                               Rosie    0.342\n",
       "7                                              Lonely    0.297\n",
       "8                                       Ice Cream Man    0.411\n",
       "9   Little Trip To Heaven (On The Wings Of Your Love)    0.231\n",
       "10                                    Grapefruit Moon    0.215\n",
       "11                                       Closing Time    0.167"
      ]
     },
     "execution_count": 50,
     "metadata": {},
     "output_type": "execute_result"
    }
   ],
   "source": [
    "tw"
   ]
  },
  {
   "cell_type": "code",
   "execution_count": 51,
   "metadata": {
    "collapsed": false
   },
   "outputs": [
    {
     "data": {
      "application/vnd.plotly.v1+json": {
       "data": [
        {
         "type": "bar",
         "x": [
          "Ol' 55",
          "I Hope That I Don't Fall In Love With You",
          "Virginia Avenue",
          "Old Shoes (& Picture Postcards)",
          "Midnight Lullaby",
          "Martha",
          "Rosie",
          "Lonely",
          "Ice Cream Man",
          "Little Trip To Heaven (On The Wings Of Your Love)",
          "Grapefruit Moon",
          "Closing Time"
         ],
         "y": [
          0.336,
          0.545,
          0.234,
          0.489,
          0.235,
          0.258,
          0.342,
          0.297,
          0.411,
          0.231,
          0.215,
          0.167
         ]
        }
       ],
       "layout": {}
      },
      "text/html": [
       "<div id=\"e56415c3-4c44-49f1-b343-3e793705f1d9\" style=\"height: 525px; width: 100%;\" class=\"plotly-graph-div\"></div><script type=\"text/javascript\">require([\"plotly\"], function(Plotly) { window.PLOTLYENV=window.PLOTLYENV || {};window.PLOTLYENV.BASE_URL=\"https://plot.ly\";Plotly.newPlot(\"e56415c3-4c44-49f1-b343-3e793705f1d9\", [{\"type\": \"bar\", \"x\": [\"Ol' 55\", \"I Hope That I Don't Fall In Love With You\", \"Virginia Avenue\", \"Old Shoes (& Picture Postcards)\", \"Midnight Lullaby\", \"Martha\", \"Rosie\", \"Lonely\", \"Ice Cream Man\", \"Little Trip To Heaven (On The Wings Of Your Love)\", \"Grapefruit Moon\", \"Closing Time\"], \"y\": [0.336, 0.545, 0.234, 0.489, 0.235, 0.258, 0.342, 0.297, 0.411, 0.231, 0.215, 0.167]}], {}, {\"linkText\": \"Export to plot.ly\", \"showLink\": true})});</script>"
      ],
      "text/vnd.plotly.v1+html": [
       "<div id=\"e56415c3-4c44-49f1-b343-3e793705f1d9\" style=\"height: 525px; width: 100%;\" class=\"plotly-graph-div\"></div><script type=\"text/javascript\">require([\"plotly\"], function(Plotly) { window.PLOTLYENV=window.PLOTLYENV || {};window.PLOTLYENV.BASE_URL=\"https://plot.ly\";Plotly.newPlot(\"e56415c3-4c44-49f1-b343-3e793705f1d9\", [{\"type\": \"bar\", \"x\": [\"Ol' 55\", \"I Hope That I Don't Fall In Love With You\", \"Virginia Avenue\", \"Old Shoes (& Picture Postcards)\", \"Midnight Lullaby\", \"Martha\", \"Rosie\", \"Lonely\", \"Ice Cream Man\", \"Little Trip To Heaven (On The Wings Of Your Love)\", \"Grapefruit Moon\", \"Closing Time\"], \"y\": [0.336, 0.545, 0.234, 0.489, 0.235, 0.258, 0.342, 0.297, 0.411, 0.231, 0.215, 0.167]}], {}, {\"linkText\": \"Export to plot.ly\", \"showLink\": true})});</script>"
      ]
     },
     "metadata": {},
     "output_type": "display_data"
    }
   ],
   "source": [
    "graph(tw)"
   ]
  },
  {
   "cell_type": "code",
   "execution_count": 58,
   "metadata": {
    "collapsed": false
   },
   "outputs": [],
   "source": [
    "zs = pd.DataFrame(get_album_valence('ziggy stardust'),columns=['title','valence'])"
   ]
  },
  {
   "cell_type": "code",
   "execution_count": 59,
   "metadata": {
    "collapsed": false
   },
   "outputs": [
    {
     "data": {
      "text/html": [
       "<div>\n",
       "<style scoped>\n",
       "    .dataframe tbody tr th:only-of-type {\n",
       "        vertical-align: middle;\n",
       "    }\n",
       "\n",
       "    .dataframe tbody tr th {\n",
       "        vertical-align: top;\n",
       "    }\n",
       "\n",
       "    .dataframe thead th {\n",
       "        text-align: right;\n",
       "    }\n",
       "</style>\n",
       "<table border=\"1\" class=\"dataframe\">\n",
       "  <thead>\n",
       "    <tr style=\"text-align: right;\">\n",
       "      <th></th>\n",
       "      <th>title</th>\n",
       "      <th>valence</th>\n",
       "    </tr>\n",
       "  </thead>\n",
       "  <tbody>\n",
       "    <tr>\n",
       "      <th>0</th>\n",
       "      <td>Five Years - 2012 Remastered Version</td>\n",
       "      <td>0.321</td>\n",
       "    </tr>\n",
       "    <tr>\n",
       "      <th>1</th>\n",
       "      <td>Soul Love - 2012 Remastered Version</td>\n",
       "      <td>0.710</td>\n",
       "    </tr>\n",
       "    <tr>\n",
       "      <th>2</th>\n",
       "      <td>Moonage Daydream - 2012 Remastered Version</td>\n",
       "      <td>0.752</td>\n",
       "    </tr>\n",
       "    <tr>\n",
       "      <th>3</th>\n",
       "      <td>Starman - 2012 Remastered Version</td>\n",
       "      <td>0.550</td>\n",
       "    </tr>\n",
       "    <tr>\n",
       "      <th>4</th>\n",
       "      <td>It Ain't Easy - 2012 Remastered Version</td>\n",
       "      <td>0.177</td>\n",
       "    </tr>\n",
       "    <tr>\n",
       "      <th>5</th>\n",
       "      <td>Lady Stardust - 2012 Remastered Version</td>\n",
       "      <td>0.484</td>\n",
       "    </tr>\n",
       "    <tr>\n",
       "      <th>6</th>\n",
       "      <td>Star - 2012 Remastered Version</td>\n",
       "      <td>0.552</td>\n",
       "    </tr>\n",
       "    <tr>\n",
       "      <th>7</th>\n",
       "      <td>Hang On To Yourself - 2012 Remastered Version</td>\n",
       "      <td>0.936</td>\n",
       "    </tr>\n",
       "    <tr>\n",
       "      <th>8</th>\n",
       "      <td>Ziggy Stardust - 2012 Remastered Version</td>\n",
       "      <td>0.495</td>\n",
       "    </tr>\n",
       "    <tr>\n",
       "      <th>9</th>\n",
       "      <td>Suffragette City - 2012 Remastered Version</td>\n",
       "      <td>0.784</td>\n",
       "    </tr>\n",
       "    <tr>\n",
       "      <th>10</th>\n",
       "      <td>Rock 'N' Roll Suicide - 2012 Remastered Version</td>\n",
       "      <td>0.272</td>\n",
       "    </tr>\n",
       "  </tbody>\n",
       "</table>\n",
       "</div>"
      ],
      "text/plain": [
       "                                              title  valence\n",
       "0              Five Years - 2012 Remastered Version    0.321\n",
       "1               Soul Love - 2012 Remastered Version    0.710\n",
       "2        Moonage Daydream - 2012 Remastered Version    0.752\n",
       "3                 Starman - 2012 Remastered Version    0.550\n",
       "4           It Ain't Easy - 2012 Remastered Version    0.177\n",
       "5           Lady Stardust - 2012 Remastered Version    0.484\n",
       "6                    Star - 2012 Remastered Version    0.552\n",
       "7     Hang On To Yourself - 2012 Remastered Version    0.936\n",
       "8          Ziggy Stardust - 2012 Remastered Version    0.495\n",
       "9        Suffragette City - 2012 Remastered Version    0.784\n",
       "10  Rock 'N' Roll Suicide - 2012 Remastered Version    0.272"
      ]
     },
     "execution_count": 59,
     "metadata": {},
     "output_type": "execute_result"
    }
   ],
   "source": [
    "zs"
   ]
  },
  {
   "cell_type": "code",
   "execution_count": 60,
   "metadata": {
    "collapsed": false
   },
   "outputs": [
    {
     "data": {
      "application/vnd.plotly.v1+json": {
       "data": [
        {
         "type": "bar",
         "x": [
          "Five Years - 2012 Remastered Version",
          "Soul Love - 2012 Remastered Version",
          "Moonage Daydream - 2012 Remastered Version",
          "Starman - 2012 Remastered Version",
          "It Ain't Easy - 2012 Remastered Version",
          "Lady Stardust - 2012 Remastered Version",
          "Star - 2012 Remastered Version",
          "Hang On To Yourself - 2012 Remastered Version",
          "Ziggy Stardust - 2012 Remastered Version",
          "Suffragette City - 2012 Remastered Version",
          "Rock 'N' Roll Suicide - 2012 Remastered Version"
         ],
         "y": [
          0.321,
          0.71,
          0.752,
          0.55,
          0.177,
          0.484,
          0.552,
          0.936,
          0.495,
          0.784,
          0.272
         ]
        }
       ],
       "layout": {}
      },
      "text/html": [
       "<div id=\"d6d783cc-c546-46a3-bc2c-4e2193c32380\" style=\"height: 525px; width: 100%;\" class=\"plotly-graph-div\"></div><script type=\"text/javascript\">require([\"plotly\"], function(Plotly) { window.PLOTLYENV=window.PLOTLYENV || {};window.PLOTLYENV.BASE_URL=\"https://plot.ly\";Plotly.newPlot(\"d6d783cc-c546-46a3-bc2c-4e2193c32380\", [{\"type\": \"bar\", \"x\": [\"Five Years - 2012 Remastered Version\", \"Soul Love - 2012 Remastered Version\", \"Moonage Daydream - 2012 Remastered Version\", \"Starman - 2012 Remastered Version\", \"It Ain't Easy - 2012 Remastered Version\", \"Lady Stardust - 2012 Remastered Version\", \"Star - 2012 Remastered Version\", \"Hang On To Yourself - 2012 Remastered Version\", \"Ziggy Stardust - 2012 Remastered Version\", \"Suffragette City - 2012 Remastered Version\", \"Rock 'N' Roll Suicide - 2012 Remastered Version\"], \"y\": [0.321, 0.71, 0.752, 0.55, 0.177, 0.484, 0.552, 0.936, 0.495, 0.784, 0.272]}], {}, {\"linkText\": \"Export to plot.ly\", \"showLink\": true})});</script>"
      ],
      "text/vnd.plotly.v1+html": [
       "<div id=\"d6d783cc-c546-46a3-bc2c-4e2193c32380\" style=\"height: 525px; width: 100%;\" class=\"plotly-graph-div\"></div><script type=\"text/javascript\">require([\"plotly\"], function(Plotly) { window.PLOTLYENV=window.PLOTLYENV || {};window.PLOTLYENV.BASE_URL=\"https://plot.ly\";Plotly.newPlot(\"d6d783cc-c546-46a3-bc2c-4e2193c32380\", [{\"type\": \"bar\", \"x\": [\"Five Years - 2012 Remastered Version\", \"Soul Love - 2012 Remastered Version\", \"Moonage Daydream - 2012 Remastered Version\", \"Starman - 2012 Remastered Version\", \"It Ain't Easy - 2012 Remastered Version\", \"Lady Stardust - 2012 Remastered Version\", \"Star - 2012 Remastered Version\", \"Hang On To Yourself - 2012 Remastered Version\", \"Ziggy Stardust - 2012 Remastered Version\", \"Suffragette City - 2012 Remastered Version\", \"Rock 'N' Roll Suicide - 2012 Remastered Version\"], \"y\": [0.321, 0.71, 0.752, 0.55, 0.177, 0.484, 0.552, 0.936, 0.495, 0.784, 0.272]}], {}, {\"linkText\": \"Export to plot.ly\", \"showLink\": true})});</script>"
      ]
     },
     "metadata": {},
     "output_type": "display_data"
    }
   ],
   "source": [
    "graph(zs)"
   ]
  },
  {
   "cell_type": "code",
   "execution_count": 61,
   "metadata": {
    "collapsed": true
   },
   "outputs": [],
   "source": [
    "eo = pd.DataFrame(get_album_valence('either/or'),columns=['title','valence']) "
   ]
  },
  {
   "cell_type": "code",
   "execution_count": 62,
   "metadata": {
    "collapsed": false
   },
   "outputs": [
    {
     "data": {
      "text/html": [
       "<div>\n",
       "<style scoped>\n",
       "    .dataframe tbody tr th:only-of-type {\n",
       "        vertical-align: middle;\n",
       "    }\n",
       "\n",
       "    .dataframe tbody tr th {\n",
       "        vertical-align: top;\n",
       "    }\n",
       "\n",
       "    .dataframe thead th {\n",
       "        text-align: right;\n",
       "    }\n",
       "</style>\n",
       "<table border=\"1\" class=\"dataframe\">\n",
       "  <thead>\n",
       "    <tr style=\"text-align: right;\">\n",
       "      <th></th>\n",
       "      <th>title</th>\n",
       "      <th>valence</th>\n",
       "    </tr>\n",
       "  </thead>\n",
       "  <tbody>\n",
       "    <tr>\n",
       "      <th>0</th>\n",
       "      <td>Speed Trials</td>\n",
       "      <td>0.330</td>\n",
       "    </tr>\n",
       "    <tr>\n",
       "      <th>1</th>\n",
       "      <td>Alameda</td>\n",
       "      <td>0.333</td>\n",
       "    </tr>\n",
       "    <tr>\n",
       "      <th>2</th>\n",
       "      <td>Ballad Of Big Nothing</td>\n",
       "      <td>0.636</td>\n",
       "    </tr>\n",
       "    <tr>\n",
       "      <th>3</th>\n",
       "      <td>Between the Bars</td>\n",
       "      <td>0.353</td>\n",
       "    </tr>\n",
       "    <tr>\n",
       "      <th>4</th>\n",
       "      <td>Pictures Of Me</td>\n",
       "      <td>0.330</td>\n",
       "    </tr>\n",
       "    <tr>\n",
       "      <th>5</th>\n",
       "      <td>No Name No. 5</td>\n",
       "      <td>0.148</td>\n",
       "    </tr>\n",
       "    <tr>\n",
       "      <th>6</th>\n",
       "      <td>Rose Parade</td>\n",
       "      <td>0.282</td>\n",
       "    </tr>\n",
       "    <tr>\n",
       "      <th>7</th>\n",
       "      <td>Punch And Judy</td>\n",
       "      <td>0.208</td>\n",
       "    </tr>\n",
       "    <tr>\n",
       "      <th>8</th>\n",
       "      <td>Angeles</td>\n",
       "      <td>0.588</td>\n",
       "    </tr>\n",
       "    <tr>\n",
       "      <th>9</th>\n",
       "      <td>Cupid's Trick</td>\n",
       "      <td>0.131</td>\n",
       "    </tr>\n",
       "    <tr>\n",
       "      <th>10</th>\n",
       "      <td>2:45 AM</td>\n",
       "      <td>0.368</td>\n",
       "    </tr>\n",
       "    <tr>\n",
       "      <th>11</th>\n",
       "      <td>Say Yes</td>\n",
       "      <td>0.418</td>\n",
       "    </tr>\n",
       "  </tbody>\n",
       "</table>\n",
       "</div>"
      ],
      "text/plain": [
       "                    title  valence\n",
       "0            Speed Trials    0.330\n",
       "1                 Alameda    0.333\n",
       "2   Ballad Of Big Nothing    0.636\n",
       "3        Between the Bars    0.353\n",
       "4          Pictures Of Me    0.330\n",
       "5           No Name No. 5    0.148\n",
       "6             Rose Parade    0.282\n",
       "7          Punch And Judy    0.208\n",
       "8                 Angeles    0.588\n",
       "9           Cupid's Trick    0.131\n",
       "10                2:45 AM    0.368\n",
       "11                Say Yes    0.418"
      ]
     },
     "execution_count": 62,
     "metadata": {},
     "output_type": "execute_result"
    }
   ],
   "source": [
    "eo"
   ]
  },
  {
   "cell_type": "code",
   "execution_count": null,
   "metadata": {
    "collapsed": true
   },
   "outputs": [],
   "source": []
  }
 ],
 "metadata": {
  "kernelspec": {
   "display_name": "Python [conda env:Anaconda3]",
   "language": "python",
   "name": "conda-env-Anaconda3-py"
  },
  "language_info": {
   "codemirror_mode": {
    "name": "ipython",
    "version": 3
   },
   "file_extension": ".py",
   "mimetype": "text/x-python",
   "name": "python",
   "nbconvert_exporter": "python",
   "pygments_lexer": "ipython3",
   "version": "3.5.2"
  }
 },
 "nbformat": 4,
 "nbformat_minor": 2
}
