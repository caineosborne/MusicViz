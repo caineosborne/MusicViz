{
 "cells": [
  {
   "cell_type": "code",
   "execution_count": 175,
   "metadata": {
    "collapsed": false
   },
   "outputs": [
    {
     "data": {
      "text/html": [
       "<script>requirejs.config({paths: { 'plotly': ['https://cdn.plot.ly/plotly-latest.min']},});if(!window.Plotly) {{require(['plotly'],function(plotly) {window.Plotly=plotly;});}}</script>"
      ],
      "text/vnd.plotly.v1+html": [
       "<script>requirejs.config({paths: { 'plotly': ['https://cdn.plot.ly/plotly-latest.min']},});if(!window.Plotly) {{require(['plotly'],function(plotly) {window.Plotly=plotly;});}}</script>"
      ]
     },
     "metadata": {},
     "output_type": "display_data"
    }
   ],
   "source": [
    "# This Python 3 environment comes with many helpful analytics libraries installed\n",
    "# It is defined by the kaggle/python docker image: https://github.com/kaggle/docker-python\n",
    "# For example, here's several helpful packages to load in \n",
    "\n",
    "import numpy as np # linear algebra\n",
    "import pandas as pd # data processing, CSV file I/O (e.g. pd.read_csv)\n",
    "\n",
    "# Input data files are available in the \"../input/\" directory.\n",
    "\n",
    "import seaborn as sns\n",
    "\n",
    "import plotly.offline as py\n",
    "import plotly.graph_objs as go\n",
    "\n",
    "py.init_notebook_mode(connected=True)\n",
    "import plotly.graph_objs as go\n",
    "import plotly.tools as tools"
   ]
  },
  {
   "cell_type": "code",
   "execution_count": 176,
   "metadata": {
    "collapsed": false
   },
   "outputs": [],
   "source": [
    "df = pd.read_csv(r'.\\Data\\WorldCups.csv',sep=',')"
   ]
  },
  {
   "cell_type": "code",
   "execution_count": 177,
   "metadata": {
    "collapsed": false
   },
   "outputs": [
    {
     "data": {
      "text/plain": [
       "Year               int64\n",
       "Country           object\n",
       "Winner            object\n",
       "Runners-Up        object\n",
       "Third             object\n",
       "Fourth            object\n",
       "GoalsScored        int64\n",
       "QualifiedTeams     int64\n",
       "MatchesPlayed      int64\n",
       "Attendance         int64\n",
       "dtype: object"
      ]
     },
     "execution_count": 177,
     "metadata": {},
     "output_type": "execute_result"
    }
   ],
   "source": [
    "#Tidy Attendance Column\n",
    "df['Attendance'] = df['Attendance'].str.replace('.','')\n",
    "df['Attendance'] = pd.to_numeric(df['Attendance'])\n",
    "df.dtypes"
   ]
  },
  {
   "cell_type": "code",
   "execution_count": 178,
   "metadata": {
    "collapsed": true
   },
   "outputs": [],
   "source": [
    "#Assign each country a unique color - combine countries and create unique values\n",
    "\n",
    "countries = df['Country'].append(df['Winner']).unique()\n",
    "\n",
    "#create color palette\n",
    "c = sns.color_palette(\"husl\", len(countries))\n",
    "c = list(['rgb' + str(i) for i in c])\n",
    "cmp = {}\n",
    "for x,y in zip(countries.tolist(),c):\n",
    "    cmp[x] = y\n",
    "    \n",
    "df['host_color'] = df['Country'].replace(cmp)\n",
    "df['winner_color'] = df['Winner'].replace(cmp)"
   ]
  },
  {
   "cell_type": "code",
   "execution_count": 179,
   "metadata": {
    "collapsed": false,
    "scrolled": false
   },
   "outputs": [
    {
     "data": {
      "application/vnd.plotly.v1+json": {
       "data": [
        {
         "line": {
          "color": "rgba(50,50,50,0.2)",
          "width": 16
         },
         "marker": {
          "color": [
           "rgb(0.96779755929199129, 0.44127456009157356, 0.53581031550587011)",
           "rgb(0.9688417625390765, 0.46710871459052145, 0.1965441952393453)",
           "rgb(0.8087954113106306, 0.56347000500566935, 0.19502642696727285)",
           "rgb(0.70086333912909171, 0.60803659800755039, 0.19419512204856468)",
           "rgb(0.59208915296397013, 0.64184670163782442, 0.19350691349910429)",
           "rgb(0.42258837810145911, 0.67794350493184496, 0.19271544738133076)",
           "rgb(0.19783576093349015, 0.69555169660630367, 0.39953010374444992)",
           "rgb(0.20518528131112984, 0.68514977385306008, 0.55625277635579118)",
           "rgb(0.21044753832183283, 0.67731050804567483, 0.64339411684686809)",
           "rgb(0.21576108198845112, 0.66904468724155652, 0.72011929920554307)",
           "rgb(0.22335772267769388, 0.6565792317435265, 0.81713555032656326)",
           "rgb(0.35313807153094168, 0.62014082208294807, 0.95861952356347879)",
           "rgb(0.21044753832183283, 0.67731050804567483, 0.64339411684686809)",
           "rgb(0.9688417625390765, 0.46710871459052145, 0.1965441952393453)",
           "rgb(0.64230443492197387, 0.54976800512564672, 0.9582651433656727)",
           "rgb(0.8087954113106306, 0.56347000500566935, 0.19502642696727285)",
           "rgb(0.83970109472639054, 0.4529020995703274, 0.95786380636530077)",
           "rgb(0.21576108198845112, 0.66904468724155652, 0.72011929920554307)",
           "rgb(0.96038885399407026, 0.38143178787721171, 0.86831176508354913)",
           "rgb(0.70086333912909171, 0.60803659800755039, 0.19419512204856468)"
          ],
          "size": 16
         },
         "mode": "lines+markers",
         "text": [
          "Uruguay",
          "Italy",
          "France",
          "Brazil",
          "Switzerland",
          "Sweden",
          "Chile",
          "England",
          "Mexico",
          "Germany",
          "Argentina",
          "Spain",
          "Mexico",
          "Italy",
          "USA",
          "France",
          "Korea/Japan",
          "Germany",
          "South Africa",
          "Brazil"
         ],
         "type": "scatter",
         "x": [
          1930,
          1934,
          1938,
          1950,
          1954,
          1958,
          1962,
          1966,
          1970,
          1974,
          1978,
          1982,
          1986,
          1990,
          1994,
          1998,
          2002,
          2006,
          2010,
          2014
         ],
         "y": [
          590549,
          363000,
          375700,
          1045246,
          768607,
          819810,
          893172,
          1563135,
          1603975,
          1865753,
          1545791,
          2109723,
          2394031,
          2516215,
          3587538,
          2785100,
          2705197,
          3359439,
          3178856,
          3386810
         ]
        }
       ],
       "layout": {
        "annotations": [
         {
          "arrowwidth": 3,
          "ax": -5,
          "ay": -75,
          "font": {
           "color": "rgb(25,25,25)",
           "family": "Courier New, monospace",
           "size": 14
          },
          "text": "<b>No world cup held <br> in 1942 or 1946</b>",
          "x": 1946,
          "y": 750000
         },
         {
          "arrowwidth": 3,
          "ax": 15,
          "ay": -90,
          "x": 1942,
          "y": 600000
         }
        ],
        "height": 750,
        "paper_bgcolor": "rgb(235,235,235)",
        "plot_bgcolor": "rgb(240,240,240)",
        "title": "<b>Football World Cup Attendance - 1926 to 2014</b>",
        "width": 750,
        "xaxis": {
         "dtick": 4,
         "gridcolor": "rgb(255,255,255)",
         "range": [
          1928,
          2016
         ],
         "showline": false,
         "tick0": 1930,
         "tickfont": {
          "color": "rgb(0,0,0)",
          "family": "Arial",
          "size": 12
         }
        },
        "yaxis": {
         "dtick": 500000,
         "gridcolor": "rgb(255,255,255)",
         "tickfont": {
          "color": "rgb(12,12,12)",
          "family": "Arial",
          "size": 12
         }
        }
       }
      },
      "text/html": [
       "<div id=\"22a374a3-522e-4c66-939c-a624f8c161eb\" style=\"height: 750px; width: 750px;\" class=\"plotly-graph-div\"></div><script type=\"text/javascript\">require([\"plotly\"], function(Plotly) { window.PLOTLYENV=window.PLOTLYENV || {};window.PLOTLYENV.BASE_URL=\"https://plot.ly\";Plotly.newPlot(\"22a374a3-522e-4c66-939c-a624f8c161eb\", [{\"text\": [\"Uruguay\", \"Italy\", \"France\", \"Brazil\", \"Switzerland\", \"Sweden\", \"Chile\", \"England\", \"Mexico\", \"Germany\", \"Argentina\", \"Spain\", \"Mexico\", \"Italy\", \"USA\", \"France\", \"Korea/Japan\", \"Germany\", \"South Africa\", \"Brazil\"], \"x\": [1930, 1934, 1938, 1950, 1954, 1958, 1962, 1966, 1970, 1974, 1978, 1982, 1986, 1990, 1994, 1998, 2002, 2006, 2010, 2014], \"marker\": {\"size\": 16, \"color\": [\"rgb(0.96779755929199129, 0.44127456009157356, 0.53581031550587011)\", \"rgb(0.9688417625390765, 0.46710871459052145, 0.1965441952393453)\", \"rgb(0.8087954113106306, 0.56347000500566935, 0.19502642696727285)\", \"rgb(0.70086333912909171, 0.60803659800755039, 0.19419512204856468)\", \"rgb(0.59208915296397013, 0.64184670163782442, 0.19350691349910429)\", \"rgb(0.42258837810145911, 0.67794350493184496, 0.19271544738133076)\", \"rgb(0.19783576093349015, 0.69555169660630367, 0.39953010374444992)\", \"rgb(0.20518528131112984, 0.68514977385306008, 0.55625277635579118)\", \"rgb(0.21044753832183283, 0.67731050804567483, 0.64339411684686809)\", \"rgb(0.21576108198845112, 0.66904468724155652, 0.72011929920554307)\", \"rgb(0.22335772267769388, 0.6565792317435265, 0.81713555032656326)\", \"rgb(0.35313807153094168, 0.62014082208294807, 0.95861952356347879)\", \"rgb(0.21044753832183283, 0.67731050804567483, 0.64339411684686809)\", \"rgb(0.9688417625390765, 0.46710871459052145, 0.1965441952393453)\", \"rgb(0.64230443492197387, 0.54976800512564672, 0.9582651433656727)\", \"rgb(0.8087954113106306, 0.56347000500566935, 0.19502642696727285)\", \"rgb(0.83970109472639054, 0.4529020995703274, 0.95786380636530077)\", \"rgb(0.21576108198845112, 0.66904468724155652, 0.72011929920554307)\", \"rgb(0.96038885399407026, 0.38143178787721171, 0.86831176508354913)\", \"rgb(0.70086333912909171, 0.60803659800755039, 0.19419512204856468)\"]}, \"mode\": \"lines+markers\", \"line\": {\"width\": 16, \"color\": \"rgba(50,50,50,0.2)\"}, \"y\": [590549, 363000, 375700, 1045246, 768607, 819810, 893172, 1563135, 1603975, 1865753, 1545791, 2109723, 2394031, 2516215, 3587538, 2785100, 2705197, 3359439, 3178856, 3386810], \"type\": \"scatter\"}], {\"plot_bgcolor\": \"rgb(240,240,240)\", \"yaxis\": {\"gridcolor\": \"rgb(255,255,255)\", \"dtick\": 500000, \"tickfont\": {\"family\": \"Arial\", \"size\": 12, \"color\": \"rgb(12,12,12)\"}}, \"xaxis\": {\"gridcolor\": \"rgb(255,255,255)\", \"tick0\": 1930, \"dtick\": 4, \"tickfont\": {\"family\": \"Arial\", \"size\": 12, \"color\": \"rgb(0,0,0)\"}, \"showline\": false, \"range\": [1928, 2016]}, \"title\": \"<b>Football World Cup Attendance - 1926 to 2014</b>\", \"width\": 750, \"paper_bgcolor\": \"rgb(235,235,235)\", \"annotations\": [{\"text\": \"<b>No world cup held <br> in 1942 or 1946</b>\", \"x\": 1946, \"ax\": -5, \"arrowwidth\": 3, \"ay\": -75, \"font\": {\"family\": \"Courier New, monospace\", \"size\": 14, \"color\": \"rgb(25,25,25)\"}, \"y\": 750000}, {\"x\": 1942, \"ay\": -90, \"arrowwidth\": 3, \"y\": 600000, \"ax\": 15}], \"height\": 750}, {\"showLink\": true, \"linkText\": \"Export to plot.ly\"})});</script>"
      ],
      "text/vnd.plotly.v1+html": [
       "<div id=\"22a374a3-522e-4c66-939c-a624f8c161eb\" style=\"height: 750px; width: 750px;\" class=\"plotly-graph-div\"></div><script type=\"text/javascript\">require([\"plotly\"], function(Plotly) { window.PLOTLYENV=window.PLOTLYENV || {};window.PLOTLYENV.BASE_URL=\"https://plot.ly\";Plotly.newPlot(\"22a374a3-522e-4c66-939c-a624f8c161eb\", [{\"text\": [\"Uruguay\", \"Italy\", \"France\", \"Brazil\", \"Switzerland\", \"Sweden\", \"Chile\", \"England\", \"Mexico\", \"Germany\", \"Argentina\", \"Spain\", \"Mexico\", \"Italy\", \"USA\", \"France\", \"Korea/Japan\", \"Germany\", \"South Africa\", \"Brazil\"], \"x\": [1930, 1934, 1938, 1950, 1954, 1958, 1962, 1966, 1970, 1974, 1978, 1982, 1986, 1990, 1994, 1998, 2002, 2006, 2010, 2014], \"marker\": {\"size\": 16, \"color\": [\"rgb(0.96779755929199129, 0.44127456009157356, 0.53581031550587011)\", \"rgb(0.9688417625390765, 0.46710871459052145, 0.1965441952393453)\", \"rgb(0.8087954113106306, 0.56347000500566935, 0.19502642696727285)\", \"rgb(0.70086333912909171, 0.60803659800755039, 0.19419512204856468)\", \"rgb(0.59208915296397013, 0.64184670163782442, 0.19350691349910429)\", \"rgb(0.42258837810145911, 0.67794350493184496, 0.19271544738133076)\", \"rgb(0.19783576093349015, 0.69555169660630367, 0.39953010374444992)\", \"rgb(0.20518528131112984, 0.68514977385306008, 0.55625277635579118)\", \"rgb(0.21044753832183283, 0.67731050804567483, 0.64339411684686809)\", \"rgb(0.21576108198845112, 0.66904468724155652, 0.72011929920554307)\", \"rgb(0.22335772267769388, 0.6565792317435265, 0.81713555032656326)\", \"rgb(0.35313807153094168, 0.62014082208294807, 0.95861952356347879)\", \"rgb(0.21044753832183283, 0.67731050804567483, 0.64339411684686809)\", \"rgb(0.9688417625390765, 0.46710871459052145, 0.1965441952393453)\", \"rgb(0.64230443492197387, 0.54976800512564672, 0.9582651433656727)\", \"rgb(0.8087954113106306, 0.56347000500566935, 0.19502642696727285)\", \"rgb(0.83970109472639054, 0.4529020995703274, 0.95786380636530077)\", \"rgb(0.21576108198845112, 0.66904468724155652, 0.72011929920554307)\", \"rgb(0.96038885399407026, 0.38143178787721171, 0.86831176508354913)\", \"rgb(0.70086333912909171, 0.60803659800755039, 0.19419512204856468)\"]}, \"mode\": \"lines+markers\", \"line\": {\"width\": 16, \"color\": \"rgba(50,50,50,0.2)\"}, \"y\": [590549, 363000, 375700, 1045246, 768607, 819810, 893172, 1563135, 1603975, 1865753, 1545791, 2109723, 2394031, 2516215, 3587538, 2785100, 2705197, 3359439, 3178856, 3386810], \"type\": \"scatter\"}], {\"plot_bgcolor\": \"rgb(240,240,240)\", \"yaxis\": {\"gridcolor\": \"rgb(255,255,255)\", \"dtick\": 500000, \"tickfont\": {\"family\": \"Arial\", \"size\": 12, \"color\": \"rgb(12,12,12)\"}}, \"xaxis\": {\"gridcolor\": \"rgb(255,255,255)\", \"tick0\": 1930, \"dtick\": 4, \"tickfont\": {\"family\": \"Arial\", \"size\": 12, \"color\": \"rgb(0,0,0)\"}, \"showline\": false, \"range\": [1928, 2016]}, \"title\": \"<b>Football World Cup Attendance - 1926 to 2014</b>\", \"width\": 750, \"paper_bgcolor\": \"rgb(235,235,235)\", \"annotations\": [{\"text\": \"<b>No world cup held <br> in 1942 or 1946</b>\", \"x\": 1946, \"ax\": -5, \"arrowwidth\": 3, \"ay\": -75, \"font\": {\"family\": \"Courier New, monospace\", \"size\": 14, \"color\": \"rgb(25,25,25)\"}, \"y\": 750000}, {\"x\": 1942, \"ay\": -90, \"arrowwidth\": 3, \"y\": 600000, \"ax\": 15}], \"height\": 750}, {\"showLink\": true, \"linkText\": \"Export to plot.ly\"})});</script>"
      ]
     },
     "metadata": {},
     "output_type": "display_data"
    }
   ],
   "source": [
    "trace = go.Scatter(\n",
    "    x = df['Year'],\n",
    "    y = df['Attendance'],\n",
    "    text=df['Country'],\n",
    "    mode = 'lines+markers',\n",
    "    marker=dict(size=16,color=df['host_color']),\n",
    "\n",
    "    line = dict(width = 16,color='rgba(50,50,50,0.2)')\n",
    "    )\n",
    "\n",
    "layout = go.Layout(\n",
    "    paper_bgcolor='rgb(235,235,235)',\n",
    "    plot_bgcolor='rgb(240,240,240)',\n",
    "    xaxis=dict(\n",
    "        showline=False,\n",
    "        tickfont=dict(\n",
    "            family='Arial',\n",
    "            size=12,\n",
    "            color='rgb(0,0,0)'),\n",
    "        #Distance between the ticks\n",
    "        dtick=4,\n",
    "        tick0=1930,\n",
    "        range=[1928,2016],\n",
    "        gridcolor='rgb(255,255,255)'),\n",
    "    yaxis=dict(\n",
    "        tickfont=dict(\n",
    "            family='Arial',\n",
    "            size=12,\n",
    "            color='rgb(12,12,12)'),\n",
    "            dtick=500000,\n",
    "            gridcolor='rgb(255,255,255)'),\n",
    "        title='<b>Football World Cup Attendance - 1926 to 2014</b>',\n",
    "        height=750,\n",
    "        width=750,\n",
    "        annotations=[dict(\n",
    "            x=1946,\n",
    "            y = 750000,\n",
    "            text = '<b>No world cup held <br> in 1942 or 1946</b>',\n",
    "            font=dict(\n",
    "                family = 'Courier New, monospace',\n",
    "                size=14,\n",
    "                color='rgb(25,25,25)'),\n",
    "            ay=-75,\n",
    "            ax=-5,\n",
    "            arrowwidth=3),\n",
    "            dict(\n",
    "            x=1942,\n",
    "            y=600000,\n",
    "            ax=15,\n",
    "            ay=-90,\n",
    "            arrowwidth=3)])\n",
    "\n",
    "\n",
    "\n",
    "data = [trace]\n",
    "\n",
    "\n",
    "fig = go.Figure(data = data,layout=layout)\n",
    "py.iplot(fig)"
   ]
  },
  {
   "cell_type": "code",
   "execution_count": 394,
   "metadata": {
    "collapsed": false
   },
   "outputs": [
    {
     "data": {
      "application/vnd.plotly.v1+json": {
       "data": [
        {
         "line": {
          "color": "rgba(50,50,50,0.2)",
          "width": 16
         },
         "marker": {
          "color": [
           "rgb(0.96779755929199129, 0.44127456009157356, 0.53581031550587011)",
           "rgb(0.9688417625390765, 0.46710871459052145, 0.1965441952393453)",
           "rgb(0.8087954113106306, 0.56347000500566935, 0.19502642696727285)",
           "rgb(0.70086333912909171, 0.60803659800755039, 0.19419512204856468)",
           "rgb(0.59208915296397013, 0.64184670163782442, 0.19350691349910429)",
           "rgb(0.42258837810145911, 0.67794350493184496, 0.19271544738133076)",
           "rgb(0.19783576093349015, 0.69555169660630367, 0.39953010374444992)",
           "rgb(0.20518528131112984, 0.68514977385306008, 0.55625277635579118)",
           "rgb(0.21044753832183283, 0.67731050804567483, 0.64339411684686809)",
           "rgb(0.21576108198845112, 0.66904468724155652, 0.72011929920554307)",
           "rgb(0.22335772267769388, 0.6565792317435265, 0.81713555032656326)",
           "rgb(0.35313807153094168, 0.62014082208294807, 0.95861952356347879)",
           "rgb(0.21044753832183283, 0.67731050804567483, 0.64339411684686809)",
           "rgb(0.9688417625390765, 0.46710871459052145, 0.1965441952393453)",
           "rgb(0.64230443492197387, 0.54976800512564672, 0.9582651433656727)",
           "rgb(0.8087954113106306, 0.56347000500566935, 0.19502642696727285)",
           "rgb(0.83970109472639054, 0.4529020995703274, 0.95786380636530077)",
           "rgb(0.21576108198845112, 0.66904468724155652, 0.72011929920554307)",
           "rgb(0.96038885399407026, 0.38143178787721171, 0.86831176508354913)",
           "rgb(0.70086333912909171, 0.60803659800755039, 0.19419512204856468)"
          ],
          "size": 16
         },
         "mode": "lines+markers",
         "text": [
          "Uruguay",
          "Italy",
          "France",
          "Brazil",
          "Switzerland",
          "Sweden",
          "Chile",
          "England",
          "Mexico",
          "Germany",
          "Argentina",
          "Spain",
          "Mexico",
          "Italy",
          "USA",
          "France",
          "Korea/Japan",
          "Germany",
          "South Africa",
          "Brazil"
         ],
         "type": "scatter",
         "x": [
          1930,
          1934,
          1938,
          1950,
          1954,
          1958,
          1962,
          1966,
          1970,
          1974,
          1978,
          1982,
          1986,
          1990,
          1994,
          1998,
          2002,
          2006,
          2010,
          2014
         ],
         "y": [
          590549,
          363000,
          375700,
          1045246,
          768607,
          819810,
          893172,
          1563135,
          1603975,
          1865753,
          1545791,
          2109723,
          2394031,
          2516215,
          3587538,
          2785100,
          2705197,
          3359439,
          3178856,
          3386810
         ]
        }
       ],
       "layout": {
        "annotations": [
         {
          "arrowwidth": 3,
          "ax": -5,
          "ay": -75,
          "font": {
           "color": "rgb(25,25,25)",
           "family": "Courier New, monospace",
           "size": 14
          },
          "text": "<b>No world cup held <br> in 1942 or 1946</b>",
          "x": 1946,
          "y": 750000
         },
         {
          "arrowwidth": 3,
          "ax": 15,
          "ay": -90,
          "x": 1942,
          "y": 600000
         }
        ],
        "height": 750,
        "paper_bgcolor": "rgb(235,235,235)",
        "plot_bgcolor": "rgb(240,240,240)",
        "title": "<b>Football World Cup Attendance - 1926 to 2014</b>",
        "width": 750,
        "xaxis": {
         "dtick": 4,
         "gridcolor": "rgb(255,255,255)",
         "range": [
          1928,
          2016
         ],
         "showline": false,
         "tick0": 1930,
         "tickfont": {
          "color": "rgb(0,0,0)",
          "family": "Arial",
          "size": 12
         }
        },
        "yaxis": {
         "dtick": 500000,
         "gridcolor": "rgb(255,255,255)",
         "tickfont": {
          "color": "rgb(12,12,12)",
          "family": "Arial",
          "size": 12
         }
        }
       }
      },
      "text/html": [
       "<div id=\"ec6f6fbd-89a4-47f4-9940-8fc859e4300b\" style=\"height: 750px; width: 750px;\" class=\"plotly-graph-div\"></div><script type=\"text/javascript\">require([\"plotly\"], function(Plotly) { window.PLOTLYENV=window.PLOTLYENV || {};window.PLOTLYENV.BASE_URL=\"https://plot.ly\";Plotly.newPlot(\"ec6f6fbd-89a4-47f4-9940-8fc859e4300b\", [{\"text\": [\"Uruguay\", \"Italy\", \"France\", \"Brazil\", \"Switzerland\", \"Sweden\", \"Chile\", \"England\", \"Mexico\", \"Germany\", \"Argentina\", \"Spain\", \"Mexico\", \"Italy\", \"USA\", \"France\", \"Korea/Japan\", \"Germany\", \"South Africa\", \"Brazil\"], \"x\": [1930, 1934, 1938, 1950, 1954, 1958, 1962, 1966, 1970, 1974, 1978, 1982, 1986, 1990, 1994, 1998, 2002, 2006, 2010, 2014], \"marker\": {\"size\": 16, \"color\": [\"rgb(0.96779755929199129, 0.44127456009157356, 0.53581031550587011)\", \"rgb(0.9688417625390765, 0.46710871459052145, 0.1965441952393453)\", \"rgb(0.8087954113106306, 0.56347000500566935, 0.19502642696727285)\", \"rgb(0.70086333912909171, 0.60803659800755039, 0.19419512204856468)\", \"rgb(0.59208915296397013, 0.64184670163782442, 0.19350691349910429)\", \"rgb(0.42258837810145911, 0.67794350493184496, 0.19271544738133076)\", \"rgb(0.19783576093349015, 0.69555169660630367, 0.39953010374444992)\", \"rgb(0.20518528131112984, 0.68514977385306008, 0.55625277635579118)\", \"rgb(0.21044753832183283, 0.67731050804567483, 0.64339411684686809)\", \"rgb(0.21576108198845112, 0.66904468724155652, 0.72011929920554307)\", \"rgb(0.22335772267769388, 0.6565792317435265, 0.81713555032656326)\", \"rgb(0.35313807153094168, 0.62014082208294807, 0.95861952356347879)\", \"rgb(0.21044753832183283, 0.67731050804567483, 0.64339411684686809)\", \"rgb(0.9688417625390765, 0.46710871459052145, 0.1965441952393453)\", \"rgb(0.64230443492197387, 0.54976800512564672, 0.9582651433656727)\", \"rgb(0.8087954113106306, 0.56347000500566935, 0.19502642696727285)\", \"rgb(0.83970109472639054, 0.4529020995703274, 0.95786380636530077)\", \"rgb(0.21576108198845112, 0.66904468724155652, 0.72011929920554307)\", \"rgb(0.96038885399407026, 0.38143178787721171, 0.86831176508354913)\", \"rgb(0.70086333912909171, 0.60803659800755039, 0.19419512204856468)\"]}, \"mode\": \"lines+markers\", \"line\": {\"width\": 16, \"color\": \"rgba(50,50,50,0.2)\"}, \"y\": [590549, 363000, 375700, 1045246, 768607, 819810, 893172, 1563135, 1603975, 1865753, 1545791, 2109723, 2394031, 2516215, 3587538, 2785100, 2705197, 3359439, 3178856, 3386810], \"type\": \"scatter\"}], {\"plot_bgcolor\": \"rgb(240,240,240)\", \"yaxis\": {\"gridcolor\": \"rgb(255,255,255)\", \"dtick\": 500000, \"tickfont\": {\"family\": \"Arial\", \"size\": 12, \"color\": \"rgb(12,12,12)\"}}, \"xaxis\": {\"gridcolor\": \"rgb(255,255,255)\", \"tick0\": 1930, \"dtick\": 4, \"tickfont\": {\"family\": \"Arial\", \"size\": 12, \"color\": \"rgb(0,0,0)\"}, \"showline\": false, \"range\": [1928, 2016]}, \"title\": \"<b>Football World Cup Attendance - 1926 to 2014</b>\", \"width\": 750, \"paper_bgcolor\": \"rgb(235,235,235)\", \"annotations\": [{\"text\": \"<b>No world cup held <br> in 1942 or 1946</b>\", \"x\": 1946, \"ax\": -5, \"arrowwidth\": 3, \"ay\": -75, \"font\": {\"family\": \"Courier New, monospace\", \"size\": 14, \"color\": \"rgb(25,25,25)\"}, \"y\": 750000}, {\"x\": 1942, \"ay\": -90, \"arrowwidth\": 3, \"y\": 600000, \"ax\": 15}], \"height\": 750}, {\"showLink\": true, \"linkText\": \"Export to plot.ly\"})});</script>"
      ],
      "text/vnd.plotly.v1+html": [
       "<div id=\"ec6f6fbd-89a4-47f4-9940-8fc859e4300b\" style=\"height: 750px; width: 750px;\" class=\"plotly-graph-div\"></div><script type=\"text/javascript\">require([\"plotly\"], function(Plotly) { window.PLOTLYENV=window.PLOTLYENV || {};window.PLOTLYENV.BASE_URL=\"https://plot.ly\";Plotly.newPlot(\"ec6f6fbd-89a4-47f4-9940-8fc859e4300b\", [{\"text\": [\"Uruguay\", \"Italy\", \"France\", \"Brazil\", \"Switzerland\", \"Sweden\", \"Chile\", \"England\", \"Mexico\", \"Germany\", \"Argentina\", \"Spain\", \"Mexico\", \"Italy\", \"USA\", \"France\", \"Korea/Japan\", \"Germany\", \"South Africa\", \"Brazil\"], \"x\": [1930, 1934, 1938, 1950, 1954, 1958, 1962, 1966, 1970, 1974, 1978, 1982, 1986, 1990, 1994, 1998, 2002, 2006, 2010, 2014], \"marker\": {\"size\": 16, \"color\": [\"rgb(0.96779755929199129, 0.44127456009157356, 0.53581031550587011)\", \"rgb(0.9688417625390765, 0.46710871459052145, 0.1965441952393453)\", \"rgb(0.8087954113106306, 0.56347000500566935, 0.19502642696727285)\", \"rgb(0.70086333912909171, 0.60803659800755039, 0.19419512204856468)\", \"rgb(0.59208915296397013, 0.64184670163782442, 0.19350691349910429)\", \"rgb(0.42258837810145911, 0.67794350493184496, 0.19271544738133076)\", \"rgb(0.19783576093349015, 0.69555169660630367, 0.39953010374444992)\", \"rgb(0.20518528131112984, 0.68514977385306008, 0.55625277635579118)\", \"rgb(0.21044753832183283, 0.67731050804567483, 0.64339411684686809)\", \"rgb(0.21576108198845112, 0.66904468724155652, 0.72011929920554307)\", \"rgb(0.22335772267769388, 0.6565792317435265, 0.81713555032656326)\", \"rgb(0.35313807153094168, 0.62014082208294807, 0.95861952356347879)\", \"rgb(0.21044753832183283, 0.67731050804567483, 0.64339411684686809)\", \"rgb(0.9688417625390765, 0.46710871459052145, 0.1965441952393453)\", \"rgb(0.64230443492197387, 0.54976800512564672, 0.9582651433656727)\", \"rgb(0.8087954113106306, 0.56347000500566935, 0.19502642696727285)\", \"rgb(0.83970109472639054, 0.4529020995703274, 0.95786380636530077)\", \"rgb(0.21576108198845112, 0.66904468724155652, 0.72011929920554307)\", \"rgb(0.96038885399407026, 0.38143178787721171, 0.86831176508354913)\", \"rgb(0.70086333912909171, 0.60803659800755039, 0.19419512204856468)\"]}, \"mode\": \"lines+markers\", \"line\": {\"width\": 16, \"color\": \"rgba(50,50,50,0.2)\"}, \"y\": [590549, 363000, 375700, 1045246, 768607, 819810, 893172, 1563135, 1603975, 1865753, 1545791, 2109723, 2394031, 2516215, 3587538, 2785100, 2705197, 3359439, 3178856, 3386810], \"type\": \"scatter\"}], {\"plot_bgcolor\": \"rgb(240,240,240)\", \"yaxis\": {\"gridcolor\": \"rgb(255,255,255)\", \"dtick\": 500000, \"tickfont\": {\"family\": \"Arial\", \"size\": 12, \"color\": \"rgb(12,12,12)\"}}, \"xaxis\": {\"gridcolor\": \"rgb(255,255,255)\", \"tick0\": 1930, \"dtick\": 4, \"tickfont\": {\"family\": \"Arial\", \"size\": 12, \"color\": \"rgb(0,0,0)\"}, \"showline\": false, \"range\": [1928, 2016]}, \"title\": \"<b>Football World Cup Attendance - 1926 to 2014</b>\", \"width\": 750, \"paper_bgcolor\": \"rgb(235,235,235)\", \"annotations\": [{\"text\": \"<b>No world cup held <br> in 1942 or 1946</b>\", \"x\": 1946, \"ax\": -5, \"arrowwidth\": 3, \"ay\": -75, \"font\": {\"family\": \"Courier New, monospace\", \"size\": 14, \"color\": \"rgb(25,25,25)\"}, \"y\": 750000}, {\"x\": 1942, \"ay\": -90, \"arrowwidth\": 3, \"y\": 600000, \"ax\": 15}], \"height\": 750}, {\"showLink\": true, \"linkText\": \"Export to plot.ly\"})});</script>"
      ]
     },
     "metadata": {},
     "output_type": "display_data"
    }
   ],
   "source": [
    "trace = go.Scatter(\n",
    "    x = df['Year'],\n",
    "    y = df['Attendance'],\n",
    "    text=df['Country'],\n",
    "    mode = 'lines+markers',\n",
    "    marker=dict(size=16,color=df['host_color']),\n",
    "\n",
    "    line = dict(width = 16,color='rgba(50,50,50,0.2)')\n",
    "    )\n",
    "    \n",
    "layout = go.Layout(\n",
    "    paper_bgcolor='rgb(235,235,235)',\n",
    "    plot_bgcolor='rgb(240,240,240)',\n",
    "    xaxis=dict(\n",
    "        showline=False,\n",
    "        tickfont=dict(\n",
    "            family='Arial',\n",
    "            size=12,\n",
    "            color='rgb(0,0,0)'),\n",
    "        #Distance between the ticks\n",
    "        dtick=4,\n",
    "        tick0=1930,\n",
    "        range=[1928,2016],\n",
    "        gridcolor='rgb(255,255,255)'),\n",
    "    yaxis=dict(\n",
    "        tickfont=dict(\n",
    "            family='Arial',\n",
    "            size=12,\n",
    "            color='rgb(12,12,12)'),\n",
    "            dtick=500000,\n",
    "            gridcolor='rgb(255,255,255)'),\n",
    "        title='<b>Football World Cup Attendance - 1926 to 2014</b>',\n",
    "        height=750,\n",
    "        width=750,\n",
    "        annotations=[dict(\n",
    "            x=1946,\n",
    "            y = 750000,\n",
    "            text = '<b>No world cup held <br> in 1942 or 1946</b>',\n",
    "            font=dict(\n",
    "                family = 'Courier New, monospace',\n",
    "                size=14,\n",
    "                color='rgb(25,25,25)'),\n",
    "            ay=-75,\n",
    "            ax=-5,\n",
    "            arrowwidth=3),\n",
    "            dict(\n",
    "            x=1942,\n",
    "            y=600000,\n",
    "            ax=15,\n",
    "            ay=-90,\n",
    "            arrowwidth=3)],\n",
    ")\n",
    "\n",
    "\n",
    "\n",
    "data = [trace]\n",
    "\n",
    "\n",
    "fig = go.Figure(data = data,layout=layout)\n",
    "py.iplot(fig)"
   ]
  },
  {
   "cell_type": "code",
   "execution_count": 393,
   "metadata": {
    "collapsed": false
   },
   "outputs": [
    {
     "data": {
      "application/vnd.plotly.v1+json": {
       "data": [
        {
         "line": {
          "color": "rgba(50,50,50,0.2)",
          "width": 16
         },
         "marker": {
          "color": [
           "rgb(0.96779755929199129, 0.44127456009157356, 0.53581031550587011)",
           "rgb(0.9688417625390765, 0.46710871459052145, 0.1965441952393453)",
           "rgb(0.9688417625390765, 0.46710871459052145, 0.1965441952393453)",
           "rgb(0.96779755929199129, 0.44127456009157356, 0.53581031550587011)",
           "rgb(0.9645179518697552, 0.41602112206844516, 0.70882087261006699)",
           "rgb(0.70086333912909171, 0.60803659800755039, 0.19419512204856468)",
           "rgb(0.70086333912909171, 0.60803659800755039, 0.19419512204856468)",
           "rgb(0.20518528131112984, 0.68514977385306008, 0.55625277635579118)",
           "rgb(0.70086333912909171, 0.60803659800755039, 0.19419512204856468)",
           "rgb(0.9645179518697552, 0.41602112206844516, 0.70882087261006699)",
           "rgb(0.22335772267769388, 0.6565792317435265, 0.81713555032656326)",
           "rgb(0.9688417625390765, 0.46710871459052145, 0.1965441952393453)",
           "rgb(0.22335772267769388, 0.6565792317435265, 0.81713555032656326)",
           "rgb(0.9645179518697552, 0.41602112206844516, 0.70882087261006699)",
           "rgb(0.70086333912909171, 0.60803659800755039, 0.19419512204856468)",
           "rgb(0.8087954113106306, 0.56347000500566935, 0.19502642696727285)",
           "rgb(0.70086333912909171, 0.60803659800755039, 0.19419512204856468)",
           "rgb(0.9688417625390765, 0.46710871459052145, 0.1965441952393453)",
           "rgb(0.35313807153094168, 0.62014082208294807, 0.95861952356347879)",
           "rgb(0.21576108198845112, 0.66904468724155652, 0.72011929920554307)"
          ],
          "size": 16
         },
         "mode": "lines+markers",
         "text": [
          "Uruguay",
          "Italy",
          "Italy",
          "Uruguay",
          "Germany FR",
          "Brazil",
          "Brazil",
          "England",
          "Brazil",
          "Germany FR",
          "Argentina",
          "Italy",
          "Argentina",
          "Germany FR",
          "Brazil",
          "France",
          "Brazil",
          "Italy",
          "Spain",
          "Germany"
         ],
         "type": "scatter",
         "x": [
          1930,
          1934,
          1938,
          1950,
          1954,
          1958,
          1962,
          1966,
          1970,
          1974,
          1978,
          1982,
          1986,
          1990,
          1994,
          1998,
          2002,
          2006,
          2010,
          2014
         ],
         "y": [
          70,
          70,
          84,
          88,
          140,
          126,
          89,
          89,
          95,
          97,
          102,
          146,
          132,
          115,
          141,
          171,
          161,
          147,
          145,
          171
         ]
        }
       ],
       "layout": {
        "annotations": [
         {
          "font": {
           "color": "black",
           "size": 10
          },
          "showarrow": false,
          "text": "Uruguay",
          "x": 1932,
          "xanchor": "left",
          "xref": "x",
          "y": 3990000,
          "yanchor": "top",
          "yref": "y"
         },
         {
          "font": {
           "color": "black",
           "size": 10
          },
          "showarrow": false,
          "text": "Italy",
          "x": 1932,
          "xanchor": "left",
          "xref": "x",
          "y": 3790000,
          "yanchor": "top",
          "yref": "y"
         },
         {
          "font": {
           "color": "black",
           "size": 10
          },
          "showarrow": false,
          "text": "France",
          "x": 1932,
          "xanchor": "left",
          "xref": "x",
          "y": 3590000,
          "yanchor": "top",
          "yref": "y"
         },
         {
          "font": {
           "color": "black",
           "size": 10
          },
          "showarrow": false,
          "text": "Brazil",
          "x": 1932,
          "xanchor": "left",
          "xref": "x",
          "y": 3390000,
          "yanchor": "top",
          "yref": "y"
         },
         {
          "font": {
           "color": "black",
           "size": 10
          },
          "showarrow": false,
          "text": "Switzerland",
          "x": 1932,
          "xanchor": "left",
          "xref": "x",
          "y": 3190000,
          "yanchor": "top",
          "yref": "y"
         },
         {
          "font": {
           "color": "black",
           "size": 10
          },
          "showarrow": false,
          "text": "Sweden",
          "x": 1932,
          "xanchor": "left",
          "xref": "x",
          "y": 2990000,
          "yanchor": "top",
          "yref": "y"
         },
         {
          "font": {
           "color": "black",
           "size": 10
          },
          "showarrow": false,
          "text": "Chile",
          "x": 1932,
          "xanchor": "left",
          "xref": "x",
          "y": 2790000,
          "yanchor": "top",
          "yref": "y"
         },
         {
          "font": {
           "color": "black",
           "size": 10
          },
          "showarrow": false,
          "text": "England",
          "x": 1932,
          "xanchor": "left",
          "xref": "x",
          "y": 2590000,
          "yanchor": "top",
          "yref": "y"
         },
         {
          "font": {
           "color": "black",
           "size": 10
          },
          "showarrow": false,
          "text": "Mexico",
          "x": 1932,
          "xanchor": "left",
          "xref": "x",
          "y": 2390000,
          "yanchor": "top",
          "yref": "y"
         },
         {
          "font": {
           "color": "black",
           "size": 10
          },
          "showarrow": false,
          "text": "Germany",
          "x": 1932,
          "xanchor": "left",
          "xref": "x",
          "y": 2190000,
          "yanchor": "top",
          "yref": "y"
         },
         {
          "font": {
           "color": "black",
           "size": 10
          },
          "showarrow": false,
          "text": "Argentina",
          "x": 1932,
          "xanchor": "left",
          "xref": "x",
          "y": 1990000,
          "yanchor": "top",
          "yref": "y"
         },
         {
          "font": {
           "color": "black",
           "size": 10
          },
          "showarrow": false,
          "text": "Spain",
          "x": 1932,
          "xanchor": "left",
          "xref": "x",
          "y": 1790000,
          "yanchor": "top",
          "yref": "y"
         },
         {
          "font": {
           "color": "black",
           "size": 10
          },
          "showarrow": false,
          "text": "USA",
          "x": 1932,
          "xanchor": "left",
          "xref": "x",
          "y": 1590000,
          "yanchor": "top",
          "yref": "y"
         },
         {
          "font": {
           "color": "black",
           "size": 10
          },
          "showarrow": false,
          "text": "Korea/Japan",
          "x": 1932,
          "xanchor": "left",
          "xref": "x",
          "y": 1390000,
          "yanchor": "top",
          "yref": "y"
         },
         {
          "font": {
           "color": "black",
           "size": 10
          },
          "showarrow": false,
          "text": "South Africa",
          "x": 1932,
          "xanchor": "left",
          "xref": "x",
          "y": 1190000,
          "yanchor": "top",
          "yref": "y"
         },
         {
          "font": {
           "color": "black",
           "size": 10
          },
          "showarrow": false,
          "text": "Germany FR",
          "x": 1932,
          "xanchor": "left",
          "xref": "x",
          "y": 990000,
          "yanchor": "top",
          "yref": "y"
         }
        ],
        "height": 750,
        "paper_bgcolor": "rgb(235,235,235)",
        "plot_bgcolor": "rgb(240,240,240)",
        "shapes": [
         {
          "fillcolor": "rgba(255, 255, 255,0.5)",
          "line": {
           "color": "rgb(0, 0, 0)",
           "width": 1
          },
          "type": "rect",
          "x0": 1928,
          "x1": 1942,
          "xref": "x",
          "y0": 3990000,
          "y1": 800000,
          "yref": "y"
         },
         {
          "fillcolor": "rgb(0.96779755929199129, 0.44127456009157356, 0.53581031550587011)",
          "line": {
           "color": "rgba(50, 171, 96, 1)"
          },
          "type": "rect",
          "x0": 1929,
          "x1": 1932,
          "xref": "x",
          "y0": 3935000,
          "y1": 3835000,
          "yref": "y"
         },
         {
          "fillcolor": "rgb(0.9688417625390765, 0.46710871459052145, 0.1965441952393453)",
          "line": {
           "color": "rgba(50, 171, 96, 1)"
          },
          "type": "rect",
          "x0": 1929,
          "x1": 1932,
          "xref": "x",
          "y0": 3735000,
          "y1": 3635000,
          "yref": "y"
         },
         {
          "fillcolor": "rgb(0.8087954113106306, 0.56347000500566935, 0.19502642696727285)",
          "line": {
           "color": "rgba(50, 171, 96, 1)"
          },
          "type": "rect",
          "x0": 1929,
          "x1": 1932,
          "xref": "x",
          "y0": 3535000,
          "y1": 3435000,
          "yref": "y"
         },
         {
          "fillcolor": "rgb(0.70086333912909171, 0.60803659800755039, 0.19419512204856468)",
          "line": {
           "color": "rgba(50, 171, 96, 1)"
          },
          "type": "rect",
          "x0": 1929,
          "x1": 1932,
          "xref": "x",
          "y0": 3335000,
          "y1": 3235000,
          "yref": "y"
         },
         {
          "fillcolor": "rgb(0.59208915296397013, 0.64184670163782442, 0.19350691349910429)",
          "line": {
           "color": "rgba(50, 171, 96, 1)"
          },
          "type": "rect",
          "x0": 1929,
          "x1": 1932,
          "xref": "x",
          "y0": 3135000,
          "y1": 3035000,
          "yref": "y"
         },
         {
          "fillcolor": "rgb(0.42258837810145911, 0.67794350493184496, 0.19271544738133076)",
          "line": {
           "color": "rgba(50, 171, 96, 1)"
          },
          "type": "rect",
          "x0": 1929,
          "x1": 1932,
          "xref": "x",
          "y0": 2935000,
          "y1": 2835000,
          "yref": "y"
         },
         {
          "fillcolor": "rgb(0.19783576093349015, 0.69555169660630367, 0.39953010374444992)",
          "line": {
           "color": "rgba(50, 171, 96, 1)"
          },
          "type": "rect",
          "x0": 1929,
          "x1": 1932,
          "xref": "x",
          "y0": 2735000,
          "y1": 2635000,
          "yref": "y"
         },
         {
          "fillcolor": "rgb(0.20518528131112984, 0.68514977385306008, 0.55625277635579118)",
          "line": {
           "color": "rgba(50, 171, 96, 1)"
          },
          "type": "rect",
          "x0": 1929,
          "x1": 1932,
          "xref": "x",
          "y0": 2535000,
          "y1": 2435000,
          "yref": "y"
         },
         {
          "fillcolor": "rgb(0.21044753832183283, 0.67731050804567483, 0.64339411684686809)",
          "line": {
           "color": "rgba(50, 171, 96, 1)"
          },
          "type": "rect",
          "x0": 1929,
          "x1": 1932,
          "xref": "x",
          "y0": 2335000,
          "y1": 2235000,
          "yref": "y"
         },
         {
          "fillcolor": "rgb(0.21576108198845112, 0.66904468724155652, 0.72011929920554307)",
          "line": {
           "color": "rgba(50, 171, 96, 1)"
          },
          "type": "rect",
          "x0": 1929,
          "x1": 1932,
          "xref": "x",
          "y0": 2135000,
          "y1": 2035000,
          "yref": "y"
         },
         {
          "fillcolor": "rgb(0.22335772267769388, 0.6565792317435265, 0.81713555032656326)",
          "line": {
           "color": "rgba(50, 171, 96, 1)"
          },
          "type": "rect",
          "x0": 1929,
          "x1": 1932,
          "xref": "x",
          "y0": 1935000,
          "y1": 1835000,
          "yref": "y"
         },
         {
          "fillcolor": "rgb(0.35313807153094168, 0.62014082208294807, 0.95861952356347879)",
          "line": {
           "color": "rgba(50, 171, 96, 1)"
          },
          "type": "rect",
          "x0": 1929,
          "x1": 1932,
          "xref": "x",
          "y0": 1735000,
          "y1": 1635000,
          "yref": "y"
         },
         {
          "fillcolor": "rgb(0.64230443492197387, 0.54976800512564672, 0.9582651433656727)",
          "line": {
           "color": "rgba(50, 171, 96, 1)"
          },
          "type": "rect",
          "x0": 1929,
          "x1": 1932,
          "xref": "x",
          "y0": 1535000,
          "y1": 1435000,
          "yref": "y"
         },
         {
          "fillcolor": "rgb(0.83970109472639054, 0.4529020995703274, 0.95786380636530077)",
          "line": {
           "color": "rgba(50, 171, 96, 1)"
          },
          "type": "rect",
          "x0": 1929,
          "x1": 1932,
          "xref": "x",
          "y0": 1335000,
          "y1": 1235000,
          "yref": "y"
         },
         {
          "fillcolor": "rgb(0.96038885399407026, 0.38143178787721171, 0.86831176508354913)",
          "line": {
           "color": "rgba(50, 171, 96, 1)"
          },
          "type": "rect",
          "x0": 1929,
          "x1": 1932,
          "xref": "x",
          "y0": 1135000,
          "y1": 1035000,
          "yref": "y"
         },
         {
          "fillcolor": "rgb(0.9645179518697552, 0.41602112206844516, 0.70882087261006699)",
          "line": {
           "color": "rgba(50, 171, 96, 1)"
          },
          "type": "rect",
          "x0": 1929,
          "x1": 1932,
          "xref": "x",
          "y0": 935000,
          "y1": 835000,
          "yref": "y"
         }
        ],
        "title": "<b>Football World Cup Winners 1930 to 2014</b>",
        "width": 750,
        "xaxis": {
         "dtick": 4,
         "gridcolor": "rgb(255,255,255)",
         "range": [
          1928,
          2016
         ],
         "showline": false,
         "tick0": 1930,
         "tickfont": {
          "color": "rgb(0,0,0)",
          "family": "Arial",
          "size": 12
         }
        },
        "yaxis": {
         "gridcolor": "rgb(255,255,255)",
         "range": [
          0,
          200
         ],
         "tickfont": {
          "color": "rgb(12,12,12)",
          "family": "Arial",
          "size": 12
         }
        }
       }
      },
      "text/html": [
       "<div id=\"88c67174-7f28-4bb6-bfa3-d0ac83771865\" style=\"height: 750px; width: 750px;\" class=\"plotly-graph-div\"></div><script type=\"text/javascript\">require([\"plotly\"], function(Plotly) { window.PLOTLYENV=window.PLOTLYENV || {};window.PLOTLYENV.BASE_URL=\"https://plot.ly\";Plotly.newPlot(\"88c67174-7f28-4bb6-bfa3-d0ac83771865\", [{\"text\": [\"Uruguay\", \"Italy\", \"Italy\", \"Uruguay\", \"Germany FR\", \"Brazil\", \"Brazil\", \"England\", \"Brazil\", \"Germany FR\", \"Argentina\", \"Italy\", \"Argentina\", \"Germany FR\", \"Brazil\", \"France\", \"Brazil\", \"Italy\", \"Spain\", \"Germany\"], \"x\": [1930, 1934, 1938, 1950, 1954, 1958, 1962, 1966, 1970, 1974, 1978, 1982, 1986, 1990, 1994, 1998, 2002, 2006, 2010, 2014], \"marker\": {\"size\": 16, \"color\": [\"rgb(0.96779755929199129, 0.44127456009157356, 0.53581031550587011)\", \"rgb(0.9688417625390765, 0.46710871459052145, 0.1965441952393453)\", \"rgb(0.9688417625390765, 0.46710871459052145, 0.1965441952393453)\", \"rgb(0.96779755929199129, 0.44127456009157356, 0.53581031550587011)\", \"rgb(0.9645179518697552, 0.41602112206844516, 0.70882087261006699)\", \"rgb(0.70086333912909171, 0.60803659800755039, 0.19419512204856468)\", \"rgb(0.70086333912909171, 0.60803659800755039, 0.19419512204856468)\", \"rgb(0.20518528131112984, 0.68514977385306008, 0.55625277635579118)\", \"rgb(0.70086333912909171, 0.60803659800755039, 0.19419512204856468)\", \"rgb(0.9645179518697552, 0.41602112206844516, 0.70882087261006699)\", \"rgb(0.22335772267769388, 0.6565792317435265, 0.81713555032656326)\", \"rgb(0.9688417625390765, 0.46710871459052145, 0.1965441952393453)\", \"rgb(0.22335772267769388, 0.6565792317435265, 0.81713555032656326)\", \"rgb(0.9645179518697552, 0.41602112206844516, 0.70882087261006699)\", \"rgb(0.70086333912909171, 0.60803659800755039, 0.19419512204856468)\", \"rgb(0.8087954113106306, 0.56347000500566935, 0.19502642696727285)\", \"rgb(0.70086333912909171, 0.60803659800755039, 0.19419512204856468)\", \"rgb(0.9688417625390765, 0.46710871459052145, 0.1965441952393453)\", \"rgb(0.35313807153094168, 0.62014082208294807, 0.95861952356347879)\", \"rgb(0.21576108198845112, 0.66904468724155652, 0.72011929920554307)\"]}, \"mode\": \"lines+markers\", \"line\": {\"width\": 16, \"color\": \"rgba(50,50,50,0.2)\"}, \"y\": [70, 70, 84, 88, 140, 126, 89, 89, 95, 97, 102, 146, 132, 115, 141, 171, 161, 147, 145, 171], \"type\": \"scatter\"}], {\"shapes\": [{\"yref\": \"y\", \"y1\": 800000, \"x0\": 1928, \"x1\": 1942, \"fillcolor\": \"rgba(255, 255, 255,0.5)\", \"xref\": \"x\", \"y0\": 3990000, \"line\": {\"width\": 1, \"color\": \"rgb(0, 0, 0)\"}, \"type\": \"rect\"}, {\"yref\": \"y\", \"y1\": 3835000, \"x0\": 1929, \"x1\": 1932, \"fillcolor\": \"rgb(0.96779755929199129, 0.44127456009157356, 0.53581031550587011)\", \"xref\": \"x\", \"y0\": 3935000, \"line\": {\"color\": \"rgba(50, 171, 96, 1)\"}, \"type\": \"rect\"}, {\"yref\": \"y\", \"y1\": 3635000, \"x0\": 1929, \"x1\": 1932, \"fillcolor\": \"rgb(0.9688417625390765, 0.46710871459052145, 0.1965441952393453)\", \"xref\": \"x\", \"y0\": 3735000, \"line\": {\"color\": \"rgba(50, 171, 96, 1)\"}, \"type\": \"rect\"}, {\"yref\": \"y\", \"y1\": 3435000, \"x0\": 1929, \"x1\": 1932, \"fillcolor\": \"rgb(0.8087954113106306, 0.56347000500566935, 0.19502642696727285)\", \"xref\": \"x\", \"y0\": 3535000, \"line\": {\"color\": \"rgba(50, 171, 96, 1)\"}, \"type\": \"rect\"}, {\"yref\": \"y\", \"y1\": 3235000, \"x0\": 1929, \"x1\": 1932, \"fillcolor\": \"rgb(0.70086333912909171, 0.60803659800755039, 0.19419512204856468)\", \"xref\": \"x\", \"y0\": 3335000, \"line\": {\"color\": \"rgba(50, 171, 96, 1)\"}, \"type\": \"rect\"}, {\"yref\": \"y\", \"y1\": 3035000, \"x0\": 1929, \"x1\": 1932, \"fillcolor\": \"rgb(0.59208915296397013, 0.64184670163782442, 0.19350691349910429)\", \"xref\": \"x\", \"y0\": 3135000, \"line\": {\"color\": \"rgba(50, 171, 96, 1)\"}, \"type\": \"rect\"}, {\"yref\": \"y\", \"y1\": 2835000, \"x0\": 1929, \"x1\": 1932, \"fillcolor\": \"rgb(0.42258837810145911, 0.67794350493184496, 0.19271544738133076)\", \"xref\": \"x\", \"y0\": 2935000, \"line\": {\"color\": \"rgba(50, 171, 96, 1)\"}, \"type\": \"rect\"}, {\"yref\": \"y\", \"y1\": 2635000, \"x0\": 1929, \"x1\": 1932, \"fillcolor\": \"rgb(0.19783576093349015, 0.69555169660630367, 0.39953010374444992)\", \"xref\": \"x\", \"y0\": 2735000, \"line\": {\"color\": \"rgba(50, 171, 96, 1)\"}, \"type\": \"rect\"}, {\"yref\": \"y\", \"y1\": 2435000, \"x0\": 1929, \"x1\": 1932, \"fillcolor\": \"rgb(0.20518528131112984, 0.68514977385306008, 0.55625277635579118)\", \"xref\": \"x\", \"y0\": 2535000, \"line\": {\"color\": \"rgba(50, 171, 96, 1)\"}, \"type\": \"rect\"}, {\"yref\": \"y\", \"y1\": 2235000, \"x0\": 1929, \"x1\": 1932, \"fillcolor\": \"rgb(0.21044753832183283, 0.67731050804567483, 0.64339411684686809)\", \"xref\": \"x\", \"y0\": 2335000, \"line\": {\"color\": \"rgba(50, 171, 96, 1)\"}, \"type\": \"rect\"}, {\"yref\": \"y\", \"y1\": 2035000, \"x0\": 1929, \"x1\": 1932, \"fillcolor\": \"rgb(0.21576108198845112, 0.66904468724155652, 0.72011929920554307)\", \"xref\": \"x\", \"y0\": 2135000, \"line\": {\"color\": \"rgba(50, 171, 96, 1)\"}, \"type\": \"rect\"}, {\"yref\": \"y\", \"y1\": 1835000, \"x0\": 1929, \"x1\": 1932, \"fillcolor\": \"rgb(0.22335772267769388, 0.6565792317435265, 0.81713555032656326)\", \"xref\": \"x\", \"y0\": 1935000, \"line\": {\"color\": \"rgba(50, 171, 96, 1)\"}, \"type\": \"rect\"}, {\"yref\": \"y\", \"y1\": 1635000, \"x0\": 1929, \"x1\": 1932, \"fillcolor\": \"rgb(0.35313807153094168, 0.62014082208294807, 0.95861952356347879)\", \"xref\": \"x\", \"y0\": 1735000, \"line\": {\"color\": \"rgba(50, 171, 96, 1)\"}, \"type\": \"rect\"}, {\"yref\": \"y\", \"y1\": 1435000, \"x0\": 1929, \"x1\": 1932, \"fillcolor\": \"rgb(0.64230443492197387, 0.54976800512564672, 0.9582651433656727)\", \"xref\": \"x\", \"y0\": 1535000, \"line\": {\"color\": \"rgba(50, 171, 96, 1)\"}, \"type\": \"rect\"}, {\"yref\": \"y\", \"y1\": 1235000, \"x0\": 1929, \"x1\": 1932, \"fillcolor\": \"rgb(0.83970109472639054, 0.4529020995703274, 0.95786380636530077)\", \"xref\": \"x\", \"y0\": 1335000, \"line\": {\"color\": \"rgba(50, 171, 96, 1)\"}, \"type\": \"rect\"}, {\"yref\": \"y\", \"y1\": 1035000, \"x0\": 1929, \"x1\": 1932, \"fillcolor\": \"rgb(0.96038885399407026, 0.38143178787721171, 0.86831176508354913)\", \"xref\": \"x\", \"y0\": 1135000, \"line\": {\"color\": \"rgba(50, 171, 96, 1)\"}, \"type\": \"rect\"}, {\"yref\": \"y\", \"y1\": 835000, \"x0\": 1929, \"x1\": 1932, \"fillcolor\": \"rgb(0.9645179518697552, 0.41602112206844516, 0.70882087261006699)\", \"xref\": \"x\", \"y0\": 935000, \"line\": {\"color\": \"rgba(50, 171, 96, 1)\"}, \"type\": \"rect\"}], \"plot_bgcolor\": \"rgb(240,240,240)\", \"yaxis\": {\"gridcolor\": \"rgb(255,255,255)\", \"range\": [0, 200], \"tickfont\": {\"family\": \"Arial\", \"size\": 12, \"color\": \"rgb(12,12,12)\"}}, \"xaxis\": {\"gridcolor\": \"rgb(255,255,255)\", \"tick0\": 1930, \"dtick\": 4, \"tickfont\": {\"family\": \"Arial\", \"size\": 12, \"color\": \"rgb(0,0,0)\"}, \"showline\": false, \"range\": [1928, 2016]}, \"title\": \"<b>Football World Cup Winners 1930 to 2014</b>\", \"width\": 750, \"paper_bgcolor\": \"rgb(235,235,235)\", \"annotations\": [{\"yref\": \"y\", \"text\": \"Uruguay\", \"xanchor\": \"left\", \"xref\": \"x\", \"x\": 1932, \"yanchor\": \"top\", \"font\": {\"size\": 10, \"color\": \"black\"}, \"y\": 3990000, \"showarrow\": false}, {\"yref\": \"y\", \"text\": \"Italy\", \"xanchor\": \"left\", \"xref\": \"x\", \"x\": 1932, \"yanchor\": \"top\", \"font\": {\"size\": 10, \"color\": \"black\"}, \"y\": 3790000, \"showarrow\": false}, {\"yref\": \"y\", \"text\": \"France\", \"xanchor\": \"left\", \"xref\": \"x\", \"x\": 1932, \"yanchor\": \"top\", \"font\": {\"size\": 10, \"color\": \"black\"}, \"y\": 3590000, \"showarrow\": false}, {\"yref\": \"y\", \"text\": \"Brazil\", \"xanchor\": \"left\", \"xref\": \"x\", \"x\": 1932, \"yanchor\": \"top\", \"font\": {\"size\": 10, \"color\": \"black\"}, \"y\": 3390000, \"showarrow\": false}, {\"yref\": \"y\", \"text\": \"Switzerland\", \"xanchor\": \"left\", \"xref\": \"x\", \"x\": 1932, \"yanchor\": \"top\", \"font\": {\"size\": 10, \"color\": \"black\"}, \"y\": 3190000, \"showarrow\": false}, {\"yref\": \"y\", \"text\": \"Sweden\", \"xanchor\": \"left\", \"xref\": \"x\", \"x\": 1932, \"yanchor\": \"top\", \"font\": {\"size\": 10, \"color\": \"black\"}, \"y\": 2990000, \"showarrow\": false}, {\"yref\": \"y\", \"text\": \"Chile\", \"xanchor\": \"left\", \"xref\": \"x\", \"x\": 1932, \"yanchor\": \"top\", \"font\": {\"size\": 10, \"color\": \"black\"}, \"y\": 2790000, \"showarrow\": false}, {\"yref\": \"y\", \"text\": \"England\", \"xanchor\": \"left\", \"xref\": \"x\", \"x\": 1932, \"yanchor\": \"top\", \"font\": {\"size\": 10, \"color\": \"black\"}, \"y\": 2590000, \"showarrow\": false}, {\"yref\": \"y\", \"text\": \"Mexico\", \"xanchor\": \"left\", \"xref\": \"x\", \"x\": 1932, \"yanchor\": \"top\", \"font\": {\"size\": 10, \"color\": \"black\"}, \"y\": 2390000, \"showarrow\": false}, {\"yref\": \"y\", \"text\": \"Germany\", \"xanchor\": \"left\", \"xref\": \"x\", \"x\": 1932, \"yanchor\": \"top\", \"font\": {\"size\": 10, \"color\": \"black\"}, \"y\": 2190000, \"showarrow\": false}, {\"yref\": \"y\", \"text\": \"Argentina\", \"xanchor\": \"left\", \"xref\": \"x\", \"x\": 1932, \"yanchor\": \"top\", \"font\": {\"size\": 10, \"color\": \"black\"}, \"y\": 1990000, \"showarrow\": false}, {\"yref\": \"y\", \"text\": \"Spain\", \"xanchor\": \"left\", \"xref\": \"x\", \"x\": 1932, \"yanchor\": \"top\", \"font\": {\"size\": 10, \"color\": \"black\"}, \"y\": 1790000, \"showarrow\": false}, {\"yref\": \"y\", \"text\": \"USA\", \"xanchor\": \"left\", \"xref\": \"x\", \"x\": 1932, \"yanchor\": \"top\", \"font\": {\"size\": 10, \"color\": \"black\"}, \"y\": 1590000, \"showarrow\": false}, {\"yref\": \"y\", \"text\": \"Korea/Japan\", \"xanchor\": \"left\", \"xref\": \"x\", \"x\": 1932, \"yanchor\": \"top\", \"font\": {\"size\": 10, \"color\": \"black\"}, \"y\": 1390000, \"showarrow\": false}, {\"yref\": \"y\", \"text\": \"South Africa\", \"xanchor\": \"left\", \"xref\": \"x\", \"x\": 1932, \"yanchor\": \"top\", \"font\": {\"size\": 10, \"color\": \"black\"}, \"y\": 1190000, \"showarrow\": false}, {\"yref\": \"y\", \"text\": \"Germany FR\", \"xanchor\": \"left\", \"xref\": \"x\", \"x\": 1932, \"yanchor\": \"top\", \"font\": {\"size\": 10, \"color\": \"black\"}, \"y\": 990000, \"showarrow\": false}], \"height\": 750}, {\"showLink\": true, \"linkText\": \"Export to plot.ly\"})});</script>"
      ],
      "text/vnd.plotly.v1+html": [
       "<div id=\"88c67174-7f28-4bb6-bfa3-d0ac83771865\" style=\"height: 750px; width: 750px;\" class=\"plotly-graph-div\"></div><script type=\"text/javascript\">require([\"plotly\"], function(Plotly) { window.PLOTLYENV=window.PLOTLYENV || {};window.PLOTLYENV.BASE_URL=\"https://plot.ly\";Plotly.newPlot(\"88c67174-7f28-4bb6-bfa3-d0ac83771865\", [{\"text\": [\"Uruguay\", \"Italy\", \"Italy\", \"Uruguay\", \"Germany FR\", \"Brazil\", \"Brazil\", \"England\", \"Brazil\", \"Germany FR\", \"Argentina\", \"Italy\", \"Argentina\", \"Germany FR\", \"Brazil\", \"France\", \"Brazil\", \"Italy\", \"Spain\", \"Germany\"], \"x\": [1930, 1934, 1938, 1950, 1954, 1958, 1962, 1966, 1970, 1974, 1978, 1982, 1986, 1990, 1994, 1998, 2002, 2006, 2010, 2014], \"marker\": {\"size\": 16, \"color\": [\"rgb(0.96779755929199129, 0.44127456009157356, 0.53581031550587011)\", \"rgb(0.9688417625390765, 0.46710871459052145, 0.1965441952393453)\", \"rgb(0.9688417625390765, 0.46710871459052145, 0.1965441952393453)\", \"rgb(0.96779755929199129, 0.44127456009157356, 0.53581031550587011)\", \"rgb(0.9645179518697552, 0.41602112206844516, 0.70882087261006699)\", \"rgb(0.70086333912909171, 0.60803659800755039, 0.19419512204856468)\", \"rgb(0.70086333912909171, 0.60803659800755039, 0.19419512204856468)\", \"rgb(0.20518528131112984, 0.68514977385306008, 0.55625277635579118)\", \"rgb(0.70086333912909171, 0.60803659800755039, 0.19419512204856468)\", \"rgb(0.9645179518697552, 0.41602112206844516, 0.70882087261006699)\", \"rgb(0.22335772267769388, 0.6565792317435265, 0.81713555032656326)\", \"rgb(0.9688417625390765, 0.46710871459052145, 0.1965441952393453)\", \"rgb(0.22335772267769388, 0.6565792317435265, 0.81713555032656326)\", \"rgb(0.9645179518697552, 0.41602112206844516, 0.70882087261006699)\", \"rgb(0.70086333912909171, 0.60803659800755039, 0.19419512204856468)\", \"rgb(0.8087954113106306, 0.56347000500566935, 0.19502642696727285)\", \"rgb(0.70086333912909171, 0.60803659800755039, 0.19419512204856468)\", \"rgb(0.9688417625390765, 0.46710871459052145, 0.1965441952393453)\", \"rgb(0.35313807153094168, 0.62014082208294807, 0.95861952356347879)\", \"rgb(0.21576108198845112, 0.66904468724155652, 0.72011929920554307)\"]}, \"mode\": \"lines+markers\", \"line\": {\"width\": 16, \"color\": \"rgba(50,50,50,0.2)\"}, \"y\": [70, 70, 84, 88, 140, 126, 89, 89, 95, 97, 102, 146, 132, 115, 141, 171, 161, 147, 145, 171], \"type\": \"scatter\"}], {\"shapes\": [{\"yref\": \"y\", \"y1\": 800000, \"x0\": 1928, \"x1\": 1942, \"fillcolor\": \"rgba(255, 255, 255,0.5)\", \"xref\": \"x\", \"y0\": 3990000, \"line\": {\"width\": 1, \"color\": \"rgb(0, 0, 0)\"}, \"type\": \"rect\"}, {\"yref\": \"y\", \"y1\": 3835000, \"x0\": 1929, \"x1\": 1932, \"fillcolor\": \"rgb(0.96779755929199129, 0.44127456009157356, 0.53581031550587011)\", \"xref\": \"x\", \"y0\": 3935000, \"line\": {\"color\": \"rgba(50, 171, 96, 1)\"}, \"type\": \"rect\"}, {\"yref\": \"y\", \"y1\": 3635000, \"x0\": 1929, \"x1\": 1932, \"fillcolor\": \"rgb(0.9688417625390765, 0.46710871459052145, 0.1965441952393453)\", \"xref\": \"x\", \"y0\": 3735000, \"line\": {\"color\": \"rgba(50, 171, 96, 1)\"}, \"type\": \"rect\"}, {\"yref\": \"y\", \"y1\": 3435000, \"x0\": 1929, \"x1\": 1932, \"fillcolor\": \"rgb(0.8087954113106306, 0.56347000500566935, 0.19502642696727285)\", \"xref\": \"x\", \"y0\": 3535000, \"line\": {\"color\": \"rgba(50, 171, 96, 1)\"}, \"type\": \"rect\"}, {\"yref\": \"y\", \"y1\": 3235000, \"x0\": 1929, \"x1\": 1932, \"fillcolor\": \"rgb(0.70086333912909171, 0.60803659800755039, 0.19419512204856468)\", \"xref\": \"x\", \"y0\": 3335000, \"line\": {\"color\": \"rgba(50, 171, 96, 1)\"}, \"type\": \"rect\"}, {\"yref\": \"y\", \"y1\": 3035000, \"x0\": 1929, \"x1\": 1932, \"fillcolor\": \"rgb(0.59208915296397013, 0.64184670163782442, 0.19350691349910429)\", \"xref\": \"x\", \"y0\": 3135000, \"line\": {\"color\": \"rgba(50, 171, 96, 1)\"}, \"type\": \"rect\"}, {\"yref\": \"y\", \"y1\": 2835000, \"x0\": 1929, \"x1\": 1932, \"fillcolor\": \"rgb(0.42258837810145911, 0.67794350493184496, 0.19271544738133076)\", \"xref\": \"x\", \"y0\": 2935000, \"line\": {\"color\": \"rgba(50, 171, 96, 1)\"}, \"type\": \"rect\"}, {\"yref\": \"y\", \"y1\": 2635000, \"x0\": 1929, \"x1\": 1932, \"fillcolor\": \"rgb(0.19783576093349015, 0.69555169660630367, 0.39953010374444992)\", \"xref\": \"x\", \"y0\": 2735000, \"line\": {\"color\": \"rgba(50, 171, 96, 1)\"}, \"type\": \"rect\"}, {\"yref\": \"y\", \"y1\": 2435000, \"x0\": 1929, \"x1\": 1932, \"fillcolor\": \"rgb(0.20518528131112984, 0.68514977385306008, 0.55625277635579118)\", \"xref\": \"x\", \"y0\": 2535000, \"line\": {\"color\": \"rgba(50, 171, 96, 1)\"}, \"type\": \"rect\"}, {\"yref\": \"y\", \"y1\": 2235000, \"x0\": 1929, \"x1\": 1932, \"fillcolor\": \"rgb(0.21044753832183283, 0.67731050804567483, 0.64339411684686809)\", \"xref\": \"x\", \"y0\": 2335000, \"line\": {\"color\": \"rgba(50, 171, 96, 1)\"}, \"type\": \"rect\"}, {\"yref\": \"y\", \"y1\": 2035000, \"x0\": 1929, \"x1\": 1932, \"fillcolor\": \"rgb(0.21576108198845112, 0.66904468724155652, 0.72011929920554307)\", \"xref\": \"x\", \"y0\": 2135000, \"line\": {\"color\": \"rgba(50, 171, 96, 1)\"}, \"type\": \"rect\"}, {\"yref\": \"y\", \"y1\": 1835000, \"x0\": 1929, \"x1\": 1932, \"fillcolor\": \"rgb(0.22335772267769388, 0.6565792317435265, 0.81713555032656326)\", \"xref\": \"x\", \"y0\": 1935000, \"line\": {\"color\": \"rgba(50, 171, 96, 1)\"}, \"type\": \"rect\"}, {\"yref\": \"y\", \"y1\": 1635000, \"x0\": 1929, \"x1\": 1932, \"fillcolor\": \"rgb(0.35313807153094168, 0.62014082208294807, 0.95861952356347879)\", \"xref\": \"x\", \"y0\": 1735000, \"line\": {\"color\": \"rgba(50, 171, 96, 1)\"}, \"type\": \"rect\"}, {\"yref\": \"y\", \"y1\": 1435000, \"x0\": 1929, \"x1\": 1932, \"fillcolor\": \"rgb(0.64230443492197387, 0.54976800512564672, 0.9582651433656727)\", \"xref\": \"x\", \"y0\": 1535000, \"line\": {\"color\": \"rgba(50, 171, 96, 1)\"}, \"type\": \"rect\"}, {\"yref\": \"y\", \"y1\": 1235000, \"x0\": 1929, \"x1\": 1932, \"fillcolor\": \"rgb(0.83970109472639054, 0.4529020995703274, 0.95786380636530077)\", \"xref\": \"x\", \"y0\": 1335000, \"line\": {\"color\": \"rgba(50, 171, 96, 1)\"}, \"type\": \"rect\"}, {\"yref\": \"y\", \"y1\": 1035000, \"x0\": 1929, \"x1\": 1932, \"fillcolor\": \"rgb(0.96038885399407026, 0.38143178787721171, 0.86831176508354913)\", \"xref\": \"x\", \"y0\": 1135000, \"line\": {\"color\": \"rgba(50, 171, 96, 1)\"}, \"type\": \"rect\"}, {\"yref\": \"y\", \"y1\": 835000, \"x0\": 1929, \"x1\": 1932, \"fillcolor\": \"rgb(0.9645179518697552, 0.41602112206844516, 0.70882087261006699)\", \"xref\": \"x\", \"y0\": 935000, \"line\": {\"color\": \"rgba(50, 171, 96, 1)\"}, \"type\": \"rect\"}], \"plot_bgcolor\": \"rgb(240,240,240)\", \"yaxis\": {\"gridcolor\": \"rgb(255,255,255)\", \"range\": [0, 200], \"tickfont\": {\"family\": \"Arial\", \"size\": 12, \"color\": \"rgb(12,12,12)\"}}, \"xaxis\": {\"gridcolor\": \"rgb(255,255,255)\", \"tick0\": 1930, \"dtick\": 4, \"tickfont\": {\"family\": \"Arial\", \"size\": 12, \"color\": \"rgb(0,0,0)\"}, \"showline\": false, \"range\": [1928, 2016]}, \"title\": \"<b>Football World Cup Winners 1930 to 2014</b>\", \"width\": 750, \"paper_bgcolor\": \"rgb(235,235,235)\", \"annotations\": [{\"yref\": \"y\", \"text\": \"Uruguay\", \"xanchor\": \"left\", \"xref\": \"x\", \"x\": 1932, \"yanchor\": \"top\", \"font\": {\"size\": 10, \"color\": \"black\"}, \"y\": 3990000, \"showarrow\": false}, {\"yref\": \"y\", \"text\": \"Italy\", \"xanchor\": \"left\", \"xref\": \"x\", \"x\": 1932, \"yanchor\": \"top\", \"font\": {\"size\": 10, \"color\": \"black\"}, \"y\": 3790000, \"showarrow\": false}, {\"yref\": \"y\", \"text\": \"France\", \"xanchor\": \"left\", \"xref\": \"x\", \"x\": 1932, \"yanchor\": \"top\", \"font\": {\"size\": 10, \"color\": \"black\"}, \"y\": 3590000, \"showarrow\": false}, {\"yref\": \"y\", \"text\": \"Brazil\", \"xanchor\": \"left\", \"xref\": \"x\", \"x\": 1932, \"yanchor\": \"top\", \"font\": {\"size\": 10, \"color\": \"black\"}, \"y\": 3390000, \"showarrow\": false}, {\"yref\": \"y\", \"text\": \"Switzerland\", \"xanchor\": \"left\", \"xref\": \"x\", \"x\": 1932, \"yanchor\": \"top\", \"font\": {\"size\": 10, \"color\": \"black\"}, \"y\": 3190000, \"showarrow\": false}, {\"yref\": \"y\", \"text\": \"Sweden\", \"xanchor\": \"left\", \"xref\": \"x\", \"x\": 1932, \"yanchor\": \"top\", \"font\": {\"size\": 10, \"color\": \"black\"}, \"y\": 2990000, \"showarrow\": false}, {\"yref\": \"y\", \"text\": \"Chile\", \"xanchor\": \"left\", \"xref\": \"x\", \"x\": 1932, \"yanchor\": \"top\", \"font\": {\"size\": 10, \"color\": \"black\"}, \"y\": 2790000, \"showarrow\": false}, {\"yref\": \"y\", \"text\": \"England\", \"xanchor\": \"left\", \"xref\": \"x\", \"x\": 1932, \"yanchor\": \"top\", \"font\": {\"size\": 10, \"color\": \"black\"}, \"y\": 2590000, \"showarrow\": false}, {\"yref\": \"y\", \"text\": \"Mexico\", \"xanchor\": \"left\", \"xref\": \"x\", \"x\": 1932, \"yanchor\": \"top\", \"font\": {\"size\": 10, \"color\": \"black\"}, \"y\": 2390000, \"showarrow\": false}, {\"yref\": \"y\", \"text\": \"Germany\", \"xanchor\": \"left\", \"xref\": \"x\", \"x\": 1932, \"yanchor\": \"top\", \"font\": {\"size\": 10, \"color\": \"black\"}, \"y\": 2190000, \"showarrow\": false}, {\"yref\": \"y\", \"text\": \"Argentina\", \"xanchor\": \"left\", \"xref\": \"x\", \"x\": 1932, \"yanchor\": \"top\", \"font\": {\"size\": 10, \"color\": \"black\"}, \"y\": 1990000, \"showarrow\": false}, {\"yref\": \"y\", \"text\": \"Spain\", \"xanchor\": \"left\", \"xref\": \"x\", \"x\": 1932, \"yanchor\": \"top\", \"font\": {\"size\": 10, \"color\": \"black\"}, \"y\": 1790000, \"showarrow\": false}, {\"yref\": \"y\", \"text\": \"USA\", \"xanchor\": \"left\", \"xref\": \"x\", \"x\": 1932, \"yanchor\": \"top\", \"font\": {\"size\": 10, \"color\": \"black\"}, \"y\": 1590000, \"showarrow\": false}, {\"yref\": \"y\", \"text\": \"Korea/Japan\", \"xanchor\": \"left\", \"xref\": \"x\", \"x\": 1932, \"yanchor\": \"top\", \"font\": {\"size\": 10, \"color\": \"black\"}, \"y\": 1390000, \"showarrow\": false}, {\"yref\": \"y\", \"text\": \"South Africa\", \"xanchor\": \"left\", \"xref\": \"x\", \"x\": 1932, \"yanchor\": \"top\", \"font\": {\"size\": 10, \"color\": \"black\"}, \"y\": 1190000, \"showarrow\": false}, {\"yref\": \"y\", \"text\": \"Germany FR\", \"xanchor\": \"left\", \"xref\": \"x\", \"x\": 1932, \"yanchor\": \"top\", \"font\": {\"size\": 10, \"color\": \"black\"}, \"y\": 990000, \"showarrow\": false}], \"height\": 750}, {\"showLink\": true, \"linkText\": \"Export to plot.ly\"})});</script>"
      ]
     },
     "metadata": {},
     "output_type": "display_data"
    }
   ],
   "source": [
    "trace = go.Scatter(\n",
    "    x = df['Year'],\n",
    "    y = df['GoalsScored'],\n",
    "    text=df['Winner'],\n",
    "    mode = 'lines+markers',\n",
    "    marker=dict(size=16,color=df['winner_color']),\n",
    "\n",
    "    line = dict(width = 16,color='rgba(50,50,50,0.2)')\n",
    "    )\n",
    "\n",
    "\n",
    "    \n",
    "\n",
    "layout = go.Layout(\n",
    "    paper_bgcolor='rgb(235,235,235)',\n",
    "    plot_bgcolor='rgb(240,240,240)',\n",
    "    xaxis=dict(\n",
    "        showline=False,\n",
    "        tickfont=dict(\n",
    "            family='Arial',\n",
    "            size=12,\n",
    "            color='rgb(0,0,0)'),\n",
    "        #Distance between the ticks\n",
    "        dtick=4,\n",
    "        tick0=1930,\n",
    "        range=[1928,2016],\n",
    "        gridcolor='rgb(255,255,255)'),\n",
    "    yaxis=dict(\n",
    "        tickfont=dict(\n",
    "            family='Arial',\n",
    "            size=12,\n",
    "            color='rgb(12,12,12)'),\n",
    "           # dtick=500000,\n",
    "            gridcolor='rgb(255,255,255)',\n",
    "            range=[0,200]),\n",
    "        title='<b>Football World Cup Winners 1930 to 2014</b>',\n",
    "        height=750,\n",
    "        width=750,\n",
    "    annotations=ano_list,\n",
    "    shapes = shapes\n",
    "    \n",
    ")\n",
    "\n",
    "\n",
    "\n",
    "data = [trace]\n",
    "\n",
    "\n",
    "fig = go.Figure(data = data,layout=layout)\n",
    "py.iplot(fig)"
   ]
  },
  {
   "cell_type": "code",
   "execution_count": 248,
   "metadata": {
    "collapsed": false
   },
   "outputs": [],
   "source": []
  },
  {
   "cell_type": "code",
   "execution_count": 408,
   "metadata": {
    "collapsed": false
   },
   "outputs": [
    {
     "name": "stdout",
     "output_type": "stream",
     "text": [
      "This is the format of your plot grid:\n",
      "[ (1,1) x1,y1 ]\n",
      "[ (2,1) x1,y2 ]\n",
      "\n"
     ]
    },
    {
     "data": {
      "application/vnd.plotly.v1+json": {
       "data": [
        {
         "line": {
          "color": "rgba(50,50,50,0.2)",
          "width": 12
         },
         "marker": {
          "color": [
           "rgb(0.96779755929199129, 0.44127456009157356, 0.53581031550587011)",
           "rgb(0.9688417625390765, 0.46710871459052145, 0.1965441952393453)",
           "rgb(0.8087954113106306, 0.56347000500566935, 0.19502642696727285)",
           "rgb(0.70086333912909171, 0.60803659800755039, 0.19419512204856468)",
           "rgb(0.59208915296397013, 0.64184670163782442, 0.19350691349910429)",
           "rgb(0.42258837810145911, 0.67794350493184496, 0.19271544738133076)",
           "rgb(0.19783576093349015, 0.69555169660630367, 0.39953010374444992)",
           "rgb(0.20518528131112984, 0.68514977385306008, 0.55625277635579118)",
           "rgb(0.21044753832183283, 0.67731050804567483, 0.64339411684686809)",
           "rgb(0.21576108198845112, 0.66904468724155652, 0.72011929920554307)",
           "rgb(0.22335772267769388, 0.6565792317435265, 0.81713555032656326)",
           "rgb(0.35313807153094168, 0.62014082208294807, 0.95861952356347879)",
           "rgb(0.21044753832183283, 0.67731050804567483, 0.64339411684686809)",
           "rgb(0.9688417625390765, 0.46710871459052145, 0.1965441952393453)",
           "rgb(0.64230443492197387, 0.54976800512564672, 0.9582651433656727)",
           "rgb(0.8087954113106306, 0.56347000500566935, 0.19502642696727285)",
           "rgb(0.83970109472639054, 0.4529020995703274, 0.95786380636530077)",
           "rgb(0.21576108198845112, 0.66904468724155652, 0.72011929920554307)",
           "rgb(0.96038885399407026, 0.38143178787721171, 0.86831176508354913)",
           "rgb(0.70086333912909171, 0.60803659800755039, 0.19419512204856468)"
          ],
          "size": 14
         },
         "mode": "lines+markers",
         "name": "test",
         "text": [
          "Uruguay",
          "Italy",
          "France",
          "Brazil",
          "Switzerland",
          "Sweden",
          "Chile",
          "England",
          "Mexico",
          "Germany",
          "Argentina",
          "Spain",
          "Mexico",
          "Italy",
          "USA",
          "France",
          "Korea/Japan",
          "Germany",
          "South Africa",
          "Brazil"
         ],
         "type": "scatter",
         "x": [
          1930,
          1934,
          1938,
          1950,
          1954,
          1958,
          1962,
          1966,
          1970,
          1974,
          1978,
          1982,
          1986,
          1990,
          1994,
          1998,
          2002,
          2006,
          2010,
          2014
         ],
         "xaxis": "x1",
         "y": [
          590549,
          363000,
          375700,
          1045246,
          768607,
          819810,
          893172,
          1563135,
          1603975,
          1865753,
          1545791,
          2109723,
          2394031,
          2516215,
          3587538,
          2785100,
          2705197,
          3359439,
          3178856,
          3386810
         ],
         "yaxis": "y1"
        },
        {
         "line": {
          "color": "rgba(50,50,50,0.2)",
          "width": 12
         },
         "marker": {
          "color": [
           "rgb(0.96779755929199129, 0.44127456009157356, 0.53581031550587011)",
           "rgb(0.9688417625390765, 0.46710871459052145, 0.1965441952393453)",
           "rgb(0.9688417625390765, 0.46710871459052145, 0.1965441952393453)",
           "rgb(0.96779755929199129, 0.44127456009157356, 0.53581031550587011)",
           "rgb(0.9645179518697552, 0.41602112206844516, 0.70882087261006699)",
           "rgb(0.70086333912909171, 0.60803659800755039, 0.19419512204856468)",
           "rgb(0.70086333912909171, 0.60803659800755039, 0.19419512204856468)",
           "rgb(0.20518528131112984, 0.68514977385306008, 0.55625277635579118)",
           "rgb(0.70086333912909171, 0.60803659800755039, 0.19419512204856468)",
           "rgb(0.9645179518697552, 0.41602112206844516, 0.70882087261006699)",
           "rgb(0.22335772267769388, 0.6565792317435265, 0.81713555032656326)",
           "rgb(0.9688417625390765, 0.46710871459052145, 0.1965441952393453)",
           "rgb(0.22335772267769388, 0.6565792317435265, 0.81713555032656326)",
           "rgb(0.9645179518697552, 0.41602112206844516, 0.70882087261006699)",
           "rgb(0.70086333912909171, 0.60803659800755039, 0.19419512204856468)",
           "rgb(0.8087954113106306, 0.56347000500566935, 0.19502642696727285)",
           "rgb(0.70086333912909171, 0.60803659800755039, 0.19419512204856468)",
           "rgb(0.9688417625390765, 0.46710871459052145, 0.1965441952393453)",
           "rgb(0.35313807153094168, 0.62014082208294807, 0.95861952356347879)",
           "rgb(0.21576108198845112, 0.66904468724155652, 0.72011929920554307)"
          ],
          "size": 14
         },
         "mode": "lines+markers",
         "text": [
          "Uruguay",
          "Italy",
          "Italy",
          "Uruguay",
          "Germany FR",
          "Brazil",
          "Brazil",
          "England",
          "Brazil",
          "Germany FR",
          "Argentina",
          "Italy",
          "Argentina",
          "Germany FR",
          "Brazil",
          "France",
          "Brazil",
          "Italy",
          "Spain",
          "Germany"
         ],
         "type": "scatter",
         "x": [
          1930,
          1934,
          1938,
          1950,
          1954,
          1958,
          1962,
          1966,
          1970,
          1974,
          1978,
          1982,
          1986,
          1990,
          1994,
          1998,
          2002,
          2006,
          2010,
          2014
         ],
         "xaxis": "x1",
         "y": [
          70,
          70,
          84,
          88,
          140,
          126,
          89,
          89,
          95,
          97,
          102,
          146,
          132,
          115,
          141,
          171,
          161,
          147,
          145,
          171
         ],
         "yaxis": "y2"
        }
       ],
       "layout": {
        "annotations": [
         {
          "font": {
           "size": 16
          },
          "showarrow": false,
          "text": "<B>Attendance per World Cup</B>",
          "x": 0.5,
          "xanchor": "center",
          "xref": "paper",
          "y": 0.49,
          "yanchor": "bottom",
          "yref": "paper"
         },
         {
          "font": {
           "size": 16
          },
          "showarrow": false,
          "text": "<B>Total Goals scored per World Cup</B>",
          "x": 0.5,
          "xanchor": "center",
          "xref": "paper",
          "y": 1.01,
          "yanchor": "bottom",
          "yref": "paper"
         },
         {
          "font": {
           "color": "black",
           "size": 10
          },
          "showarrow": false,
          "text": "Uruguay",
          "x": 1932,
          "xanchor": "left",
          "xref": "x",
          "y": 3990000,
          "yanchor": "top",
          "yref": "y"
         },
         {
          "font": {
           "color": "black",
           "size": 10
          },
          "showarrow": false,
          "text": "Italy",
          "x": 1932,
          "xanchor": "left",
          "xref": "x",
          "y": 3790000,
          "yanchor": "top",
          "yref": "y"
         },
         {
          "font": {
           "color": "black",
           "size": 10
          },
          "showarrow": false,
          "text": "France",
          "x": 1932,
          "xanchor": "left",
          "xref": "x",
          "y": 3590000,
          "yanchor": "top",
          "yref": "y"
         },
         {
          "font": {
           "color": "black",
           "size": 10
          },
          "showarrow": false,
          "text": "Brazil",
          "x": 1932,
          "xanchor": "left",
          "xref": "x",
          "y": 3390000,
          "yanchor": "top",
          "yref": "y"
         },
         {
          "font": {
           "color": "black",
           "size": 10
          },
          "showarrow": false,
          "text": "Switzerland",
          "x": 1932,
          "xanchor": "left",
          "xref": "x",
          "y": 3190000,
          "yanchor": "top",
          "yref": "y"
         },
         {
          "font": {
           "color": "black",
           "size": 10
          },
          "showarrow": false,
          "text": "Sweden",
          "x": 1932,
          "xanchor": "left",
          "xref": "x",
          "y": 2990000,
          "yanchor": "top",
          "yref": "y"
         },
         {
          "font": {
           "color": "black",
           "size": 10
          },
          "showarrow": false,
          "text": "Chile",
          "x": 1932,
          "xanchor": "left",
          "xref": "x",
          "y": 2790000,
          "yanchor": "top",
          "yref": "y"
         },
         {
          "font": {
           "color": "black",
           "size": 10
          },
          "showarrow": false,
          "text": "England",
          "x": 1932,
          "xanchor": "left",
          "xref": "x",
          "y": 2590000,
          "yanchor": "top",
          "yref": "y"
         },
         {
          "font": {
           "color": "black",
           "size": 10
          },
          "showarrow": false,
          "text": "Mexico",
          "x": 1932,
          "xanchor": "left",
          "xref": "x",
          "y": 2390000,
          "yanchor": "top",
          "yref": "y"
         },
         {
          "font": {
           "color": "black",
           "size": 10
          },
          "showarrow": false,
          "text": "Germany",
          "x": 1932,
          "xanchor": "left",
          "xref": "x",
          "y": 2190000,
          "yanchor": "top",
          "yref": "y"
         },
         {
          "font": {
           "color": "black",
           "size": 10
          },
          "showarrow": false,
          "text": "Argentina",
          "x": 1932,
          "xanchor": "left",
          "xref": "x",
          "y": 1990000,
          "yanchor": "top",
          "yref": "y"
         },
         {
          "font": {
           "color": "black",
           "size": 10
          },
          "showarrow": false,
          "text": "Spain",
          "x": 1932,
          "xanchor": "left",
          "xref": "x",
          "y": 1790000,
          "yanchor": "top",
          "yref": "y"
         },
         {
          "font": {
           "color": "black",
           "size": 10
          },
          "showarrow": false,
          "text": "USA",
          "x": 1932,
          "xanchor": "left",
          "xref": "x",
          "y": 1590000,
          "yanchor": "top",
          "yref": "y"
         },
         {
          "font": {
           "color": "black",
           "size": 10
          },
          "showarrow": false,
          "text": "Korea/Japan",
          "x": 1932,
          "xanchor": "left",
          "xref": "x",
          "y": 1390000,
          "yanchor": "top",
          "yref": "y"
         },
         {
          "font": {
           "color": "black",
           "size": 10
          },
          "showarrow": false,
          "text": "South Africa",
          "x": 1932,
          "xanchor": "left",
          "xref": "x",
          "y": 1190000,
          "yanchor": "top",
          "yref": "y"
         },
         {
          "font": {
           "color": "black",
           "size": 10
          },
          "showarrow": false,
          "text": "Germany FR",
          "x": 1932,
          "xanchor": "left",
          "xref": "x",
          "y": 990000,
          "yanchor": "top",
          "yref": "y"
         }
        ],
        "height": 900,
        "margin": {
         "b": 40,
         "l": 30,
         "r": 20,
         "t": 40
        },
        "paper_bgcolor": "rgb(235,235,235)",
        "shapes": [
         {
          "fillcolor": "rgba(255, 255, 255,0.5)",
          "line": {
           "color": "rgb(0, 0, 0)",
           "width": 1
          },
          "type": "rect",
          "x0": 1928,
          "x1": 1942,
          "xref": "x",
          "y0": 3990000,
          "y1": 800000,
          "yref": "y"
         },
         {
          "fillcolor": "rgb(0.96779755929199129, 0.44127456009157356, 0.53581031550587011)",
          "line": {
           "color": "rgba(50, 171, 96, 1)"
          },
          "type": "rect",
          "x0": 1929,
          "x1": 1932,
          "xref": "x",
          "y0": 3935000,
          "y1": 3835000,
          "yref": "y"
         },
         {
          "fillcolor": "rgb(0.9688417625390765, 0.46710871459052145, 0.1965441952393453)",
          "line": {
           "color": "rgba(50, 171, 96, 1)"
          },
          "type": "rect",
          "x0": 1929,
          "x1": 1932,
          "xref": "x",
          "y0": 3735000,
          "y1": 3635000,
          "yref": "y"
         },
         {
          "fillcolor": "rgb(0.8087954113106306, 0.56347000500566935, 0.19502642696727285)",
          "line": {
           "color": "rgba(50, 171, 96, 1)"
          },
          "type": "rect",
          "x0": 1929,
          "x1": 1932,
          "xref": "x",
          "y0": 3535000,
          "y1": 3435000,
          "yref": "y"
         },
         {
          "fillcolor": "rgb(0.70086333912909171, 0.60803659800755039, 0.19419512204856468)",
          "line": {
           "color": "rgba(50, 171, 96, 1)"
          },
          "type": "rect",
          "x0": 1929,
          "x1": 1932,
          "xref": "x",
          "y0": 3335000,
          "y1": 3235000,
          "yref": "y"
         },
         {
          "fillcolor": "rgb(0.59208915296397013, 0.64184670163782442, 0.19350691349910429)",
          "line": {
           "color": "rgba(50, 171, 96, 1)"
          },
          "type": "rect",
          "x0": 1929,
          "x1": 1932,
          "xref": "x",
          "y0": 3135000,
          "y1": 3035000,
          "yref": "y"
         },
         {
          "fillcolor": "rgb(0.42258837810145911, 0.67794350493184496, 0.19271544738133076)",
          "line": {
           "color": "rgba(50, 171, 96, 1)"
          },
          "type": "rect",
          "x0": 1929,
          "x1": 1932,
          "xref": "x",
          "y0": 2935000,
          "y1": 2835000,
          "yref": "y"
         },
         {
          "fillcolor": "rgb(0.19783576093349015, 0.69555169660630367, 0.39953010374444992)",
          "line": {
           "color": "rgba(50, 171, 96, 1)"
          },
          "type": "rect",
          "x0": 1929,
          "x1": 1932,
          "xref": "x",
          "y0": 2735000,
          "y1": 2635000,
          "yref": "y"
         },
         {
          "fillcolor": "rgb(0.20518528131112984, 0.68514977385306008, 0.55625277635579118)",
          "line": {
           "color": "rgba(50, 171, 96, 1)"
          },
          "type": "rect",
          "x0": 1929,
          "x1": 1932,
          "xref": "x",
          "y0": 2535000,
          "y1": 2435000,
          "yref": "y"
         },
         {
          "fillcolor": "rgb(0.21044753832183283, 0.67731050804567483, 0.64339411684686809)",
          "line": {
           "color": "rgba(50, 171, 96, 1)"
          },
          "type": "rect",
          "x0": 1929,
          "x1": 1932,
          "xref": "x",
          "y0": 2335000,
          "y1": 2235000,
          "yref": "y"
         },
         {
          "fillcolor": "rgb(0.21576108198845112, 0.66904468724155652, 0.72011929920554307)",
          "line": {
           "color": "rgba(50, 171, 96, 1)"
          },
          "type": "rect",
          "x0": 1929,
          "x1": 1932,
          "xref": "x",
          "y0": 2135000,
          "y1": 2035000,
          "yref": "y"
         },
         {
          "fillcolor": "rgb(0.22335772267769388, 0.6565792317435265, 0.81713555032656326)",
          "line": {
           "color": "rgba(50, 171, 96, 1)"
          },
          "type": "rect",
          "x0": 1929,
          "x1": 1932,
          "xref": "x",
          "y0": 1935000,
          "y1": 1835000,
          "yref": "y"
         },
         {
          "fillcolor": "rgb(0.35313807153094168, 0.62014082208294807, 0.95861952356347879)",
          "line": {
           "color": "rgba(50, 171, 96, 1)"
          },
          "type": "rect",
          "x0": 1929,
          "x1": 1932,
          "xref": "x",
          "y0": 1735000,
          "y1": 1635000,
          "yref": "y"
         },
         {
          "fillcolor": "rgb(0.64230443492197387, 0.54976800512564672, 0.9582651433656727)",
          "line": {
           "color": "rgba(50, 171, 96, 1)"
          },
          "type": "rect",
          "x0": 1929,
          "x1": 1932,
          "xref": "x",
          "y0": 1535000,
          "y1": 1435000,
          "yref": "y"
         },
         {
          "fillcolor": "rgb(0.83970109472639054, 0.4529020995703274, 0.95786380636530077)",
          "line": {
           "color": "rgba(50, 171, 96, 1)"
          },
          "type": "rect",
          "x0": 1929,
          "x1": 1932,
          "xref": "x",
          "y0": 1335000,
          "y1": 1235000,
          "yref": "y"
         },
         {
          "fillcolor": "rgb(0.96038885399407026, 0.38143178787721171, 0.86831176508354913)",
          "line": {
           "color": "rgba(50, 171, 96, 1)"
          },
          "type": "rect",
          "x0": 1929,
          "x1": 1932,
          "xref": "x",
          "y0": 1135000,
          "y1": 1035000,
          "yref": "y"
         },
         {
          "fillcolor": "rgb(0.9645179518697552, 0.41602112206844516, 0.70882087261006699)",
          "line": {
           "color": "rgba(50, 171, 96, 1)"
          },
          "type": "rect",
          "x0": 1929,
          "x1": 1932,
          "xref": "x",
          "y0": 935000,
          "y1": 835000,
          "yref": "y"
         }
        ],
        "showlegend": false,
        "width": 900,
        "xaxis": {
         "anchor": "y2",
         "dtick": 4
        },
        "xaxis1": {
         "anchor": "y2",
         "domain": [
          0,
          1
         ]
        },
        "yaxis": {
         "domain": [
          0.53,
          1
         ],
         "dtick": 500000,
         "gridcolor": "rgb(255,255,255)",
         "range": [
          0,
          4000000
         ],
         "tickfont": {
          "color": "rgb(12,12,12)",
          "family": "Arial",
          "size": 12
         }
        },
        "yaxis1": {
         "anchor": "free",
         "domain": [
          0.625,
          1
         ],
         "position": 0
        },
        "yaxis2": {
         "anchor": "x1",
         "domain": [
          0,
          0.48
         ],
         "gridcolor": "rgb(255,255,255)",
         "tickfont": {
          "color": "rgb(12,12,12)",
          "family": "Arial",
          "size": 12
         }
        }
       }
      },
      "text/html": [
       "<div id=\"3f559b44-17ed-4cc1-9af3-6b7e48b5d35c\" style=\"height: 900px; width: 900px;\" class=\"plotly-graph-div\"></div><script type=\"text/javascript\">require([\"plotly\"], function(Plotly) { window.PLOTLYENV=window.PLOTLYENV || {};window.PLOTLYENV.BASE_URL=\"https://plot.ly\";Plotly.newPlot(\"3f559b44-17ed-4cc1-9af3-6b7e48b5d35c\", [{\"text\": [\"Uruguay\", \"Italy\", \"France\", \"Brazil\", \"Switzerland\", \"Sweden\", \"Chile\", \"England\", \"Mexico\", \"Germany\", \"Argentina\", \"Spain\", \"Mexico\", \"Italy\", \"USA\", \"France\", \"Korea/Japan\", \"Germany\", \"South Africa\", \"Brazil\"], \"x\": [1930, 1934, 1938, 1950, 1954, 1958, 1962, 1966, 1970, 1974, 1978, 1982, 1986, 1990, 1994, 1998, 2002, 2006, 2010, 2014], \"yaxis\": \"y1\", \"name\": \"test\", \"xaxis\": \"x1\", \"marker\": {\"size\": 14, \"color\": [\"rgb(0.96779755929199129, 0.44127456009157356, 0.53581031550587011)\", \"rgb(0.9688417625390765, 0.46710871459052145, 0.1965441952393453)\", \"rgb(0.8087954113106306, 0.56347000500566935, 0.19502642696727285)\", \"rgb(0.70086333912909171, 0.60803659800755039, 0.19419512204856468)\", \"rgb(0.59208915296397013, 0.64184670163782442, 0.19350691349910429)\", \"rgb(0.42258837810145911, 0.67794350493184496, 0.19271544738133076)\", \"rgb(0.19783576093349015, 0.69555169660630367, 0.39953010374444992)\", \"rgb(0.20518528131112984, 0.68514977385306008, 0.55625277635579118)\", \"rgb(0.21044753832183283, 0.67731050804567483, 0.64339411684686809)\", \"rgb(0.21576108198845112, 0.66904468724155652, 0.72011929920554307)\", \"rgb(0.22335772267769388, 0.6565792317435265, 0.81713555032656326)\", \"rgb(0.35313807153094168, 0.62014082208294807, 0.95861952356347879)\", \"rgb(0.21044753832183283, 0.67731050804567483, 0.64339411684686809)\", \"rgb(0.9688417625390765, 0.46710871459052145, 0.1965441952393453)\", \"rgb(0.64230443492197387, 0.54976800512564672, 0.9582651433656727)\", \"rgb(0.8087954113106306, 0.56347000500566935, 0.19502642696727285)\", \"rgb(0.83970109472639054, 0.4529020995703274, 0.95786380636530077)\", \"rgb(0.21576108198845112, 0.66904468724155652, 0.72011929920554307)\", \"rgb(0.96038885399407026, 0.38143178787721171, 0.86831176508354913)\", \"rgb(0.70086333912909171, 0.60803659800755039, 0.19419512204856468)\"]}, \"mode\": \"lines+markers\", \"line\": {\"width\": 12, \"color\": \"rgba(50,50,50,0.2)\"}, \"y\": [590549, 363000, 375700, 1045246, 768607, 819810, 893172, 1563135, 1603975, 1865753, 1545791, 2109723, 2394031, 2516215, 3587538, 2785100, 2705197, 3359439, 3178856, 3386810], \"type\": \"scatter\"}, {\"text\": [\"Uruguay\", \"Italy\", \"Italy\", \"Uruguay\", \"Germany FR\", \"Brazil\", \"Brazil\", \"England\", \"Brazil\", \"Germany FR\", \"Argentina\", \"Italy\", \"Argentina\", \"Germany FR\", \"Brazil\", \"France\", \"Brazil\", \"Italy\", \"Spain\", \"Germany\"], \"x\": [1930, 1934, 1938, 1950, 1954, 1958, 1962, 1966, 1970, 1974, 1978, 1982, 1986, 1990, 1994, 1998, 2002, 2006, 2010, 2014], \"yaxis\": \"y2\", \"xaxis\": \"x1\", \"marker\": {\"size\": 14, \"color\": [\"rgb(0.96779755929199129, 0.44127456009157356, 0.53581031550587011)\", \"rgb(0.9688417625390765, 0.46710871459052145, 0.1965441952393453)\", \"rgb(0.9688417625390765, 0.46710871459052145, 0.1965441952393453)\", \"rgb(0.96779755929199129, 0.44127456009157356, 0.53581031550587011)\", \"rgb(0.9645179518697552, 0.41602112206844516, 0.70882087261006699)\", \"rgb(0.70086333912909171, 0.60803659800755039, 0.19419512204856468)\", \"rgb(0.70086333912909171, 0.60803659800755039, 0.19419512204856468)\", \"rgb(0.20518528131112984, 0.68514977385306008, 0.55625277635579118)\", \"rgb(0.70086333912909171, 0.60803659800755039, 0.19419512204856468)\", \"rgb(0.9645179518697552, 0.41602112206844516, 0.70882087261006699)\", \"rgb(0.22335772267769388, 0.6565792317435265, 0.81713555032656326)\", \"rgb(0.9688417625390765, 0.46710871459052145, 0.1965441952393453)\", \"rgb(0.22335772267769388, 0.6565792317435265, 0.81713555032656326)\", \"rgb(0.9645179518697552, 0.41602112206844516, 0.70882087261006699)\", \"rgb(0.70086333912909171, 0.60803659800755039, 0.19419512204856468)\", \"rgb(0.8087954113106306, 0.56347000500566935, 0.19502642696727285)\", \"rgb(0.70086333912909171, 0.60803659800755039, 0.19419512204856468)\", \"rgb(0.9688417625390765, 0.46710871459052145, 0.1965441952393453)\", \"rgb(0.35313807153094168, 0.62014082208294807, 0.95861952356347879)\", \"rgb(0.21576108198845112, 0.66904468724155652, 0.72011929920554307)\"]}, \"mode\": \"lines+markers\", \"line\": {\"width\": 12, \"color\": \"rgba(50,50,50,0.2)\"}, \"y\": [70, 70, 84, 88, 140, 126, 89, 89, 95, 97, 102, 146, 132, 115, 141, 171, 161, 147, 145, 171], \"type\": \"scatter\"}], {\"yaxis1\": {\"anchor\": \"free\", \"position\": 0.0, \"domain\": [0.625, 1.0]}, \"yaxis\": {\"gridcolor\": \"rgb(255,255,255)\", \"range\": [0, 4000000], \"dtick\": 500000, \"domain\": [0.53, 1], \"tickfont\": {\"family\": \"Arial\", \"size\": 12, \"color\": \"rgb(12,12,12)\"}}, \"xaxis\": {\"anchor\": \"y2\", \"dtick\": 4}, \"xaxis1\": {\"anchor\": \"y2\", \"domain\": [0.0, 1.0]}, \"width\": 900, \"margin\": {\"b\": 40, \"r\": 20, \"t\": 40, \"l\": 30}, \"height\": 900, \"shapes\": [{\"yref\": \"y\", \"y1\": 800000, \"x0\": 1928, \"x1\": 1942, \"fillcolor\": \"rgba(255, 255, 255,0.5)\", \"xref\": \"x\", \"y0\": 3990000, \"line\": {\"width\": 1, \"color\": \"rgb(0, 0, 0)\"}, \"type\": \"rect\"}, {\"yref\": \"y\", \"y1\": 3835000, \"x0\": 1929, \"x1\": 1932, \"fillcolor\": \"rgb(0.96779755929199129, 0.44127456009157356, 0.53581031550587011)\", \"xref\": \"x\", \"y0\": 3935000, \"line\": {\"color\": \"rgba(50, 171, 96, 1)\"}, \"type\": \"rect\"}, {\"yref\": \"y\", \"y1\": 3635000, \"x0\": 1929, \"x1\": 1932, \"fillcolor\": \"rgb(0.9688417625390765, 0.46710871459052145, 0.1965441952393453)\", \"xref\": \"x\", \"y0\": 3735000, \"line\": {\"color\": \"rgba(50, 171, 96, 1)\"}, \"type\": \"rect\"}, {\"yref\": \"y\", \"y1\": 3435000, \"x0\": 1929, \"x1\": 1932, \"fillcolor\": \"rgb(0.8087954113106306, 0.56347000500566935, 0.19502642696727285)\", \"xref\": \"x\", \"y0\": 3535000, \"line\": {\"color\": \"rgba(50, 171, 96, 1)\"}, \"type\": \"rect\"}, {\"yref\": \"y\", \"y1\": 3235000, \"x0\": 1929, \"x1\": 1932, \"fillcolor\": \"rgb(0.70086333912909171, 0.60803659800755039, 0.19419512204856468)\", \"xref\": \"x\", \"y0\": 3335000, \"line\": {\"color\": \"rgba(50, 171, 96, 1)\"}, \"type\": \"rect\"}, {\"yref\": \"y\", \"y1\": 3035000, \"x0\": 1929, \"x1\": 1932, \"fillcolor\": \"rgb(0.59208915296397013, 0.64184670163782442, 0.19350691349910429)\", \"xref\": \"x\", \"y0\": 3135000, \"line\": {\"color\": \"rgba(50, 171, 96, 1)\"}, \"type\": \"rect\"}, {\"yref\": \"y\", \"y1\": 2835000, \"x0\": 1929, \"x1\": 1932, \"fillcolor\": \"rgb(0.42258837810145911, 0.67794350493184496, 0.19271544738133076)\", \"xref\": \"x\", \"y0\": 2935000, \"line\": {\"color\": \"rgba(50, 171, 96, 1)\"}, \"type\": \"rect\"}, {\"yref\": \"y\", \"y1\": 2635000, \"x0\": 1929, \"x1\": 1932, \"fillcolor\": \"rgb(0.19783576093349015, 0.69555169660630367, 0.39953010374444992)\", \"xref\": \"x\", \"y0\": 2735000, \"line\": {\"color\": \"rgba(50, 171, 96, 1)\"}, \"type\": \"rect\"}, {\"yref\": \"y\", \"y1\": 2435000, \"x0\": 1929, \"x1\": 1932, \"fillcolor\": \"rgb(0.20518528131112984, 0.68514977385306008, 0.55625277635579118)\", \"xref\": \"x\", \"y0\": 2535000, \"line\": {\"color\": \"rgba(50, 171, 96, 1)\"}, \"type\": \"rect\"}, {\"yref\": \"y\", \"y1\": 2235000, \"x0\": 1929, \"x1\": 1932, \"fillcolor\": \"rgb(0.21044753832183283, 0.67731050804567483, 0.64339411684686809)\", \"xref\": \"x\", \"y0\": 2335000, \"line\": {\"color\": \"rgba(50, 171, 96, 1)\"}, \"type\": \"rect\"}, {\"yref\": \"y\", \"y1\": 2035000, \"x0\": 1929, \"x1\": 1932, \"fillcolor\": \"rgb(0.21576108198845112, 0.66904468724155652, 0.72011929920554307)\", \"xref\": \"x\", \"y0\": 2135000, \"line\": {\"color\": \"rgba(50, 171, 96, 1)\"}, \"type\": \"rect\"}, {\"yref\": \"y\", \"y1\": 1835000, \"x0\": 1929, \"x1\": 1932, \"fillcolor\": \"rgb(0.22335772267769388, 0.6565792317435265, 0.81713555032656326)\", \"xref\": \"x\", \"y0\": 1935000, \"line\": {\"color\": \"rgba(50, 171, 96, 1)\"}, \"type\": \"rect\"}, {\"yref\": \"y\", \"y1\": 1635000, \"x0\": 1929, \"x1\": 1932, \"fillcolor\": \"rgb(0.35313807153094168, 0.62014082208294807, 0.95861952356347879)\", \"xref\": \"x\", \"y0\": 1735000, \"line\": {\"color\": \"rgba(50, 171, 96, 1)\"}, \"type\": \"rect\"}, {\"yref\": \"y\", \"y1\": 1435000, \"x0\": 1929, \"x1\": 1932, \"fillcolor\": \"rgb(0.64230443492197387, 0.54976800512564672, 0.9582651433656727)\", \"xref\": \"x\", \"y0\": 1535000, \"line\": {\"color\": \"rgba(50, 171, 96, 1)\"}, \"type\": \"rect\"}, {\"yref\": \"y\", \"y1\": 1235000, \"x0\": 1929, \"x1\": 1932, \"fillcolor\": \"rgb(0.83970109472639054, 0.4529020995703274, 0.95786380636530077)\", \"xref\": \"x\", \"y0\": 1335000, \"line\": {\"color\": \"rgba(50, 171, 96, 1)\"}, \"type\": \"rect\"}, {\"yref\": \"y\", \"y1\": 1035000, \"x0\": 1929, \"x1\": 1932, \"fillcolor\": \"rgb(0.96038885399407026, 0.38143178787721171, 0.86831176508354913)\", \"xref\": \"x\", \"y0\": 1135000, \"line\": {\"color\": \"rgba(50, 171, 96, 1)\"}, \"type\": \"rect\"}, {\"yref\": \"y\", \"y1\": 835000, \"x0\": 1929, \"x1\": 1932, \"fillcolor\": \"rgb(0.9645179518697552, 0.41602112206844516, 0.70882087261006699)\", \"xref\": \"x\", \"y0\": 935000, \"line\": {\"color\": \"rgba(50, 171, 96, 1)\"}, \"type\": \"rect\"}], \"yaxis2\": {\"gridcolor\": \"rgb(255,255,255)\", \"anchor\": \"x1\", \"tickfont\": {\"family\": \"Arial\", \"size\": 12, \"color\": \"rgb(12,12,12)\"}, \"domain\": [0.0, 0.48]}, \"showlegend\": false, \"paper_bgcolor\": \"rgb(235,235,235)\", \"annotations\": [{\"yref\": \"paper\", \"text\": \"<B>Attendance per World Cup</B>\", \"xanchor\": \"center\", \"xref\": \"paper\", \"x\": 0.5, \"yanchor\": \"bottom\", \"font\": {\"size\": 16}, \"y\": 0.49, \"showarrow\": false}, {\"yref\": \"paper\", \"text\": \"<B>Total Goals scored per World Cup</B>\", \"xanchor\": \"center\", \"xref\": \"paper\", \"x\": 0.5, \"yanchor\": \"bottom\", \"font\": {\"size\": 16}, \"y\": 1.01, \"showarrow\": false}, {\"yref\": \"y\", \"text\": \"Uruguay\", \"xanchor\": \"left\", \"xref\": \"x\", \"x\": 1932, \"yanchor\": \"top\", \"font\": {\"size\": 10, \"color\": \"black\"}, \"y\": 3990000, \"showarrow\": false}, {\"yref\": \"y\", \"text\": \"Italy\", \"xanchor\": \"left\", \"xref\": \"x\", \"x\": 1932, \"yanchor\": \"top\", \"font\": {\"size\": 10, \"color\": \"black\"}, \"y\": 3790000, \"showarrow\": false}, {\"yref\": \"y\", \"text\": \"France\", \"xanchor\": \"left\", \"xref\": \"x\", \"x\": 1932, \"yanchor\": \"top\", \"font\": {\"size\": 10, \"color\": \"black\"}, \"y\": 3590000, \"showarrow\": false}, {\"yref\": \"y\", \"text\": \"Brazil\", \"xanchor\": \"left\", \"xref\": \"x\", \"x\": 1932, \"yanchor\": \"top\", \"font\": {\"size\": 10, \"color\": \"black\"}, \"y\": 3390000, \"showarrow\": false}, {\"yref\": \"y\", \"text\": \"Switzerland\", \"xanchor\": \"left\", \"xref\": \"x\", \"x\": 1932, \"yanchor\": \"top\", \"font\": {\"size\": 10, \"color\": \"black\"}, \"y\": 3190000, \"showarrow\": false}, {\"yref\": \"y\", \"text\": \"Sweden\", \"xanchor\": \"left\", \"xref\": \"x\", \"x\": 1932, \"yanchor\": \"top\", \"font\": {\"size\": 10, \"color\": \"black\"}, \"y\": 2990000, \"showarrow\": false}, {\"yref\": \"y\", \"text\": \"Chile\", \"xanchor\": \"left\", \"xref\": \"x\", \"x\": 1932, \"yanchor\": \"top\", \"font\": {\"size\": 10, \"color\": \"black\"}, \"y\": 2790000, \"showarrow\": false}, {\"yref\": \"y\", \"text\": \"England\", \"xanchor\": \"left\", \"xref\": \"x\", \"x\": 1932, \"yanchor\": \"top\", \"font\": {\"size\": 10, \"color\": \"black\"}, \"y\": 2590000, \"showarrow\": false}, {\"yref\": \"y\", \"text\": \"Mexico\", \"xanchor\": \"left\", \"xref\": \"x\", \"x\": 1932, \"yanchor\": \"top\", \"font\": {\"size\": 10, \"color\": \"black\"}, \"y\": 2390000, \"showarrow\": false}, {\"yref\": \"y\", \"text\": \"Germany\", \"xanchor\": \"left\", \"xref\": \"x\", \"x\": 1932, \"yanchor\": \"top\", \"font\": {\"size\": 10, \"color\": \"black\"}, \"y\": 2190000, \"showarrow\": false}, {\"yref\": \"y\", \"text\": \"Argentina\", \"xanchor\": \"left\", \"xref\": \"x\", \"x\": 1932, \"yanchor\": \"top\", \"font\": {\"size\": 10, \"color\": \"black\"}, \"y\": 1990000, \"showarrow\": false}, {\"yref\": \"y\", \"text\": \"Spain\", \"xanchor\": \"left\", \"xref\": \"x\", \"x\": 1932, \"yanchor\": \"top\", \"font\": {\"size\": 10, \"color\": \"black\"}, \"y\": 1790000, \"showarrow\": false}, {\"yref\": \"y\", \"text\": \"USA\", \"xanchor\": \"left\", \"xref\": \"x\", \"x\": 1932, \"yanchor\": \"top\", \"font\": {\"size\": 10, \"color\": \"black\"}, \"y\": 1590000, \"showarrow\": false}, {\"yref\": \"y\", \"text\": \"Korea/Japan\", \"xanchor\": \"left\", \"xref\": \"x\", \"x\": 1932, \"yanchor\": \"top\", \"font\": {\"size\": 10, \"color\": \"black\"}, \"y\": 1390000, \"showarrow\": false}, {\"yref\": \"y\", \"text\": \"South Africa\", \"xanchor\": \"left\", \"xref\": \"x\", \"x\": 1932, \"yanchor\": \"top\", \"font\": {\"size\": 10, \"color\": \"black\"}, \"y\": 1190000, \"showarrow\": false}, {\"yref\": \"y\", \"text\": \"Germany FR\", \"xanchor\": \"left\", \"xref\": \"x\", \"x\": 1932, \"yanchor\": \"top\", \"font\": {\"size\": 10, \"color\": \"black\"}, \"y\": 990000, \"showarrow\": false}]}, {\"showLink\": true, \"linkText\": \"Export to plot.ly\"})});</script>"
      ],
      "text/vnd.plotly.v1+html": [
       "<div id=\"3f559b44-17ed-4cc1-9af3-6b7e48b5d35c\" style=\"height: 900px; width: 900px;\" class=\"plotly-graph-div\"></div><script type=\"text/javascript\">require([\"plotly\"], function(Plotly) { window.PLOTLYENV=window.PLOTLYENV || {};window.PLOTLYENV.BASE_URL=\"https://plot.ly\";Plotly.newPlot(\"3f559b44-17ed-4cc1-9af3-6b7e48b5d35c\", [{\"text\": [\"Uruguay\", \"Italy\", \"France\", \"Brazil\", \"Switzerland\", \"Sweden\", \"Chile\", \"England\", \"Mexico\", \"Germany\", \"Argentina\", \"Spain\", \"Mexico\", \"Italy\", \"USA\", \"France\", \"Korea/Japan\", \"Germany\", \"South Africa\", \"Brazil\"], \"x\": [1930, 1934, 1938, 1950, 1954, 1958, 1962, 1966, 1970, 1974, 1978, 1982, 1986, 1990, 1994, 1998, 2002, 2006, 2010, 2014], \"yaxis\": \"y1\", \"name\": \"test\", \"xaxis\": \"x1\", \"marker\": {\"size\": 14, \"color\": [\"rgb(0.96779755929199129, 0.44127456009157356, 0.53581031550587011)\", \"rgb(0.9688417625390765, 0.46710871459052145, 0.1965441952393453)\", \"rgb(0.8087954113106306, 0.56347000500566935, 0.19502642696727285)\", \"rgb(0.70086333912909171, 0.60803659800755039, 0.19419512204856468)\", \"rgb(0.59208915296397013, 0.64184670163782442, 0.19350691349910429)\", \"rgb(0.42258837810145911, 0.67794350493184496, 0.19271544738133076)\", \"rgb(0.19783576093349015, 0.69555169660630367, 0.39953010374444992)\", \"rgb(0.20518528131112984, 0.68514977385306008, 0.55625277635579118)\", \"rgb(0.21044753832183283, 0.67731050804567483, 0.64339411684686809)\", \"rgb(0.21576108198845112, 0.66904468724155652, 0.72011929920554307)\", \"rgb(0.22335772267769388, 0.6565792317435265, 0.81713555032656326)\", \"rgb(0.35313807153094168, 0.62014082208294807, 0.95861952356347879)\", \"rgb(0.21044753832183283, 0.67731050804567483, 0.64339411684686809)\", \"rgb(0.9688417625390765, 0.46710871459052145, 0.1965441952393453)\", \"rgb(0.64230443492197387, 0.54976800512564672, 0.9582651433656727)\", \"rgb(0.8087954113106306, 0.56347000500566935, 0.19502642696727285)\", \"rgb(0.83970109472639054, 0.4529020995703274, 0.95786380636530077)\", \"rgb(0.21576108198845112, 0.66904468724155652, 0.72011929920554307)\", \"rgb(0.96038885399407026, 0.38143178787721171, 0.86831176508354913)\", \"rgb(0.70086333912909171, 0.60803659800755039, 0.19419512204856468)\"]}, \"mode\": \"lines+markers\", \"line\": {\"width\": 12, \"color\": \"rgba(50,50,50,0.2)\"}, \"y\": [590549, 363000, 375700, 1045246, 768607, 819810, 893172, 1563135, 1603975, 1865753, 1545791, 2109723, 2394031, 2516215, 3587538, 2785100, 2705197, 3359439, 3178856, 3386810], \"type\": \"scatter\"}, {\"text\": [\"Uruguay\", \"Italy\", \"Italy\", \"Uruguay\", \"Germany FR\", \"Brazil\", \"Brazil\", \"England\", \"Brazil\", \"Germany FR\", \"Argentina\", \"Italy\", \"Argentina\", \"Germany FR\", \"Brazil\", \"France\", \"Brazil\", \"Italy\", \"Spain\", \"Germany\"], \"x\": [1930, 1934, 1938, 1950, 1954, 1958, 1962, 1966, 1970, 1974, 1978, 1982, 1986, 1990, 1994, 1998, 2002, 2006, 2010, 2014], \"yaxis\": \"y2\", \"xaxis\": \"x1\", \"marker\": {\"size\": 14, \"color\": [\"rgb(0.96779755929199129, 0.44127456009157356, 0.53581031550587011)\", \"rgb(0.9688417625390765, 0.46710871459052145, 0.1965441952393453)\", \"rgb(0.9688417625390765, 0.46710871459052145, 0.1965441952393453)\", \"rgb(0.96779755929199129, 0.44127456009157356, 0.53581031550587011)\", \"rgb(0.9645179518697552, 0.41602112206844516, 0.70882087261006699)\", \"rgb(0.70086333912909171, 0.60803659800755039, 0.19419512204856468)\", \"rgb(0.70086333912909171, 0.60803659800755039, 0.19419512204856468)\", \"rgb(0.20518528131112984, 0.68514977385306008, 0.55625277635579118)\", \"rgb(0.70086333912909171, 0.60803659800755039, 0.19419512204856468)\", \"rgb(0.9645179518697552, 0.41602112206844516, 0.70882087261006699)\", \"rgb(0.22335772267769388, 0.6565792317435265, 0.81713555032656326)\", \"rgb(0.9688417625390765, 0.46710871459052145, 0.1965441952393453)\", \"rgb(0.22335772267769388, 0.6565792317435265, 0.81713555032656326)\", \"rgb(0.9645179518697552, 0.41602112206844516, 0.70882087261006699)\", \"rgb(0.70086333912909171, 0.60803659800755039, 0.19419512204856468)\", \"rgb(0.8087954113106306, 0.56347000500566935, 0.19502642696727285)\", \"rgb(0.70086333912909171, 0.60803659800755039, 0.19419512204856468)\", \"rgb(0.9688417625390765, 0.46710871459052145, 0.1965441952393453)\", \"rgb(0.35313807153094168, 0.62014082208294807, 0.95861952356347879)\", \"rgb(0.21576108198845112, 0.66904468724155652, 0.72011929920554307)\"]}, \"mode\": \"lines+markers\", \"line\": {\"width\": 12, \"color\": \"rgba(50,50,50,0.2)\"}, \"y\": [70, 70, 84, 88, 140, 126, 89, 89, 95, 97, 102, 146, 132, 115, 141, 171, 161, 147, 145, 171], \"type\": \"scatter\"}], {\"yaxis1\": {\"anchor\": \"free\", \"position\": 0.0, \"domain\": [0.625, 1.0]}, \"yaxis\": {\"gridcolor\": \"rgb(255,255,255)\", \"range\": [0, 4000000], \"dtick\": 500000, \"domain\": [0.53, 1], \"tickfont\": {\"family\": \"Arial\", \"size\": 12, \"color\": \"rgb(12,12,12)\"}}, \"xaxis\": {\"anchor\": \"y2\", \"dtick\": 4}, \"xaxis1\": {\"anchor\": \"y2\", \"domain\": [0.0, 1.0]}, \"width\": 900, \"margin\": {\"b\": 40, \"r\": 20, \"t\": 40, \"l\": 30}, \"height\": 900, \"shapes\": [{\"yref\": \"y\", \"y1\": 800000, \"x0\": 1928, \"x1\": 1942, \"fillcolor\": \"rgba(255, 255, 255,0.5)\", \"xref\": \"x\", \"y0\": 3990000, \"line\": {\"width\": 1, \"color\": \"rgb(0, 0, 0)\"}, \"type\": \"rect\"}, {\"yref\": \"y\", \"y1\": 3835000, \"x0\": 1929, \"x1\": 1932, \"fillcolor\": \"rgb(0.96779755929199129, 0.44127456009157356, 0.53581031550587011)\", \"xref\": \"x\", \"y0\": 3935000, \"line\": {\"color\": \"rgba(50, 171, 96, 1)\"}, \"type\": \"rect\"}, {\"yref\": \"y\", \"y1\": 3635000, \"x0\": 1929, \"x1\": 1932, \"fillcolor\": \"rgb(0.9688417625390765, 0.46710871459052145, 0.1965441952393453)\", \"xref\": \"x\", \"y0\": 3735000, \"line\": {\"color\": \"rgba(50, 171, 96, 1)\"}, \"type\": \"rect\"}, {\"yref\": \"y\", \"y1\": 3435000, \"x0\": 1929, \"x1\": 1932, \"fillcolor\": \"rgb(0.8087954113106306, 0.56347000500566935, 0.19502642696727285)\", \"xref\": \"x\", \"y0\": 3535000, \"line\": {\"color\": \"rgba(50, 171, 96, 1)\"}, \"type\": \"rect\"}, {\"yref\": \"y\", \"y1\": 3235000, \"x0\": 1929, \"x1\": 1932, \"fillcolor\": \"rgb(0.70086333912909171, 0.60803659800755039, 0.19419512204856468)\", \"xref\": \"x\", \"y0\": 3335000, \"line\": {\"color\": \"rgba(50, 171, 96, 1)\"}, \"type\": \"rect\"}, {\"yref\": \"y\", \"y1\": 3035000, \"x0\": 1929, \"x1\": 1932, \"fillcolor\": \"rgb(0.59208915296397013, 0.64184670163782442, 0.19350691349910429)\", \"xref\": \"x\", \"y0\": 3135000, \"line\": {\"color\": \"rgba(50, 171, 96, 1)\"}, \"type\": \"rect\"}, {\"yref\": \"y\", \"y1\": 2835000, \"x0\": 1929, \"x1\": 1932, \"fillcolor\": \"rgb(0.42258837810145911, 0.67794350493184496, 0.19271544738133076)\", \"xref\": \"x\", \"y0\": 2935000, \"line\": {\"color\": \"rgba(50, 171, 96, 1)\"}, \"type\": \"rect\"}, {\"yref\": \"y\", \"y1\": 2635000, \"x0\": 1929, \"x1\": 1932, \"fillcolor\": \"rgb(0.19783576093349015, 0.69555169660630367, 0.39953010374444992)\", \"xref\": \"x\", \"y0\": 2735000, \"line\": {\"color\": \"rgba(50, 171, 96, 1)\"}, \"type\": \"rect\"}, {\"yref\": \"y\", \"y1\": 2435000, \"x0\": 1929, \"x1\": 1932, \"fillcolor\": \"rgb(0.20518528131112984, 0.68514977385306008, 0.55625277635579118)\", \"xref\": \"x\", \"y0\": 2535000, \"line\": {\"color\": \"rgba(50, 171, 96, 1)\"}, \"type\": \"rect\"}, {\"yref\": \"y\", \"y1\": 2235000, \"x0\": 1929, \"x1\": 1932, \"fillcolor\": \"rgb(0.21044753832183283, 0.67731050804567483, 0.64339411684686809)\", \"xref\": \"x\", \"y0\": 2335000, \"line\": {\"color\": \"rgba(50, 171, 96, 1)\"}, \"type\": \"rect\"}, {\"yref\": \"y\", \"y1\": 2035000, \"x0\": 1929, \"x1\": 1932, \"fillcolor\": \"rgb(0.21576108198845112, 0.66904468724155652, 0.72011929920554307)\", \"xref\": \"x\", \"y0\": 2135000, \"line\": {\"color\": \"rgba(50, 171, 96, 1)\"}, \"type\": \"rect\"}, {\"yref\": \"y\", \"y1\": 1835000, \"x0\": 1929, \"x1\": 1932, \"fillcolor\": \"rgb(0.22335772267769388, 0.6565792317435265, 0.81713555032656326)\", \"xref\": \"x\", \"y0\": 1935000, \"line\": {\"color\": \"rgba(50, 171, 96, 1)\"}, \"type\": \"rect\"}, {\"yref\": \"y\", \"y1\": 1635000, \"x0\": 1929, \"x1\": 1932, \"fillcolor\": \"rgb(0.35313807153094168, 0.62014082208294807, 0.95861952356347879)\", \"xref\": \"x\", \"y0\": 1735000, \"line\": {\"color\": \"rgba(50, 171, 96, 1)\"}, \"type\": \"rect\"}, {\"yref\": \"y\", \"y1\": 1435000, \"x0\": 1929, \"x1\": 1932, \"fillcolor\": \"rgb(0.64230443492197387, 0.54976800512564672, 0.9582651433656727)\", \"xref\": \"x\", \"y0\": 1535000, \"line\": {\"color\": \"rgba(50, 171, 96, 1)\"}, \"type\": \"rect\"}, {\"yref\": \"y\", \"y1\": 1235000, \"x0\": 1929, \"x1\": 1932, \"fillcolor\": \"rgb(0.83970109472639054, 0.4529020995703274, 0.95786380636530077)\", \"xref\": \"x\", \"y0\": 1335000, \"line\": {\"color\": \"rgba(50, 171, 96, 1)\"}, \"type\": \"rect\"}, {\"yref\": \"y\", \"y1\": 1035000, \"x0\": 1929, \"x1\": 1932, \"fillcolor\": \"rgb(0.96038885399407026, 0.38143178787721171, 0.86831176508354913)\", \"xref\": \"x\", \"y0\": 1135000, \"line\": {\"color\": \"rgba(50, 171, 96, 1)\"}, \"type\": \"rect\"}, {\"yref\": \"y\", \"y1\": 835000, \"x0\": 1929, \"x1\": 1932, \"fillcolor\": \"rgb(0.9645179518697552, 0.41602112206844516, 0.70882087261006699)\", \"xref\": \"x\", \"y0\": 935000, \"line\": {\"color\": \"rgba(50, 171, 96, 1)\"}, \"type\": \"rect\"}], \"yaxis2\": {\"gridcolor\": \"rgb(255,255,255)\", \"anchor\": \"x1\", \"tickfont\": {\"family\": \"Arial\", \"size\": 12, \"color\": \"rgb(12,12,12)\"}, \"domain\": [0.0, 0.48]}, \"showlegend\": false, \"paper_bgcolor\": \"rgb(235,235,235)\", \"annotations\": [{\"yref\": \"paper\", \"text\": \"<B>Attendance per World Cup</B>\", \"xanchor\": \"center\", \"xref\": \"paper\", \"x\": 0.5, \"yanchor\": \"bottom\", \"font\": {\"size\": 16}, \"y\": 0.49, \"showarrow\": false}, {\"yref\": \"paper\", \"text\": \"<B>Total Goals scored per World Cup</B>\", \"xanchor\": \"center\", \"xref\": \"paper\", \"x\": 0.5, \"yanchor\": \"bottom\", \"font\": {\"size\": 16}, \"y\": 1.01, \"showarrow\": false}, {\"yref\": \"y\", \"text\": \"Uruguay\", \"xanchor\": \"left\", \"xref\": \"x\", \"x\": 1932, \"yanchor\": \"top\", \"font\": {\"size\": 10, \"color\": \"black\"}, \"y\": 3990000, \"showarrow\": false}, {\"yref\": \"y\", \"text\": \"Italy\", \"xanchor\": \"left\", \"xref\": \"x\", \"x\": 1932, \"yanchor\": \"top\", \"font\": {\"size\": 10, \"color\": \"black\"}, \"y\": 3790000, \"showarrow\": false}, {\"yref\": \"y\", \"text\": \"France\", \"xanchor\": \"left\", \"xref\": \"x\", \"x\": 1932, \"yanchor\": \"top\", \"font\": {\"size\": 10, \"color\": \"black\"}, \"y\": 3590000, \"showarrow\": false}, {\"yref\": \"y\", \"text\": \"Brazil\", \"xanchor\": \"left\", \"xref\": \"x\", \"x\": 1932, \"yanchor\": \"top\", \"font\": {\"size\": 10, \"color\": \"black\"}, \"y\": 3390000, \"showarrow\": false}, {\"yref\": \"y\", \"text\": \"Switzerland\", \"xanchor\": \"left\", \"xref\": \"x\", \"x\": 1932, \"yanchor\": \"top\", \"font\": {\"size\": 10, \"color\": \"black\"}, \"y\": 3190000, \"showarrow\": false}, {\"yref\": \"y\", \"text\": \"Sweden\", \"xanchor\": \"left\", \"xref\": \"x\", \"x\": 1932, \"yanchor\": \"top\", \"font\": {\"size\": 10, \"color\": \"black\"}, \"y\": 2990000, \"showarrow\": false}, {\"yref\": \"y\", \"text\": \"Chile\", \"xanchor\": \"left\", \"xref\": \"x\", \"x\": 1932, \"yanchor\": \"top\", \"font\": {\"size\": 10, \"color\": \"black\"}, \"y\": 2790000, \"showarrow\": false}, {\"yref\": \"y\", \"text\": \"England\", \"xanchor\": \"left\", \"xref\": \"x\", \"x\": 1932, \"yanchor\": \"top\", \"font\": {\"size\": 10, \"color\": \"black\"}, \"y\": 2590000, \"showarrow\": false}, {\"yref\": \"y\", \"text\": \"Mexico\", \"xanchor\": \"left\", \"xref\": \"x\", \"x\": 1932, \"yanchor\": \"top\", \"font\": {\"size\": 10, \"color\": \"black\"}, \"y\": 2390000, \"showarrow\": false}, {\"yref\": \"y\", \"text\": \"Germany\", \"xanchor\": \"left\", \"xref\": \"x\", \"x\": 1932, \"yanchor\": \"top\", \"font\": {\"size\": 10, \"color\": \"black\"}, \"y\": 2190000, \"showarrow\": false}, {\"yref\": \"y\", \"text\": \"Argentina\", \"xanchor\": \"left\", \"xref\": \"x\", \"x\": 1932, \"yanchor\": \"top\", \"font\": {\"size\": 10, \"color\": \"black\"}, \"y\": 1990000, \"showarrow\": false}, {\"yref\": \"y\", \"text\": \"Spain\", \"xanchor\": \"left\", \"xref\": \"x\", \"x\": 1932, \"yanchor\": \"top\", \"font\": {\"size\": 10, \"color\": \"black\"}, \"y\": 1790000, \"showarrow\": false}, {\"yref\": \"y\", \"text\": \"USA\", \"xanchor\": \"left\", \"xref\": \"x\", \"x\": 1932, \"yanchor\": \"top\", \"font\": {\"size\": 10, \"color\": \"black\"}, \"y\": 1590000, \"showarrow\": false}, {\"yref\": \"y\", \"text\": \"Korea/Japan\", \"xanchor\": \"left\", \"xref\": \"x\", \"x\": 1932, \"yanchor\": \"top\", \"font\": {\"size\": 10, \"color\": \"black\"}, \"y\": 1390000, \"showarrow\": false}, {\"yref\": \"y\", \"text\": \"South Africa\", \"xanchor\": \"left\", \"xref\": \"x\", \"x\": 1932, \"yanchor\": \"top\", \"font\": {\"size\": 10, \"color\": \"black\"}, \"y\": 1190000, \"showarrow\": false}, {\"yref\": \"y\", \"text\": \"Germany FR\", \"xanchor\": \"left\", \"xref\": \"x\", \"x\": 1932, \"yanchor\": \"top\", \"font\": {\"size\": 10, \"color\": \"black\"}, \"y\": 990000, \"showarrow\": false}]}, {\"showLink\": true, \"linkText\": \"Export to plot.ly\"})});</script>"
      ]
     },
     "metadata": {},
     "output_type": "display_data"
    }
   ],
   "source": [
    "ano_list = []\n",
    "for i in range(len(countries)):\n",
    "    ano =  dict(\n",
    "            x=1932,\n",
    "            y= 3990000 -200000 *i,\n",
    "            xref='x',\n",
    "            yref='y',\n",
    "            text=countries[i],\n",
    "     font = dict(\n",
    "          color = \"black\",\n",
    "          size = 10\n",
    "        ),\n",
    "        xanchor='left',\n",
    "        yanchor='top',\n",
    "        showarrow=False,)\n",
    "    ano_list.append(ano)\n",
    "    \n",
    "    \n",
    "   \n",
    "shapes = [# Rectangle reference to the axes\n",
    "        {\n",
    "            'type': 'rect',\n",
    "            'xref': 'x',\n",
    "            'yref': 'y',\n",
    "            'x0': 1928,\n",
    "            'y0': 3990000,\n",
    "            'x1': 1942,\n",
    "            'y1': 800000,\n",
    "            \n",
    "            'line': {\n",
    "                'color': 'rgb(0, 0, 0)',\n",
    "                'width': 1,\n",
    "            },\n",
    "            'fillcolor': 'rgba(255, 255, 255,0.5)',\n",
    "        }]\n",
    "\n",
    "for i in range(len(countries)):\n",
    "    ts =    {\n",
    "            'type': 'rect',\n",
    "            'xref': 'x',\n",
    "            'yref': 'y',\n",
    "            'fillcolor': cmp[countries[i]],\n",
    "            'x0': 1929,\n",
    "            'y0': 3935000 -200000 *i,\n",
    "            'x1': 1932,\n",
    "            'y1': 3835000 - 200000 * i,\n",
    "            'line': {\n",
    "                'color': 'rgba(50, 171, 96, 1)',\n",
    "            }}\n",
    "    shapes.append(ts)\n",
    "\n",
    "\n",
    "trace1 = go.Scatter(\n",
    "    x = df['Year'],\n",
    "    y = df['Attendance'],\n",
    "    text=df['Country'],\n",
    "    mode = 'lines+markers',\n",
    "    marker=dict(size=14,color=df['host_color']),\n",
    "    line = dict(width = 12,color='rgba(50,50,50,0.2)'),\n",
    "    xaxis='x',\n",
    "    name='test',\n",
    "    yaxis='y'\n",
    "    )\n",
    "\n",
    "trace2 = go.Scatter(\n",
    "    x = df['Year'],\n",
    "    y = df['GoalsScored'],\n",
    "    text=df['Winner'],\n",
    "    mode = 'lines+markers',\n",
    "    marker=dict(size=14,color=df['winner_color']),\n",
    "    line = dict(width = 12,color='rgba(50,50,50,0.2)'),\n",
    "    yaxis='y2',\n",
    "    xaxis='x'\n",
    "    )\n",
    "\n",
    "lay = go.Layout(\n",
    "    yaxis=dict(\n",
    "        tickfont=dict(\n",
    "            family='Arial',\n",
    "            size=12,\n",
    "            color='rgb(12,12,12)'),\n",
    "            dtick=500000,\n",
    "            gridcolor='rgb(255,255,255)',\n",
    "            domain=[0.53,1],\n",
    "            range=[0,4000000]),\n",
    "    yaxis2=dict(\n",
    "        tickfont=dict(\n",
    "            family='Arial',\n",
    "            size=12,\n",
    "            color='rgb(12,12,12)'),\n",
    "            gridcolor='rgb(255,255,255)',\n",
    "            domain=[0.0,0.48]\n",
    "    ),\n",
    "    \n",
    "    height=900, \n",
    "    width=900,\n",
    "    showlegend=False,\n",
    "    xaxis=dict(\n",
    "        dtick=4,\n",
    "        anchor='y2'),\n",
    "     paper_bgcolor='rgb(235,235,235)',\n",
    "    shapes = shapes,\n",
    "    margin = go.Margin(t=40,r=20,l=30,b=40)\n",
    ")\n",
    "\n",
    "    \n",
    "\n",
    "\n",
    "\n",
    "titles = ['<B>Attendance per World Cup</B>','<B>Total Goals scored per World Cup</B>']\n",
    "\n",
    "fig = tools.make_subplots(rows=2, cols=1,shared_xaxes=True,horizontal_spacing=0.2,subplot_titles = titles,shared_yaxes=False)\n",
    "\n",
    "fig.append_trace(trace1,1, 1)\n",
    "fig.append_trace(trace2, 2, 1)\n",
    "\n",
    "#Title positions - \n",
    "fig['layout']['annotations'][1]['y'] = 1.01\n",
    "fig['layout']['annotations'][0]['y'] = 0.49\n",
    "\n",
    "fig['layout']['annotations'].extend(ano_list)\n",
    "fig['layout'].update(lay)\n",
    "py.iplot(fig)\n",
    "\n"
   ]
  },
  {
   "cell_type": "code",
   "execution_count": null,
   "metadata": {
    "collapsed": true
   },
   "outputs": [],
   "source": []
  }
 ],
 "metadata": {
  "kernelspec": {
   "display_name": "Python [conda env:Anaconda3]",
   "language": "python",
   "name": "conda-env-Anaconda3-py"
  },
  "language_info": {
   "codemirror_mode": {
    "name": "ipython",
    "version": 3
   },
   "file_extension": ".py",
   "mimetype": "text/x-python",
   "name": "python",
   "nbconvert_exporter": "python",
   "pygments_lexer": "ipython3",
   "version": "3.5.2"
  }
 },
 "nbformat": 4,
 "nbformat_minor": 2
}
