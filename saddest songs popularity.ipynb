{
 "cells": [
  {
   "cell_type": "code",
   "execution_count": 1,
   "metadata": {
    "collapsed": false
   },
   "outputs": [
    {
     "name": "stderr",
     "output_type": "stream",
     "text": [
      "C:\\Users\\caine\\Anaconda3\\lib\\site-packages\\requests\\__init__.py:80: RequestsDependencyWarning: urllib3 (1.22) or chardet (2.3.0) doesn't match a supported version!\n",
      "  RequestsDependencyWarning)\n"
     ]
    },
    {
     "data": {
      "text/html": [
       "<script>requirejs.config({paths: { 'plotly': ['https://cdn.plot.ly/plotly-latest.min']},});if(!window.Plotly) {{require(['plotly'],function(plotly) {window.Plotly=plotly;});}}</script>"
      ],
      "text/vnd.plotly.v1+html": [
       "<script>requirejs.config({paths: { 'plotly': ['https://cdn.plot.ly/plotly-latest.min']},});if(!window.Plotly) {{require(['plotly'],function(plotly) {window.Plotly=plotly;});}}</script>"
      ]
     },
     "metadata": {},
     "output_type": "display_data"
    }
   ],
   "source": [
    "import spotipy \n",
    "import sys\n",
    "from spotipy.oauth2 import SpotifyClientCredentials\n",
    "import pandas as pd\n",
    "%matplotlib inline\n",
    "import plotly as plt\n",
    "import plotly.graph_objs as go\n",
    "from plotly.offline import download_plotlyjs, init_notebook_mode, plot, iplot\n",
    "init_notebook_mode(connected=True)"
   ]
  },
  {
   "cell_type": "code",
   "execution_count": 2,
   "metadata": {
    "collapsed": true
   },
   "outputs": [],
   "source": [
    "\n",
    "client_credentials_manager = SpotifyClientCredentials(client_id='48928fe2c90a4776b6ca5f5542feaace',\n",
    "                                                      client_secret='a17ff5d3a98443fd91100a2b4b2eb6da')\n",
    "\n",
    "\n",
    "sp = spotipy.Spotify(client_credentials_manager=client_credentials_manager)"
   ]
  },
  {
   "cell_type": "code",
   "execution_count": 7,
   "metadata": {
    "collapsed": true
   },
   "outputs": [],
   "source": [
    "c = sp.search('nothing else matters',limit=1,type='track')\n",
    "c['tracks']['items'][0]['id']\n",
    "sp.track('10igKaIKsSB6ZnWxPxPvKO')['popularity']"
   ]
  },
  {
   "cell_type": "code",
   "execution_count": 40,
   "metadata": {
    "collapsed": true
   },
   "outputs": [],
   "source": [
    "def get_album_valence(album):\n",
    "    album_v = []\n",
    "    for i in sp.album_tracks(get_album(album)['id'])['items']:\n",
    "        track_v = []\n",
    "        track_v.append(i['name'])\n",
    "        track_v.append(get_valence_id(i['id']))\n",
    "        track_v.append(sp.track(i['id'])['popularity'])\n",
    "        album_v.append(track_v)\n",
    "    return album_v\n",
    "\n"
   ]
  },
  {
   "cell_type": "code",
   "execution_count": 41,
   "metadata": {
    "collapsed": false
   },
   "outputs": [
    {
     "data": {
      "text/plain": [
       "[['A Spindle, A Darkness, A Fever, And A Necklace', 0.2, 24],\n",
       " ['A Scale, A Mirror And Those Indifferent Clocks', 0.171, 30],\n",
       " ['The Calendar Hung Itself…', 0.568, 37],\n",
       " ['Something Vague', 0.174, 37],\n",
       " ['The Movement Of A Hand', 0.133, 26],\n",
       " ['Arienette', 0.209, 27],\n",
       " ['When The Curious Girl Realizes She Is Under Glass', 0.447, 25],\n",
       " ['Haligh, Haligh, A Lie, Haligh', 0.5, 35],\n",
       " ['The Center Of The World', 0.149, 27],\n",
       " ['Sunrise, Sunset', 0.237, 32],\n",
       " ['An Attempt To Tip The Scales', 0.267, 30],\n",
       " ['A Song To Pass The Time', 0.303, 25]]"
      ]
     },
     "execution_count": 41,
     "metadata": {},
     "output_type": "execute_result"
    }
   ],
   "source": [
    "get_album_valence('fevers and mirrors')"
   ]
  },
  {
   "cell_type": "code",
   "execution_count": 24,
   "metadata": {
    "collapsed": true
   },
   "outputs": [],
   "source": [
    "def get_album(album):\n",
    "    \n",
    "    results = sp.search(q=album, type='album')\n",
    "    items = results['albums']['items']\n",
    "    return items[0]"
   ]
  },
  {
   "cell_type": "code",
   "execution_count": 25,
   "metadata": {
    "collapsed": true
   },
   "outputs": [],
   "source": [
    "def get_valence_id(id):\n",
    "    results = sp.audio_features(id)\n",
    "    return results[0]['valence']\n"
   ]
  },
  {
   "cell_type": "code",
   "execution_count": null,
   "metadata": {
    "collapsed": true
   },
   "outputs": [],
   "source": [
    "def get_popularity(id):\n",
    "    results = sp.tra"
   ]
  },
  {
   "cell_type": "code",
   "execution_count": 112,
   "metadata": {
    "collapsed": true
   },
   "outputs": [],
   "source": [
    "def get_album_stats(album):\n",
    "    df = pd.DataFrame(get_album_valence(album),columns=['title','valence','popularity'])\n",
    "    avg = [(df['valence'].mean())] * len(df)\n",
    "\n",
    "    trace1 = go.Scatter(\n",
    "        x=df['title'],\n",
    "        y = df['valence'],\n",
    "        name = 'valence',\n",
    "        yaxis='y2',\n",
    "        line=dict(width=4,color='black'))\n",
    "\n",
    "    trace2 = go.Bar(\n",
    "        x = df['title'],\n",
    "        y = df['popularity'],\n",
    "        name = 'popularity',)\n",
    "\n",
    "    trace3 = go.Scatter(\n",
    "        x = df['title'],\n",
    "        y= avg,\n",
    "        yaxis='y2',\n",
    "        line=dict(width=1,color='grey'),\n",
    "        name='album average',\n",
    "        mode='lines')\n",
    "\n",
    "    layout = go.Layout(\n",
    "        title = 'What is the popuplarity and sadness of songs ascross your favorite album',\n",
    "        yaxis = dict(title='popularity'),\n",
    "        yaxis2 = dict(title='valence',side='right',overlaying='y'),\n",
    "        width=900,\n",
    "        height=650,\n",
    "        margin=go.Margin(b=125))\n",
    "\n",
    "    data = [trace1,trace2,trace3]\n",
    "\n",
    "    fig = go.Figure(data=data, layout = layout)\n",
    "\n",
    "    iplot(fig)\n",
    "    return df"
   ]
  },
  {
   "cell_type": "code",
   "execution_count": 114,
   "metadata": {
    "collapsed": false
   },
   "outputs": [
    {
     "data": {
      "application/vnd.plotly.v1+json": {
       "data": [
        {
         "line": {
          "color": "black",
          "width": 4
         },
         "name": "valence",
         "type": "scatter",
         "x": [
          "Thunder Road",
          "Tenth Avenue Freeze-Out",
          "Night",
          "Backstreets",
          "Born to Run",
          "She's the One",
          "Meeting Across the River",
          "Jungleland"
         ],
         "y": [
          0.663,
          0.918,
          0.714,
          0.599,
          0.606,
          0.568,
          0.256,
          0.183
         ],
         "yaxis": "y2"
        },
        {
         "name": "popularity",
         "type": "bar",
         "x": [
          "Thunder Road",
          "Tenth Avenue Freeze-Out",
          "Night",
          "Backstreets",
          "Born to Run",
          "She's the One",
          "Meeting Across the River",
          "Jungleland"
         ],
         "y": [
          66,
          53,
          42,
          52,
          69,
          45,
          42,
          50
         ]
        },
        {
         "line": {
          "color": "grey",
          "width": 1
         },
         "mode": "lines",
         "name": "album average",
         "type": "scatter",
         "x": [
          "Thunder Road",
          "Tenth Avenue Freeze-Out",
          "Night",
          "Backstreets",
          "Born to Run",
          "She's the One",
          "Meeting Across the River",
          "Jungleland"
         ],
         "y": [
          0.563375,
          0.563375,
          0.563375,
          0.563375,
          0.563375,
          0.563375,
          0.563375,
          0.563375
         ],
         "yaxis": "y2"
        }
       ],
       "layout": {
        "height": 650,
        "margin": {
         "b": 125
        },
        "title": "What is the popuplarity and sadness of songs ascross your favorite album",
        "width": 900,
        "yaxis": {
         "title": "popularity"
        },
        "yaxis2": {
         "overlaying": "y",
         "side": "right",
         "title": "valence"
        }
       }
      },
      "text/html": [
       "<div id=\"fdea26b3-de16-47ba-8dea-24af29679826\" style=\"height: 650px; width: 900px;\" class=\"plotly-graph-div\"></div><script type=\"text/javascript\">require([\"plotly\"], function(Plotly) { window.PLOTLYENV=window.PLOTLYENV || {};window.PLOTLYENV.BASE_URL=\"https://plot.ly\";Plotly.newPlot(\"fdea26b3-de16-47ba-8dea-24af29679826\", [{\"y\": [0.663, 0.918, 0.714, 0.599, 0.606, 0.568, 0.256, 0.183], \"type\": \"scatter\", \"yaxis\": \"y2\", \"x\": [\"Thunder Road\", \"Tenth Avenue Freeze-Out\", \"Night\", \"Backstreets\", \"Born to Run\", \"She's the One\", \"Meeting Across the River\", \"Jungleland\"], \"name\": \"valence\", \"line\": {\"width\": 4, \"color\": \"black\"}}, {\"y\": [66, 53, 42, 52, 69, 45, 42, 50], \"x\": [\"Thunder Road\", \"Tenth Avenue Freeze-Out\", \"Night\", \"Backstreets\", \"Born to Run\", \"She's the One\", \"Meeting Across the River\", \"Jungleland\"], \"name\": \"popularity\", \"type\": \"bar\"}, {\"y\": [0.563375, 0.563375, 0.563375, 0.563375, 0.563375, 0.563375, 0.563375, 0.563375], \"yaxis\": \"y2\", \"type\": \"scatter\", \"mode\": \"lines\", \"x\": [\"Thunder Road\", \"Tenth Avenue Freeze-Out\", \"Night\", \"Backstreets\", \"Born to Run\", \"She's the One\", \"Meeting Across the River\", \"Jungleland\"], \"name\": \"album average\", \"line\": {\"width\": 1, \"color\": \"grey\"}}], {\"yaxis2\": {\"side\": \"right\", \"overlaying\": \"y\", \"title\": \"valence\"}, \"margin\": {\"b\": 125}, \"height\": 650, \"title\": \"What is the popuplarity and sadness of songs ascross your favorite album\", \"width\": 900, \"yaxis\": {\"title\": \"popularity\"}}, {\"linkText\": \"Export to plot.ly\", \"showLink\": true})});</script>"
      ],
      "text/vnd.plotly.v1+html": [
       "<div id=\"fdea26b3-de16-47ba-8dea-24af29679826\" style=\"height: 650px; width: 900px;\" class=\"plotly-graph-div\"></div><script type=\"text/javascript\">require([\"plotly\"], function(Plotly) { window.PLOTLYENV=window.PLOTLYENV || {};window.PLOTLYENV.BASE_URL=\"https://plot.ly\";Plotly.newPlot(\"fdea26b3-de16-47ba-8dea-24af29679826\", [{\"y\": [0.663, 0.918, 0.714, 0.599, 0.606, 0.568, 0.256, 0.183], \"type\": \"scatter\", \"yaxis\": \"y2\", \"x\": [\"Thunder Road\", \"Tenth Avenue Freeze-Out\", \"Night\", \"Backstreets\", \"Born to Run\", \"She's the One\", \"Meeting Across the River\", \"Jungleland\"], \"name\": \"valence\", \"line\": {\"width\": 4, \"color\": \"black\"}}, {\"y\": [66, 53, 42, 52, 69, 45, 42, 50], \"x\": [\"Thunder Road\", \"Tenth Avenue Freeze-Out\", \"Night\", \"Backstreets\", \"Born to Run\", \"She's the One\", \"Meeting Across the River\", \"Jungleland\"], \"name\": \"popularity\", \"type\": \"bar\"}, {\"y\": [0.563375, 0.563375, 0.563375, 0.563375, 0.563375, 0.563375, 0.563375, 0.563375], \"yaxis\": \"y2\", \"type\": \"scatter\", \"mode\": \"lines\", \"x\": [\"Thunder Road\", \"Tenth Avenue Freeze-Out\", \"Night\", \"Backstreets\", \"Born to Run\", \"She's the One\", \"Meeting Across the River\", \"Jungleland\"], \"name\": \"album average\", \"line\": {\"width\": 1, \"color\": \"grey\"}}], {\"yaxis2\": {\"side\": \"right\", \"overlaying\": \"y\", \"title\": \"valence\"}, \"margin\": {\"b\": 125}, \"height\": 650, \"title\": \"What is the popuplarity and sadness of songs ascross your favorite album\", \"width\": 900, \"yaxis\": {\"title\": \"popularity\"}}, {\"linkText\": \"Export to plot.ly\", \"showLink\": true})});</script>"
      ]
     },
     "metadata": {},
     "output_type": "display_data"
    }
   ],
   "source": [
    "fm = get_album_stats('born to run')"
   ]
  },
  {
   "cell_type": "code",
   "execution_count": 115,
   "metadata": {
    "collapsed": false
   },
   "outputs": [
    {
     "data": {
      "application/vnd.plotly.v1+json": {
       "data": [
        {
         "line": {
          "color": "black",
          "width": 4
         },
         "name": "valence",
         "type": "scatter",
         "x": [
          "Nebraska",
          "Atlantic City",
          "Mansion On the Hill",
          "Johnny 99",
          "Highway Patrolman",
          "State Trooper",
          "Used Cars",
          "Open All Night",
          "My Father's House",
          "Reason to Believe"
         ],
         "y": [
          0.151,
          0.34,
          0.178,
          0.137,
          0.192,
          0.599,
          0.186,
          0.542,
          0.335,
          0.13
         ],
         "yaxis": "y2"
        },
        {
         "name": "popularity",
         "type": "bar",
         "x": [
          "Nebraska",
          "Atlantic City",
          "Mansion On the Hill",
          "Johnny 99",
          "Highway Patrolman",
          "State Trooper",
          "Used Cars",
          "Open All Night",
          "My Father's House",
          "Reason to Believe"
         ],
         "y": [
          48,
          54,
          39,
          47,
          40,
          44,
          37,
          37,
          39,
          38
         ]
        },
        {
         "line": {
          "color": "grey",
          "width": 1
         },
         "mode": "lines",
         "name": "album average",
         "type": "scatter",
         "x": [
          "Nebraska",
          "Atlantic City",
          "Mansion On the Hill",
          "Johnny 99",
          "Highway Patrolman",
          "State Trooper",
          "Used Cars",
          "Open All Night",
          "My Father's House",
          "Reason to Believe"
         ],
         "y": [
          0.279,
          0.279,
          0.279,
          0.279,
          0.279,
          0.279,
          0.279,
          0.279,
          0.279,
          0.279
         ],
         "yaxis": "y2"
        }
       ],
       "layout": {
        "height": 650,
        "margin": {
         "b": 125
        },
        "title": "What is the popuplarity and sadness of songs ascross your favorite album",
        "width": 900,
        "yaxis": {
         "title": "popularity"
        },
        "yaxis2": {
         "overlaying": "y",
         "side": "right",
         "title": "valence"
        }
       }
      },
      "text/html": [
       "<div id=\"a3739a77-9e58-4ebd-9a66-a91a72432ec6\" style=\"height: 650px; width: 900px;\" class=\"plotly-graph-div\"></div><script type=\"text/javascript\">require([\"plotly\"], function(Plotly) { window.PLOTLYENV=window.PLOTLYENV || {};window.PLOTLYENV.BASE_URL=\"https://plot.ly\";Plotly.newPlot(\"a3739a77-9e58-4ebd-9a66-a91a72432ec6\", [{\"y\": [0.151, 0.34, 0.178, 0.137, 0.192, 0.599, 0.186, 0.542, 0.335, 0.13], \"type\": \"scatter\", \"yaxis\": \"y2\", \"x\": [\"Nebraska\", \"Atlantic City\", \"Mansion On the Hill\", \"Johnny 99\", \"Highway Patrolman\", \"State Trooper\", \"Used Cars\", \"Open All Night\", \"My Father's House\", \"Reason to Believe\"], \"name\": \"valence\", \"line\": {\"width\": 4, \"color\": \"black\"}}, {\"y\": [48, 54, 39, 47, 40, 44, 37, 37, 39, 38], \"x\": [\"Nebraska\", \"Atlantic City\", \"Mansion On the Hill\", \"Johnny 99\", \"Highway Patrolman\", \"State Trooper\", \"Used Cars\", \"Open All Night\", \"My Father's House\", \"Reason to Believe\"], \"name\": \"popularity\", \"type\": \"bar\"}, {\"y\": [0.279, 0.279, 0.279, 0.279, 0.279, 0.279, 0.279, 0.279, 0.279, 0.279], \"yaxis\": \"y2\", \"type\": \"scatter\", \"mode\": \"lines\", \"x\": [\"Nebraska\", \"Atlantic City\", \"Mansion On the Hill\", \"Johnny 99\", \"Highway Patrolman\", \"State Trooper\", \"Used Cars\", \"Open All Night\", \"My Father's House\", \"Reason to Believe\"], \"name\": \"album average\", \"line\": {\"width\": 1, \"color\": \"grey\"}}], {\"yaxis2\": {\"side\": \"right\", \"overlaying\": \"y\", \"title\": \"valence\"}, \"margin\": {\"b\": 125}, \"height\": 650, \"title\": \"What is the popuplarity and sadness of songs ascross your favorite album\", \"width\": 900, \"yaxis\": {\"title\": \"popularity\"}}, {\"linkText\": \"Export to plot.ly\", \"showLink\": true})});</script>"
      ],
      "text/vnd.plotly.v1+html": [
       "<div id=\"a3739a77-9e58-4ebd-9a66-a91a72432ec6\" style=\"height: 650px; width: 900px;\" class=\"plotly-graph-div\"></div><script type=\"text/javascript\">require([\"plotly\"], function(Plotly) { window.PLOTLYENV=window.PLOTLYENV || {};window.PLOTLYENV.BASE_URL=\"https://plot.ly\";Plotly.newPlot(\"a3739a77-9e58-4ebd-9a66-a91a72432ec6\", [{\"y\": [0.151, 0.34, 0.178, 0.137, 0.192, 0.599, 0.186, 0.542, 0.335, 0.13], \"type\": \"scatter\", \"yaxis\": \"y2\", \"x\": [\"Nebraska\", \"Atlantic City\", \"Mansion On the Hill\", \"Johnny 99\", \"Highway Patrolman\", \"State Trooper\", \"Used Cars\", \"Open All Night\", \"My Father's House\", \"Reason to Believe\"], \"name\": \"valence\", \"line\": {\"width\": 4, \"color\": \"black\"}}, {\"y\": [48, 54, 39, 47, 40, 44, 37, 37, 39, 38], \"x\": [\"Nebraska\", \"Atlantic City\", \"Mansion On the Hill\", \"Johnny 99\", \"Highway Patrolman\", \"State Trooper\", \"Used Cars\", \"Open All Night\", \"My Father's House\", \"Reason to Believe\"], \"name\": \"popularity\", \"type\": \"bar\"}, {\"y\": [0.279, 0.279, 0.279, 0.279, 0.279, 0.279, 0.279, 0.279, 0.279, 0.279], \"yaxis\": \"y2\", \"type\": \"scatter\", \"mode\": \"lines\", \"x\": [\"Nebraska\", \"Atlantic City\", \"Mansion On the Hill\", \"Johnny 99\", \"Highway Patrolman\", \"State Trooper\", \"Used Cars\", \"Open All Night\", \"My Father's House\", \"Reason to Believe\"], \"name\": \"album average\", \"line\": {\"width\": 1, \"color\": \"grey\"}}], {\"yaxis2\": {\"side\": \"right\", \"overlaying\": \"y\", \"title\": \"valence\"}, \"margin\": {\"b\": 125}, \"height\": 650, \"title\": \"What is the popuplarity and sadness of songs ascross your favorite album\", \"width\": 900, \"yaxis\": {\"title\": \"popularity\"}}, {\"linkText\": \"Export to plot.ly\", \"showLink\": true})});</script>"
      ]
     },
     "metadata": {},
     "output_type": "display_data"
    }
   ],
   "source": [
    "fm = get_album_stats('nebraska')"
   ]
  },
  {
   "cell_type": "code",
   "execution_count": 107,
   "metadata": {
    "collapsed": false
   },
   "outputs": [
    {
     "data": {
      "application/vnd.plotly.v1+json": {
       "data": [
        {
         "line": {
          "color": "black",
          "width": 4
         },
         "name": "valence",
         "type": "scatter",
         "x": [
          "A Spindle, A Darkness, A Fever, And A Necklace",
          "A Scale, A Mirror And Those Indifferent Clocks",
          "The Calendar Hung Itself…",
          "Something Vague",
          "The Movement Of A Hand",
          "Arienette",
          "When The Curious Girl Realizes She Is Under Glass",
          "Haligh, Haligh, A Lie, Haligh",
          "The Center Of The World",
          "Sunrise, Sunset",
          "An Attempt To Tip The Scales",
          "A Song To Pass The Time"
         ],
         "y": [
          0.2,
          0.171,
          0.568,
          0.174,
          0.133,
          0.209,
          0.447,
          0.5,
          0.149,
          0.237,
          0.267,
          0.303
         ],
         "yaxis": "y2"
        },
        {
         "name": "popularity",
         "type": "bar",
         "x": [
          "A Spindle, A Darkness, A Fever, And A Necklace",
          "A Scale, A Mirror And Those Indifferent Clocks",
          "The Calendar Hung Itself…",
          "Something Vague",
          "The Movement Of A Hand",
          "Arienette",
          "When The Curious Girl Realizes She Is Under Glass",
          "Haligh, Haligh, A Lie, Haligh",
          "The Center Of The World",
          "Sunrise, Sunset",
          "An Attempt To Tip The Scales",
          "A Song To Pass The Time"
         ],
         "y": [
          24,
          30,
          37,
          37,
          26,
          27,
          25,
          35,
          27,
          32,
          30,
          25
         ]
        },
        {
         "line": {
          "color": "grey",
          "width": 2
         },
         "mode": "lines",
         "name": "album average",
         "type": "scatter",
         "x": [
          "A Spindle, A Darkness, A Fever, And A Necklace",
          "A Scale, A Mirror And Those Indifferent Clocks",
          "The Calendar Hung Itself…",
          "Something Vague",
          "The Movement Of A Hand",
          "Arienette",
          "When The Curious Girl Realizes She Is Under Glass",
          "Haligh, Haligh, A Lie, Haligh",
          "The Center Of The World",
          "Sunrise, Sunset",
          "An Attempt To Tip The Scales",
          "A Song To Pass The Time"
         ],
         "y": [
          0.2798333333333333,
          0.2798333333333333,
          0.2798333333333333,
          0.2798333333333333,
          0.2798333333333333,
          0.2798333333333333,
          0.2798333333333333,
          0.2798333333333333,
          0.2798333333333333,
          0.2798333333333333,
          0.2798333333333333,
          0.2798333333333333
         ],
         "yaxis": "y2"
        }
       ],
       "layout": {
        "height": 650,
        "margin": {
         "b": 100
        },
        "title": "What is the popuplarity and sadness of songs accross your favorite album",
        "width": 900,
        "yaxis": {
         "title": "popularity"
        },
        "yaxis2": {
         "overlaying": "y",
         "side": "right",
         "title": "valence"
        }
       }
      },
      "text/html": [
       "<div id=\"554a830b-a772-492b-b4bd-3eb3f9ce486e\" style=\"height: 650px; width: 900px;\" class=\"plotly-graph-div\"></div><script type=\"text/javascript\">require([\"plotly\"], function(Plotly) { window.PLOTLYENV=window.PLOTLYENV || {};window.PLOTLYENV.BASE_URL=\"https://plot.ly\";Plotly.newPlot(\"554a830b-a772-492b-b4bd-3eb3f9ce486e\", [{\"y\": [0.2, 0.171, 0.568, 0.174, 0.133, 0.209, 0.447, 0.5, 0.149, 0.237, 0.267, 0.303], \"type\": \"scatter\", \"yaxis\": \"y2\", \"x\": [\"A Spindle, A Darkness, A Fever, And A Necklace\", \"A Scale, A Mirror And Those Indifferent Clocks\", \"The Calendar Hung Itself\\u2026\", \"Something Vague\", \"The Movement Of A Hand\", \"Arienette\", \"When The Curious Girl Realizes She Is Under Glass\", \"Haligh, Haligh, A Lie, Haligh\", \"The Center Of The World\", \"Sunrise, Sunset\", \"An Attempt To Tip The Scales\", \"A Song To Pass The Time\"], \"name\": \"valence\", \"line\": {\"width\": 4, \"color\": \"black\"}}, {\"y\": [24, 30, 37, 37, 26, 27, 25, 35, 27, 32, 30, 25], \"x\": [\"A Spindle, A Darkness, A Fever, And A Necklace\", \"A Scale, A Mirror And Those Indifferent Clocks\", \"The Calendar Hung Itself\\u2026\", \"Something Vague\", \"The Movement Of A Hand\", \"Arienette\", \"When The Curious Girl Realizes She Is Under Glass\", \"Haligh, Haligh, A Lie, Haligh\", \"The Center Of The World\", \"Sunrise, Sunset\", \"An Attempt To Tip The Scales\", \"A Song To Pass The Time\"], \"name\": \"popularity\", \"type\": \"bar\"}, {\"y\": [0.2798333333333333, 0.2798333333333333, 0.2798333333333333, 0.2798333333333333, 0.2798333333333333, 0.2798333333333333, 0.2798333333333333, 0.2798333333333333, 0.2798333333333333, 0.2798333333333333, 0.2798333333333333, 0.2798333333333333], \"yaxis\": \"y2\", \"type\": \"scatter\", \"mode\": \"lines\", \"x\": [\"A Spindle, A Darkness, A Fever, And A Necklace\", \"A Scale, A Mirror And Those Indifferent Clocks\", \"The Calendar Hung Itself\\u2026\", \"Something Vague\", \"The Movement Of A Hand\", \"Arienette\", \"When The Curious Girl Realizes She Is Under Glass\", \"Haligh, Haligh, A Lie, Haligh\", \"The Center Of The World\", \"Sunrise, Sunset\", \"An Attempt To Tip The Scales\", \"A Song To Pass The Time\"], \"name\": \"album average\", \"line\": {\"width\": 2, \"color\": \"grey\"}}], {\"yaxis2\": {\"side\": \"right\", \"overlaying\": \"y\", \"title\": \"valence\"}, \"margin\": {\"b\": 100}, \"height\": 650, \"title\": \"What is the popuplarity and sadness of songs accross your favorite album\", \"width\": 900, \"yaxis\": {\"title\": \"popularity\"}}, {\"linkText\": \"Export to plot.ly\", \"showLink\": true})});</script>"
      ],
      "text/vnd.plotly.v1+html": [
       "<div id=\"554a830b-a772-492b-b4bd-3eb3f9ce486e\" style=\"height: 650px; width: 900px;\" class=\"plotly-graph-div\"></div><script type=\"text/javascript\">require([\"plotly\"], function(Plotly) { window.PLOTLYENV=window.PLOTLYENV || {};window.PLOTLYENV.BASE_URL=\"https://plot.ly\";Plotly.newPlot(\"554a830b-a772-492b-b4bd-3eb3f9ce486e\", [{\"y\": [0.2, 0.171, 0.568, 0.174, 0.133, 0.209, 0.447, 0.5, 0.149, 0.237, 0.267, 0.303], \"type\": \"scatter\", \"yaxis\": \"y2\", \"x\": [\"A Spindle, A Darkness, A Fever, And A Necklace\", \"A Scale, A Mirror And Those Indifferent Clocks\", \"The Calendar Hung Itself\\u2026\", \"Something Vague\", \"The Movement Of A Hand\", \"Arienette\", \"When The Curious Girl Realizes She Is Under Glass\", \"Haligh, Haligh, A Lie, Haligh\", \"The Center Of The World\", \"Sunrise, Sunset\", \"An Attempt To Tip The Scales\", \"A Song To Pass The Time\"], \"name\": \"valence\", \"line\": {\"width\": 4, \"color\": \"black\"}}, {\"y\": [24, 30, 37, 37, 26, 27, 25, 35, 27, 32, 30, 25], \"x\": [\"A Spindle, A Darkness, A Fever, And A Necklace\", \"A Scale, A Mirror And Those Indifferent Clocks\", \"The Calendar Hung Itself\\u2026\", \"Something Vague\", \"The Movement Of A Hand\", \"Arienette\", \"When The Curious Girl Realizes She Is Under Glass\", \"Haligh, Haligh, A Lie, Haligh\", \"The Center Of The World\", \"Sunrise, Sunset\", \"An Attempt To Tip The Scales\", \"A Song To Pass The Time\"], \"name\": \"popularity\", \"type\": \"bar\"}, {\"y\": [0.2798333333333333, 0.2798333333333333, 0.2798333333333333, 0.2798333333333333, 0.2798333333333333, 0.2798333333333333, 0.2798333333333333, 0.2798333333333333, 0.2798333333333333, 0.2798333333333333, 0.2798333333333333, 0.2798333333333333], \"yaxis\": \"y2\", \"type\": \"scatter\", \"mode\": \"lines\", \"x\": [\"A Spindle, A Darkness, A Fever, And A Necklace\", \"A Scale, A Mirror And Those Indifferent Clocks\", \"The Calendar Hung Itself\\u2026\", \"Something Vague\", \"The Movement Of A Hand\", \"Arienette\", \"When The Curious Girl Realizes She Is Under Glass\", \"Haligh, Haligh, A Lie, Haligh\", \"The Center Of The World\", \"Sunrise, Sunset\", \"An Attempt To Tip The Scales\", \"A Song To Pass The Time\"], \"name\": \"album average\", \"line\": {\"width\": 2, \"color\": \"grey\"}}], {\"yaxis2\": {\"side\": \"right\", \"overlaying\": \"y\", \"title\": \"valence\"}, \"margin\": {\"b\": 100}, \"height\": 650, \"title\": \"What is the popuplarity and sadness of songs accross your favorite album\", \"width\": 900, \"yaxis\": {\"title\": \"popularity\"}}, {\"linkText\": \"Export to plot.ly\", \"showLink\": true})});</script>"
      ]
     },
     "metadata": {},
     "output_type": "display_data"
    }
   ],
   "source": [
    "avg = [(df['valence'].mean())] * len(df)\n",
    "\n",
    "trace1 = go.Scatter(\n",
    "    x=df['title'],\n",
    "    y = df['valence'],\n",
    "    name = 'valence',\n",
    "    yaxis='y2',\n",
    "    line=dict(width=4,color='black'))\n",
    "\n",
    "trace2 = go.Bar(\n",
    "    x = df['title'],\n",
    "    y = df['popularity'],\n",
    "    name = 'popularity',)\n",
    "\n",
    "trace3 = go.Scatter(\n",
    "    x = df['title'],\n",
    "    y= avg,\n",
    "    yaxis='y2',\n",
    "    line=dict(width=2,color='grey'),\n",
    "    name='album average',\n",
    "    mode='lines')\n",
    "\n",
    "layout = go.Layout(\n",
    "    title = 'What is the popuplarity and sadness of songs accross your favorite album',\n",
    "    yaxis = dict(title='popularity'),\n",
    "    yaxis2 = dict(title='valence',side='right',overlaying='y'),\n",
    "    width=900,\n",
    "    height=650,\n",
    "    margin=go.Margin(b=100))\n",
    "\n",
    "data = [trace1,trace2,trace3]\n",
    "\n",
    "fig = go.Figure(data=data, layout = layout)\n",
    "\n",
    "iplot(fig)"
   ]
  },
  {
   "cell_type": "code",
   "execution_count": null,
   "metadata": {
    "collapsed": true
   },
   "outputs": [],
   "source": []
  },
  {
   "cell_type": "code",
   "execution_count": null,
   "metadata": {
    "collapsed": true
   },
   "outputs": [],
   "source": []
  }
 ],
 "metadata": {
  "kernelspec": {
   "display_name": "Python [conda env:Anaconda3]",
   "language": "python",
   "name": "conda-env-Anaconda3-py"
  },
  "language_info": {
   "codemirror_mode": {
    "name": "ipython",
    "version": 3
   },
   "file_extension": ".py",
   "mimetype": "text/x-python",
   "name": "python",
   "nbconvert_exporter": "python",
   "pygments_lexer": "ipython3",
   "version": "3.5.2"
  }
 },
 "nbformat": 4,
 "nbformat_minor": 2
}
